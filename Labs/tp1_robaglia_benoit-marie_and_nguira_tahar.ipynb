{
 "cells": [
  {
   "cell_type": "markdown",
   "metadata": {},
   "source": [
    "# TP1 : First order methods on regression models\n",
    "\n",
    "#### Authors: A. Gramfort, R. Gower\n",
    "\n",
    "## Aim\n",
    "\n",
    "The aim of this material is to code \n",
    "- proximal gradient descent (ISTA)\n",
    "- accelerated gradient descent (FISTA) \n",
    "\n",
    "for \n",
    "- linear regression\n",
    "- logistic regression \n",
    "\n",
    "models.\n",
    "\n",
    "The proximal operators we will use are the \n",
    "- ridge penalization\n",
    "- L1 penalization\n",
    "\n",
    "## VERY IMPORTANT\n",
    "\n",
    "- This work **must be done by pairs of students**.\n",
    "- **Each** student must send their work **before the 8th of october at 23:59**, using the **moodle platform**.\n",
    "- This means that **each student in the pair sends the same file**\n",
    "- On the moodle, in the \"Optimization for Data Science\" course, you have a \"devoir\" section called **Rendu TP du 2 octobre 2017**. This is where you submit your jupyter notebook file. \n",
    "- The **name of the file must be** constructed as in the next cell\n",
    "\n",
    "# Gentle reminder: no evaluation if you don't respect this EXACTLY\n",
    "\n",
    "### How to construct the name of your file"
   ]
  },
  {
   "cell_type": "code",
   "execution_count": 4,
   "metadata": {
    "collapsed": false,
    "scrolled": false
   },
   "outputs": [
    {
     "name": "stdout",
     "output_type": "stream",
     "text": [
      "tp1_robaglia_benoit-marie_and_nguira_tahar.ipynb\n"
     ]
    }
   ],
   "source": [
    "# Change here using YOUR first and last names\n",
    "fn1 = \"benoit-marie\"\n",
    "ln1 = \"robaglia\"\n",
    "fn2 = \"tahar\"\n",
    "ln2 = \"nguira\"\n",
    "\n",
    "filename = \"_\".join(map(lambda s: s.strip().lower(), \n",
    "                        [\"tp1\", ln1, fn1, \"and\", ln2, fn2])) + \".ipynb\"\n",
    "print(filename)"
   ]
  },
  {
   "cell_type": "code",
   "execution_count": 1,
   "metadata": {
    "collapsed": true
   },
   "outputs": [],
   "source": [
    "## to embed figures in the notebook\n",
    "%matplotlib inline"
   ]
  },
  {
   "cell_type": "markdown",
   "metadata": {},
   "source": [
    "## Part 0 : Introduction\n",
    "\n",
    "We'll start by generating sparse vectors and simulating data\n",
    "\n",
    "### Getting sparse coefficients"
   ]
  },
  {
   "cell_type": "code",
   "execution_count": 2,
   "metadata": {
    "collapsed": true
   },
   "outputs": [],
   "source": [
    "import numpy as np\n",
    "import matplotlib.pyplot as plt\n",
    "\n",
    "np.set_printoptions(precision=2)  # to have simpler print outputs with numpy"
   ]
  },
  {
   "cell_type": "code",
   "execution_count": 3,
   "metadata": {
    "collapsed": false,
    "scrolled": false
   },
   "outputs": [
    {
     "data": {
      "text/plain": [
       "<matplotlib.text.Text at 0x1077f1198>"
      ]
     },
     "execution_count": 3,
     "metadata": {},
     "output_type": "execute_result"
    },
    {
     "data": {
      "image/png": "[encoded data removed]",
      "text/plain": [
       "<matplotlib.figure.Figure at 0x1077a7240>"
      ]
     },
     "metadata": {},
     "output_type": "display_data"
    }
   ],
   "source": [
    "n_features = 50\n",
    "n_samples = 1000\n",
    "idx = np.arange(n_features)\n",
    "coefs = ((-1) ** idx) * np.exp(-idx / 10.)\n",
    "coefs[20:] = 0.\n",
    "plt.stem(coefs)\n",
    "plt.title(\"Parameters / Coefficients\")"
   ]
  },
  {
   "cell_type": "markdown",
   "metadata": {},
   "source": [
    "### Functions for the simulation of the models"
   ]
  },
  {
   "cell_type": "code",
   "execution_count": 4,
   "metadata": {
    "collapsed": true
   },
   "outputs": [],
   "source": [
    "from numpy.random import multivariate_normal\n",
    "from scipy.linalg.special_matrices import toeplitz\n",
    "from numpy.random import randn\n",
    "\n",
    "\n",
    "def simu_linreg(coefs, n_samples=1000, corr=0.5):\n",
    "    \"\"\"Simulation of a linear regression model\n",
    "    \n",
    "    Parameters\n",
    "    ----------\n",
    "    coefs : `numpy.array`, shape=(n_features,)\n",
    "        Coefficients of the model\n",
    "    \n",
    "    n_samples : `int`, default=1000\n",
    "        Number of samples to simulate\n",
    "    \n",
    "    corr : `float`, default=0.5\n",
    "        Correlation of the features\n",
    "\n",
    "    Returns\n",
    "    -------\n",
    "    A : `numpy.ndarray`, shape=(n_samples, n_features)\n",
    "        Simulated features matrix. It samples of a centered Gaussian \n",
    "        vector with covariance given by the Toeplitz matrix\n",
    "    \n",
    "    b : `numpy.array`, shape=(n_samples,)\n",
    "        Simulated labels\n",
    "    \"\"\"\n",
    "    # Construction of a covariance matrix\n",
    "    cov = toeplitz(corr ** np.arange(0, n_features))\n",
    "    # Simulation of features\n",
    "    A = multivariate_normal(np.zeros(n_features), cov, size=n_samples)\n",
    "    # Simulation of the labels\n",
    "    b = A.dot(coefs) + randn(n_samples)\n",
    "    return A, b\n",
    "\n",
    "\n",
    "def sigmoid(t):\n",
    "    \"\"\"Sigmoid function\"\"\"\n",
    "    return 1. / (1. + np.exp(-t))\n",
    "\n",
    "\n",
    "def simu_logreg(coefs, n_samples=1000, corr=0.5):\n",
    "    \"\"\"Simulation of a logistic regression model\n",
    "    \n",
    "    Parameters\n",
    "    ----------\n",
    "    coefs : `numpy.array`, shape=(n_features,)\n",
    "        Coefficients of the model\n",
    "    \n",
    "    n_samples : `int`, default=1000\n",
    "        Number of samples to simulate\n",
    "    \n",
    "    corr : `float`, default=0.5\n",
    "        Correlation of the features\n",
    "\n",
    "    Returns\n",
    "    -------\n",
    "    A : `numpy.ndarray`, shape=(n_samples, n_features)\n",
    "        Simulated features matrix. It samples of a centered Gaussian \n",
    "        vector with covariance given by the Toeplitz matrix\n",
    "    \n",
    "    b : `numpy.array`, shape=(n_samples,)\n",
    "        Simulated labels\n",
    "    \"\"\"\n",
    "    cov = toeplitz(corr ** np.arange(0, n_features))\n",
    "    A = multivariate_normal(np.zeros(n_features), cov, size=n_samples)\n",
    "    p = sigmoid(A.dot(coefs))\n",
    "    b = np.random.binomial(1, p, size=n_samples)\n",
    "    b[:] = 2 * b - 1\n",
    "    return A, b"
   ]
  },
  {
   "cell_type": "markdown",
   "metadata": {},
   "source": [
    "## Part 1 : Proximal operators"
   ]
  },
  {
   "cell_type": "markdown",
   "metadata": {},
   "source": [
    "We remind that the proximal operator of a fonction $g$ is given by:\n",
    "\n",
    "$$\n",
    "\\text{prox}_g(y, t) = \\arg\\min_x \\Big\\{ \\frac 12 \\|x - y\\|_2^2 + t g(x) \\Big\\}.\n",
    "$$\n",
    "\n",
    "where $t \\geq 0$ is a non-negative number.\n",
    "We have in mind to use the following cases\n",
    "\n",
    "- Ridge penalization, where $g(x) = \\frac{s}{2} \\|x\\|_2^2$\n",
    "- Lasso penalization, where $g(x) = s \\|x\\|_1$\n",
    "\n",
    "where $s \\geq 0$ is a regularization parameter."
   ]
  },
  {
   "cell_type": "markdown",
   "metadata": {},
   "source": [
    "## Questions\n",
    "\n",
    "- Code a function that computes $g(x)$ in both cases and $\\text{prox}_g(x)$ for ridge and  lasso penalization (use the slides of the first course to get the formulas), using the prototypes given below\n",
    "- Visualize the functions applied element wise by the proximity operators of the Ridge and Lasso "
   ]
  },
  {
   "cell_type": "code",
   "execution_count": 57,
   "metadata": {
    "collapsed": true
   },
   "outputs": [],
   "source": [
    "def prox_lasso(x, s, t=1.):\n",
    "    \"\"\"Proximal operator for the Lasso at x with strength t\"\"\"    \n",
    "    output = x.copy()\n",
    "    for l in range(len(x)):\n",
    "        if x[l]-t*s>0:\n",
    "            output[l]=x[l]-t*s\n",
    "        elif abs(x[l])<=t*s:\n",
    "            output[l]=0\n",
    "        else:\n",
    "            output[l]=x[l]+t*s\n",
    "    return output\n",
    "\n",
    "def lasso(x, s):\n",
    "    \"\"\"Value of the Lasso penalization at x with strength t\"\"\"\n",
    "    return s*np.sum(abs(x))\n",
    "\n",
    "def prox_ridge(x, s, t=1.):\n",
    "    \"\"\"Proximal operator for the ridge at x with strength t\"\"\"   \n",
    "    return x/(1+s*t)\n",
    "    \n",
    "def ridge(x, s):\n",
    "    \"\"\"Value of the ridge penalization at x with strength t\"\"\"\n",
    "    return 0.5*s*(np.linalg.norm(x))**2\n"
   ]
  },
  {
   "cell_type": "markdown",
   "metadata": {},
   "source": [
    "## Visualization\n",
    "\n",
    "We are now going to visualize the effect of the proximity operators on coefficients."
   ]
  },
  {
   "cell_type": "code",
   "execution_count": 6,
   "metadata": {
    "collapsed": false,
    "scrolled": false
   },
   "outputs": [
    {
     "data": {
      "text/plain": [
       "(-2, 2)"
      ]
     },
     "execution_count": 6,
     "metadata": {},
     "output_type": "execute_result"
    },
    {
     "data": {
      "image/png": "[encoded data removed]",
      "text/plain": [
       "<matplotlib.figure.Figure at 0x1078cdc18>"
      ]
     },
     "metadata": {},
     "output_type": "display_data"
    }
   ],
   "source": [
    "x = randn(50)\n",
    "l_l1 = 1.\n",
    "l_l2 = 0.5\n",
    "\n",
    "plt.figure(figsize=(15.0, 4.0))\n",
    "plt.subplot(1, 3, 1)\n",
    "plt.stem(x)\n",
    "plt.title(\"Original parameter\", fontsize=16)\n",
    "plt.ylim([-2, 2])\n",
    "plt.subplot(1, 3, 2)\n",
    "plt.stem(prox_lasso(x, s=l_l1))\n",
    "plt.title(\"Proximal Lasso\", fontsize=16)\n",
    "plt.ylim([-2, 2])\n",
    "plt.subplot(1, 3, 3)\n",
    "plt.stem(prox_ridge(x, s=l_l2))\n",
    "plt.title(\"Proximal Ridge\", fontsize=16)\n",
    "plt.ylim([-2, 2])"
   ]
  },
  {
   "cell_type": "markdown",
   "metadata": {},
   "source": [
    "## Question\n",
    "\n",
    "- Comment what you observe (1 or 2 sentences).\n",
    "\n",
    "For the proximal lasso, all coefficients between - ts and ts are reduced to 0 by construction and that is what we see. We can also see that all other values are decreased (by ts according to the formula)"
   ]
  },
  {
   "cell_type": "markdown",
   "metadata": {},
   "source": [
    "For the Proximal operator on the ridge penalization, we can see that the magnitude of the coefficients is reduced (by the factor $\\frac{1}{1+ts}$ but no coefficient is set to 0"
   ]
  },
  {
   "cell_type": "markdown",
   "metadata": {},
   "source": [
    "## YOUR ANSWER HERE"
   ]
  },
  {
   "cell_type": "markdown",
   "metadata": {},
   "source": [
    "## Part 2: Gradients\n",
    "\n",
    "The problems we want to minimize take the form:\n",
    "$$\n",
    "\\arg\\min_x f(x) + g(x)\n",
    "$$\n",
    "where $f$ is $L$-smooth and $g$ is prox-capable.\n",
    "\n",
    "We will consider below the following cases\n",
    "\n",
    "**Linear regression**, where \n",
    "$$\n",
    "f(x) = \\frac{1}{2n} \\sum_{i=1}^n (b_i - a_i^\\top x)^2 = \\frac{1}{2 n} \\| b - A x \\|_2^2,\n",
    "$$\n",
    "where $n$ is the sample size, $b = [b_1 \\cdots b_n]$ is the vector of labels and $A$ is the matrix of features.\n",
    "\n",
    "**Logistic regression**, where\n",
    "$$\n",
    "f(x) = \\frac{1}{n} \\sum_{i=1}^n \\log(1 + \\exp(-b_i a_i^\\top x)),\n",
    "$$\n",
    "where $n$ is the sample size, and where labels $b_i \\in \\{ -1, 1 \\}$ for all $i$.\n",
    "\n",
    "We need to be able to compute $f$ and its gradient"
   ]
  },
  {
   "cell_type": "markdown",
   "metadata": {},
   "source": [
    "**Questions**:\n",
    "- Compute on paper the gradient $\\nabla f$ of $f$ for both cases (linear and logistic regression)\n",
    "- Code a function that computes $f$ and its gradient $\\nabla f$ in both cases, using the prototypes below.\n",
    "- Check that these functions are correct by numerically checking the gradient, using the function ``checkgrad`` from ``scipy.optimize``. Remark: use the functions `simu_linreg` and `simu_logreg` to simulate data according to the right model"
   ]
  },
  {
   "cell_type": "code",
   "execution_count": 58,
   "metadata": {
    "collapsed": false,
    "scrolled": false
   },
   "outputs": [
    {
     "name": "stdout",
     "output_type": "stream",
     "text": [
      "1.53573886701e-06\n",
      "1.16142084668e-06\n"
     ]
    }
   ],
   "source": [
    "def loss_linreg(x):\n",
    "    n=len(b)\n",
    "    \"\"\"Least-squares loss\"\"\"\n",
    "    # TODO\n",
    "    return 1/(2*n) * np.linalg.norm(b-np.dot(A,x))**2\n",
    "\n",
    "def grad_linreg(x):\n",
    "    n=len(b)\n",
    "    \"\"\"Leas-squares gradient\"\"\"\n",
    "    # TODO\n",
    "    return -1/n * np.dot(A.T, b - np.dot(A,x)) \n",
    "\n",
    "def loss_logreg(x):\n",
    "    n=len(b)\n",
    "    \"\"\"Logistic loss\"\"\"\n",
    "    # TODO\n",
    "    return (1/n)*sum(np.log(1 + np.exp(-b[i]*np.dot(A[i, :].T, x))) for i in range(n))\n",
    "\n",
    "def grad_logreg(x):\n",
    "    n=len(b)\n",
    "    \"\"\"Logistic gradient\"\"\"\n",
    "    # TODO\n",
    "    return (1/n)*sum((-b[i]*(A[i, :].T)*np.exp(-b[i]*np.dot(A[i, :].T, x)))/(1 + np.exp(-b[i]*np.dot(A[i, :].T, x))) for i in range(n))\n",
    "\n",
    "\n",
    "# TO BE COMPLETED\n",
    "\n",
    "A,b = simu_linreg(coefs)\n",
    "from scipy.optimize import check_grad\n",
    "print(check_grad(loss_linreg, grad_linreg,x))\n",
    "print(check_grad(loss_logreg, grad_logreg,x))"
   ]
  },
  {
   "cell_type": "markdown",
   "metadata": {},
   "source": [
    "## Part 3: Solvers"
   ]
  },
  {
   "cell_type": "markdown",
   "metadata": {},
   "source": [
    "We know have a function to compute $f$, $\\nabla f$ and $g$ and $\\text{prox}_g$. \n",
    "\n",
    "We want now to code the Ista and Fista solvers to minimize\n",
    "\n",
    "$$\n",
    "\\arg\\min_x f(x) + g(x)\n",
    "$$\n",
    "\n",
    "**Questions**:\n",
    "\n",
    "- Implement functions that compute the Lipschitz constants for linear and \n",
    "  logistic regression losses. Note that the operator norm of a matrix can \n",
    "  be computed using the function `numpy.linalg.norm` (read the documentation\n",
    "  of the function)\n",
    "\n",
    "- Finish the functions `ista` and `fista` below that implements the \n",
    "  ISTA (Proximal Gradient Descent) and FISTA (Accelerated Proximal \n",
    "  Gradient Descent) algorithms"
   ]
  },
  {
   "cell_type": "code",
   "execution_count": 8,
   "metadata": {
    "collapsed": false
   },
   "outputs": [
    {
     "data": {
      "text/plain": [
       "(1000, 50)"
      ]
     },
     "execution_count": 8,
     "metadata": {},
     "output_type": "execute_result"
    }
   ],
   "source": [
    "A.shape"
   ]
  },
  {
   "cell_type": "code",
   "execution_count": 59,
   "metadata": {
    "collapsed": true
   },
   "outputs": [],
   "source": [
    "from numpy.linalg import norm\n",
    "\n",
    "def lip_linreg(A):\n",
    "    \"\"\"Lipschitz constant for linear squares loss\"\"\"    \n",
    "    # TODO\n",
    "    n = A.shape[0]\n",
    "    return (1/n) * norm(np.dot(A.T, A))\n",
    "\n",
    "def lip_logreg(A):\n",
    "    \"\"\"Lipschitz constant for logistic loss\"\"\"   \n",
    "    n =A.shape[0]\n",
    "    # TODO\n",
    "    return (1/(4*n)) * norm(np.dot(A.T, A))\n",
    "    \n",
    "def ista(x0, f, grad_f, g, prox_g, step, s=0., n_iter=50,\n",
    "         x_true=coefs, verbose=True):\n",
    "    \"\"\"Proximal gradient descent algorithm\n",
    "    \"\"\"\n",
    "    x = x0.copy()\n",
    "    x_new = x0.copy()\n",
    "    n_samples, n_features = A.shape\n",
    "\n",
    "    # estimation error history\n",
    "    errors = []\n",
    "    # objective history\n",
    "    objectives = []\n",
    "    # Current estimation error\n",
    "    err = norm(x - x_true) / norm(x_true)\n",
    "    errors.append(err)\n",
    "    # Current objective\n",
    "    obj = f(x) + g(x, s)\n",
    "    objectives.append(obj)\n",
    "    if verbose:\n",
    "        print(\"Lauching ISTA solver...\")\n",
    "        print(' | '.join([name.center(8) for name in [\"it\", \"obj\", \"err\"]]))\n",
    "    for k in range(n_iter + 1):\n",
    "\n",
    "        #### TODO ####\n",
    "        x = prox_g(x - step*grad_f(x), s, step)\n",
    "        obj = f(x) + g(x, s)\n",
    "        err = norm(x - x_true) / norm(x_true)\n",
    "        errors.append(err)\n",
    "        objectives.append(obj)\n",
    "        if k % 10 == 0 and verbose:\n",
    "            print(' | '.join([(\"%d\" % k).rjust(8), \n",
    "                              (\"%.2e\" % obj).rjust(8), \n",
    "                              (\"%.2e\" % err).rjust(8)]))\n",
    "    return x, objectives, errors"
   ]
  },
  {
   "cell_type": "code",
   "execution_count": 26,
   "metadata": {
    "collapsed": true
   },
   "outputs": [],
   "source": [
    "def fista(x0, f, grad_f, g, prox_g, step, s=0., n_iter=50,\n",
    "         x_true=coefs, verbose=True):\n",
    "    \"\"\"Accelerated Proximal gradient descent algorithm\n",
    "    \"\"\"\n",
    "    x = x0.copy()\n",
    "    x_new = x0.copy()\n",
    "    # An extra variable is required for FISTA\n",
    "    z = x0.copy()\n",
    "    n_samples, n_features = A.shape\n",
    "    # estimation error history\n",
    "    errors = []\n",
    "    # objective history\n",
    "    objectives = []\n",
    "    # Current estimation error\n",
    "    err = norm(x - x_true) / norm(x_true)\n",
    "    errors.append(err)\n",
    "    # Current objective\n",
    "    obj = f(x) + g(x, s)\n",
    "    objectives.append(obj)\n",
    "    t = 1.\n",
    "    t_new = 1.    \n",
    "    if verbose:\n",
    "        print(\"Lauching FISTA solver...\")\n",
    "        print(' | '.join([name.center(8) for name in [\"it\", \"obj\", \"err\"]]))\n",
    "    for k in range(n_iter + 1):\n",
    "\n",
    "        #### TODO ####\n",
    "        x_new = prox_g(z - step*grad_f(z), s, step)\n",
    "        t_new = (1/2)*(1 + np.sqrt(1 + 4*(t**2)))\n",
    "        z_new = x_new + ((t-1)/t_new)*(x_new - x)\n",
    "        \n",
    "        x = x_new\n",
    "        t = t_new\n",
    "        z = z_new\n",
    "        \n",
    "        obj = f(x) + g(x, s)\n",
    "        err = norm(x - x_true) / norm(x_true)\n",
    "        errors.append(err)\n",
    "        objectives.append(obj)\n",
    "        if k % 10 == 0 and verbose:\n",
    "            print(' | '.join([(\"%d\" % k).rjust(8), \n",
    "                              (\"%.2e\" % obj).rjust(8), \n",
    "                              (\"%.2e\" % err).rjust(8)]))\n",
    "    return x, np.array(objectives), np.array(errors)"
   ]
  },
  {
   "cell_type": "markdown",
   "metadata": {},
   "source": [
    "## Algorithms comparison and numerical experiments"
   ]
  },
  {
   "cell_type": "code",
   "execution_count": 11,
   "metadata": {
    "collapsed": true
   },
   "outputs": [],
   "source": [
    "# Some definitions before launching the algorithms\n",
    "x0 = np.zeros(n_features)\n",
    "n_iter = 40\n",
    "s = 1e-2"
   ]
  },
  {
   "cell_type": "markdown",
   "metadata": {},
   "source": [
    "**Questions**\n",
    "\n",
    "- Compute a precise minimum and a precise minimizer of the linear regression with ridge \n",
    "  penalization problem using the parameters give above. This can be done by using FISTA with \n",
    "  1000 iterations.\n",
    "- Compare the convergences of ISTA and FISTA, in terms of distance to the minimum and \n",
    "  distance to the minimizer. Do your plots using a logarithmic scale of the y-axis."
   ]
  },
  {
   "cell_type": "markdown",
   "metadata": {},
   "source": [
    "### Question 1"
   ]
  },
  {
   "cell_type": "code",
   "execution_count": 12,
   "metadata": {
    "collapsed": false,
    "scrolled": true
   },
   "outputs": [
    {
     "name": "stdout",
     "output_type": "stream",
     "text": [
      "Lauching FISTA solver...\n",
      "   it    |   obj    |   err   \n",
      "       0 | 1.35e+00 | 9.61e-01\n",
      "      10 | 6.02e-01 | 4.14e-01\n",
      "      20 | 4.86e-01 | 1.21e-01\n",
      "      30 | 4.85e-01 | 1.10e-01\n",
      "      40 | 4.84e-01 | 1.27e-01\n",
      "      50 | 4.84e-01 | 1.22e-01\n",
      "      60 | 4.84e-01 | 1.15e-01\n",
      "      70 | 4.83e-01 | 1.18e-01\n",
      "      80 | 4.83e-01 | 1.20e-01\n",
      "      90 | 4.83e-01 | 1.18e-01\n",
      "     100 | 4.83e-01 | 1.17e-01\n",
      "     110 | 4.83e-01 | 1.18e-01\n",
      "     120 | 4.83e-01 | 1.18e-01\n",
      "     130 | 4.83e-01 | 1.18e-01\n",
      "     140 | 4.83e-01 | 1.18e-01\n",
      "     150 | 4.83e-01 | 1.18e-01\n",
      "     160 | 4.83e-01 | 1.18e-01\n",
      "     170 | 4.83e-01 | 1.18e-01\n",
      "     180 | 4.83e-01 | 1.18e-01\n",
      "     190 | 4.83e-01 | 1.18e-01\n",
      "     200 | 4.83e-01 | 1.18e-01\n",
      "     210 | 4.83e-01 | 1.18e-01\n",
      "     220 | 4.83e-01 | 1.18e-01\n",
      "     230 | 4.83e-01 | 1.18e-01\n",
      "     240 | 4.83e-01 | 1.18e-01\n",
      "     250 | 4.83e-01 | 1.18e-01\n",
      "     260 | 4.83e-01 | 1.18e-01\n",
      "     270 | 4.83e-01 | 1.18e-01\n",
      "     280 | 4.83e-01 | 1.18e-01\n",
      "     290 | 4.83e-01 | 1.18e-01\n",
      "     300 | 4.83e-01 | 1.18e-01\n",
      "     310 | 4.83e-01 | 1.18e-01\n",
      "     320 | 4.83e-01 | 1.18e-01\n",
      "     330 | 4.83e-01 | 1.18e-01\n",
      "     340 | 4.83e-01 | 1.18e-01\n",
      "     350 | 4.83e-01 | 1.18e-01\n",
      "     360 | 4.83e-01 | 1.18e-01\n",
      "     370 | 4.83e-01 | 1.18e-01\n",
      "     380 | 4.83e-01 | 1.18e-01\n",
      "     390 | 4.83e-01 | 1.18e-01\n",
      "     400 | 4.83e-01 | 1.18e-01\n",
      "     410 | 4.83e-01 | 1.18e-01\n",
      "     420 | 4.83e-01 | 1.18e-01\n",
      "     430 | 4.83e-01 | 1.18e-01\n",
      "     440 | 4.83e-01 | 1.18e-01\n",
      "     450 | 4.83e-01 | 1.18e-01\n",
      "     460 | 4.83e-01 | 1.18e-01\n",
      "     470 | 4.83e-01 | 1.18e-01\n",
      "     480 | 4.83e-01 | 1.18e-01\n",
      "     490 | 4.83e-01 | 1.18e-01\n",
      "     500 | 4.83e-01 | 1.18e-01\n",
      "     510 | 4.83e-01 | 1.18e-01\n",
      "     520 | 4.83e-01 | 1.18e-01\n",
      "     530 | 4.83e-01 | 1.18e-01\n",
      "     540 | 4.83e-01 | 1.18e-01\n",
      "     550 | 4.83e-01 | 1.18e-01\n",
      "     560 | 4.83e-01 | 1.18e-01\n",
      "     570 | 4.83e-01 | 1.18e-01\n",
      "     580 | 4.83e-01 | 1.18e-01\n",
      "     590 | 4.83e-01 | 1.18e-01\n",
      "     600 | 4.83e-01 | 1.18e-01\n",
      "     610 | 4.83e-01 | 1.18e-01\n",
      "     620 | 4.83e-01 | 1.18e-01\n",
      "     630 | 4.83e-01 | 1.18e-01\n",
      "     640 | 4.83e-01 | 1.18e-01\n",
      "     650 | 4.83e-01 | 1.18e-01\n",
      "     660 | 4.83e-01 | 1.18e-01\n",
      "     670 | 4.83e-01 | 1.18e-01\n",
      "     680 | 4.83e-01 | 1.18e-01\n",
      "     690 | 4.83e-01 | 1.18e-01\n",
      "     700 | 4.83e-01 | 1.18e-01\n",
      "     710 | 4.83e-01 | 1.18e-01\n",
      "     720 | 4.83e-01 | 1.18e-01\n",
      "     730 | 4.83e-01 | 1.18e-01\n",
      "     740 | 4.83e-01 | 1.18e-01\n",
      "     750 | 4.83e-01 | 1.18e-01\n",
      "     760 | 4.83e-01 | 1.18e-01\n",
      "     770 | 4.83e-01 | 1.18e-01\n",
      "     780 | 4.83e-01 | 1.18e-01\n",
      "     790 | 4.83e-01 | 1.18e-01\n",
      "     800 | 4.83e-01 | 1.18e-01\n",
      "     810 | 4.83e-01 | 1.18e-01\n",
      "     820 | 4.83e-01 | 1.18e-01\n",
      "     830 | 4.83e-01 | 1.18e-01\n",
      "     840 | 4.83e-01 | 1.18e-01\n",
      "     850 | 4.83e-01 | 1.18e-01\n",
      "     860 | 4.83e-01 | 1.18e-01\n",
      "     870 | 4.83e-01 | 1.18e-01\n",
      "     880 | 4.83e-01 | 1.18e-01\n",
      "     890 | 4.83e-01 | 1.18e-01\n",
      "     900 | 4.83e-01 | 1.18e-01\n",
      "     910 | 4.83e-01 | 1.18e-01\n",
      "     920 | 4.83e-01 | 1.18e-01\n",
      "     930 | 4.83e-01 | 1.18e-01\n",
      "     940 | 4.83e-01 | 1.18e-01\n",
      "     950 | 4.83e-01 | 1.18e-01\n",
      "     960 | 4.83e-01 | 1.18e-01\n",
      "     970 | 4.83e-01 | 1.18e-01\n",
      "     980 | 4.83e-01 | 1.18e-01\n",
      "     990 | 4.83e-01 | 1.18e-01\n",
      "    1000 | 4.83e-01 | 1.18e-01\n"
     ]
    }
   ],
   "source": [
    "#Simulation for linear regression\n",
    "A, b = simu_linreg(coefs, n_samples=1000, corr=0.5)\n",
    "L = lip_linreg(A)\n",
    "\n",
    "#Applying Fista Algorithm\n",
    "x_f, obj_f, err_f = fista(x0, loss_linreg, grad_linreg, ridge, prox_ridge, 1/L, s=s, n_iter =1000)\n",
    "\n",
    "#Minimum and minimizer :\n",
    "minimizer = x_f\n",
    "minimum = obj_f[-1]"
   ]
  },
  {
   "cell_type": "markdown",
   "metadata": {},
   "source": [
    "The minimizer is the last value x and the minimum is the last value of the \"objectives\" given by fista."
   ]
  },
  {
   "cell_type": "code",
   "execution_count": 13,
   "metadata": {
    "collapsed": false
   },
   "outputs": [
    {
     "name": "stdout",
     "output_type": "stream",
     "text": [
      "[ 0.96 -0.88  0.74 -0.71  0.67 -0.6   0.49 -0.44  0.4  -0.37  0.42 -0.36\n",
      "  0.29 -0.31  0.26 -0.25  0.19 -0.22  0.14 -0.11 -0.02  0.    0.03  0.01\n",
      "  0.02  0.01 -0.07  0.02  0.07 -0.02 -0.02 -0.01 -0.05 -0.03 -0.03 -0.01\n",
      "  0.08  0.05 -0.07 -0.08  0.02 -0.02  0.02 -0.03  0.06 -0.05  0.    0.01\n",
      "  0.    0.02] 0.483402812262\n"
     ]
    }
   ],
   "source": [
    "print(minimizer, minimum)"
   ]
  },
  {
   "cell_type": "markdown",
   "metadata": {},
   "source": [
    "### Question 2"
   ]
  },
  {
   "cell_type": "markdown",
   "metadata": {},
   "source": [
    "The distance with the minimizer is given by the error. We chose to let it normalized by the norm of \"coefs\"."
   ]
  },
  {
   "cell_type": "code",
   "execution_count": 33,
   "metadata": {
    "collapsed": false,
    "scrolled": true
   },
   "outputs": [
    {
     "name": "stdout",
     "output_type": "stream",
     "text": [
      "Lauching ISTA solver...\n",
      "   it    |   obj    |   err   \n",
      "       0 | 2.01e+01 | 3.00e+00\n",
      "      10 | 3.59e+00 | 1.68e+00\n",
      "      20 | 1.70e+00 | 1.12e+00\n",
      "      30 | 1.05e+00 | 7.75e-01\n",
      "      40 | 7.63e-01 | 5.47e-01\n",
      "      50 | 6.32e-01 | 3.93e-01\n",
      "Lauching FISTA solver...\n",
      "   it    |   obj    |   err   \n",
      "       0 | 2.01e+01 | 3.00e+00\n",
      "      10 | 1.31e+00 | 9.35e-01\n",
      "      20 | 5.27e-01 | 1.71e-01\n",
      "      30 | 5.16e-01 | 1.89e-01\n",
      "      40 | 5.04e-01 | 1.10e-01\n",
      "      50 | 5.02e-01 | 1.01e-01\n"
     ]
    },
    {
     "data": {
      "image/png": "[encoded data removed]",
      "text/plain": [
       "<matplotlib.figure.Figure at 0x1087d0dd8>"
      ]
     },
     "metadata": {},
     "output_type": "display_data"
    }
   ],
   "source": [
    "A, b = simu_linreg(coefs, n_samples=1000, corr=0.5)\n",
    "\n",
    "x = randn(50)\n",
    "i = ista(x, loss_linreg, grad_linreg, ridge, prox_ridge, 1/L, s=0, n_iter =50)\n",
    "f = fista(x, loss_linreg, grad_linreg, ridge, prox_ridge, 1/L, s=0, n_iter =50)\n",
    "\n",
    "plt.plot(i[2],label = \"ISTA\")\n",
    "plt.plot(f[2],label = \"FISTA\")\n",
    "ax.set_yscale('log')\n",
    "plt.legend()\n",
    "plt.xlabel(\"Iterations\")\n",
    "plt.ylabel(\"Error (in log scale)\")\n",
    "plt.title(\"Comparison of FISTA and ISTA in term of distance to the minimizer\")\n",
    "plt.show()\n",
    "\n"
   ]
  },
  {
   "cell_type": "markdown",
   "metadata": {},
   "source": [
    "We can see as expected that the FISTA algorithm converges faster in term of distance to the minimizer."
   ]
  },
  {
   "cell_type": "markdown",
   "metadata": {},
   "source": [
    "#### In terms of distance to the minimum :\n",
    "\n",
    "We want to compare the theorical minimum to the empirical ones. The latters are found in the second output of the optimization algorithms."
   ]
  },
  {
   "cell_type": "code",
   "execution_count": 52,
   "metadata": {
    "collapsed": false
   },
   "outputs": [
    {
     "data": {
      "image/png": "[encoded data removed]",
      "text/plain": [
       "<matplotlib.figure.Figure at 0x10a6368d0>"
      ]
     },
     "metadata": {},
     "output_type": "display_data"
    }
   ],
   "source": [
    "#Creation of the theoretical minimum.\n",
    "obj_theorical = loss_linreg(coefs)+ridge(coefs,s)\n",
    "\n",
    "#Creation of the error\n",
    "error_mini_ista = [(i[2][j] - obj_theorical)**2 for j in range(len(i[2]))]\n",
    "error_mini_fista = [(f[2][j] - obj_theorical)**2 for j in range(len(f[2]))]\n",
    "\n",
    "#Creation of the figure\n",
    "\n",
    "plt.plot(error_mini_ista, label = \"ISTA\")\n",
    "plt.plot(error_mini_fista, label = \"FISTA\")\n",
    "ax.set_yscale('log')\n",
    "plt.legend()\n",
    "plt.xlabel(\"Iterations\")\n",
    "plt.ylabel(\"Error with minimum (in log scale)\")\n",
    "plt.title(\"Comparison of FISTA and ISTA in term of distance to the minimum\")\n",
    "plt.show()"
   ]
  },
  {
   "cell_type": "markdown",
   "metadata": {},
   "source": [
    "We have the same conclusions than before : FISTA algorithm is faster the ISTA"
   ]
  },
  {
   "cell_type": "markdown",
   "metadata": {},
   "source": [
    "**Questions**\n",
    "\n",
    "- In linear regression and logistic regression, study the influence of the correlation \n",
    "  of the features on the performance of the optimization algorithms. Explain.\n",
    "\n",
    "- In linear regression and logistic regression, study the influence of the level of ridge \n",
    "  penalization on the performance of the optimization algorithms. Explain.\n",
    "\n",
    "- In linear regression and logistic regression, compare the performance of the optimization\n",
    "  algorithms for ridge and lasso penalizations. Explain"
   ]
  },
  {
   "cell_type": "markdown",
   "metadata": {},
   "source": [
    "#### Question 1 : influence of the correlation of the features on the performance of the optimization algorithms\n",
    "\n",
    "To answer to this question, we first simulate data with different correlation. We chose : 0.2, 0.4, 0.6, 0.8. Then we will study the performance of the optimization algorithms"
   ]
  },
  {
   "cell_type": "code",
   "execution_count": 14,
   "metadata": {
    "collapsed": false,
    "scrolled": true
   },
   "outputs": [
    {
     "name": "stdout",
     "output_type": "stream",
     "text": [
      "Lauching FISTA solver...\n",
      "   it    |   obj    |   err   \n",
      "       0 | 2.15e+00 | 9.23e-01\n",
      "      10 | 4.97e-01 | 1.35e-01\n",
      "      20 | 4.77e-01 | 1.05e-01\n",
      "      30 | 4.74e-01 | 8.26e-02\n",
      "      40 | 4.73e-01 | 8.44e-02\n",
      "      50 | 4.73e-01 | 8.39e-02\n",
      "      60 | 4.73e-01 | 8.32e-02\n",
      "      70 | 4.73e-01 | 8.39e-02\n",
      "      80 | 4.73e-01 | 8.35e-02\n",
      "      90 | 4.73e-01 | 8.36e-02\n",
      "     100 | 4.73e-01 | 8.36e-02\n",
      "     110 | 4.73e-01 | 8.35e-02\n",
      "     120 | 4.73e-01 | 8.36e-02\n",
      "     130 | 4.73e-01 | 8.36e-02\n",
      "     140 | 4.73e-01 | 8.36e-02\n",
      "     150 | 4.73e-01 | 8.36e-02\n",
      "     160 | 4.73e-01 | 8.36e-02\n",
      "     170 | 4.73e-01 | 8.36e-02\n",
      "     180 | 4.73e-01 | 8.36e-02\n",
      "     190 | 4.73e-01 | 8.36e-02\n",
      "     200 | 4.73e-01 | 8.36e-02\n",
      "Lauching FISTA solver...\n",
      "   it    |   obj    |   err   \n",
      "       0 | 1.62e+00 | 9.50e-01\n",
      "      10 | 5.97e-01 | 3.17e-01\n",
      "      20 | 5.23e-01 | 1.21e-01\n",
      "      30 | 5.19e-01 | 1.27e-01\n",
      "      40 | 5.19e-01 | 1.25e-01\n",
      "      50 | 5.18e-01 | 1.20e-01\n",
      "      60 | 5.18e-01 | 1.22e-01\n",
      "      70 | 5.18e-01 | 1.22e-01\n",
      "      80 | 5.18e-01 | 1.21e-01\n",
      "      90 | 5.18e-01 | 1.21e-01\n",
      "     100 | 5.18e-01 | 1.21e-01\n",
      "     110 | 5.18e-01 | 1.21e-01\n",
      "     120 | 5.18e-01 | 1.21e-01\n",
      "     130 | 5.18e-01 | 1.21e-01\n",
      "     140 | 5.18e-01 | 1.21e-01\n",
      "     150 | 5.18e-01 | 1.21e-01\n",
      "     160 | 5.18e-01 | 1.21e-01\n",
      "     170 | 5.18e-01 | 1.21e-01\n",
      "     180 | 5.18e-01 | 1.21e-01\n",
      "     190 | 5.18e-01 | 1.21e-01\n",
      "     200 | 5.18e-01 | 1.21e-01\n",
      "Lauching FISTA solver...\n",
      "   it    |   obj    |   err   \n",
      "       0 | 1.30e+00 | 9.67e-01\n",
      "      10 | 6.84e-01 | 4.85e-01\n",
      "      20 | 5.39e-01 | 1.38e-01\n",
      "      30 | 5.41e-01 | 1.39e-01\n",
      "      40 | 5.38e-01 | 1.32e-01\n",
      "      50 | 5.38e-01 | 1.33e-01\n",
      "      60 | 5.38e-01 | 1.27e-01\n",
      "      70 | 5.38e-01 | 1.28e-01\n",
      "      80 | 5.37e-01 | 1.29e-01\n",
      "      90 | 5.37e-01 | 1.28e-01\n",
      "     100 | 5.37e-01 | 1.28e-01\n",
      "     110 | 5.37e-01 | 1.28e-01\n",
      "     120 | 5.37e-01 | 1.28e-01\n",
      "     130 | 5.37e-01 | 1.28e-01\n",
      "     140 | 5.37e-01 | 1.28e-01\n",
      "     150 | 5.37e-01 | 1.28e-01\n",
      "     160 | 5.37e-01 | 1.28e-01\n",
      "     170 | 5.37e-01 | 1.28e-01\n",
      "     180 | 5.37e-01 | 1.28e-01\n",
      "     190 | 5.37e-01 | 1.28e-01\n",
      "     200 | 5.37e-01 | 1.28e-01\n",
      "Lauching FISTA solver...\n",
      "   it    |   obj    |   err   \n",
      "       0 | 8.32e-01 | 9.85e-01\n",
      "      10 | 6.48e-01 | 7.52e-01\n",
      "      20 | 5.36e-01 | 4.42e-01\n",
      "      30 | 5.05e-01 | 2.61e-01\n",
      "      40 | 5.05e-01 | 2.39e-01\n",
      "      50 | 5.05e-01 | 2.36e-01\n",
      "      60 | 5.03e-01 | 2.38e-01\n",
      "      70 | 5.03e-01 | 2.48e-01\n",
      "      80 | 5.03e-01 | 2.48e-01\n",
      "      90 | 5.03e-01 | 2.41e-01\n",
      "     100 | 5.03e-01 | 2.36e-01\n",
      "     110 | 5.03e-01 | 2.37e-01\n",
      "     120 | 5.03e-01 | 2.40e-01\n",
      "     130 | 5.03e-01 | 2.42e-01\n",
      "     140 | 5.03e-01 | 2.42e-01\n",
      "     150 | 5.03e-01 | 2.39e-01\n",
      "     160 | 5.03e-01 | 2.38e-01\n",
      "     170 | 5.03e-01 | 2.39e-01\n",
      "     180 | 5.03e-01 | 2.40e-01\n",
      "     190 | 5.03e-01 | 2.41e-01\n",
      "     200 | 5.03e-01 | 2.40e-01\n"
     ]
    },
    {
     "data": {
      "image/png": "[encoded data removed]",
      "text/plain": [
       "<matplotlib.figure.Figure at 0x10425a630>"
      ]
     },
     "metadata": {},
     "output_type": "display_data"
    }
   ],
   "source": [
    "#Performance of fista algorithm on linear regression\n",
    "#We store the Lipschitz constants also\n",
    "lip_linear_constant = []\n",
    "A, b = simu_linreg(coefs, n_samples=1000, corr=0.2)\n",
    "lip_linear_constant.append(lip_linreg(A))\n",
    "X2 = fista(x0, loss_linreg, grad_linreg, ridge, prox_ridge, 1/L, s=s, n_iter =200)\n",
    "\n",
    "A, b = simu_linreg(coefs, n_samples=1000, corr=0.4)\n",
    "lip_linear_constant.append(lip_linreg(A))\n",
    "X4 = fista(x0, loss_linreg, grad_linreg, ridge, prox_ridge, 1/L, s=s, n_iter =200)\n",
    "\n",
    "A, b = simu_linreg(coefs, n_samples=1000, corr=0.6)\n",
    "lip_linear_constant.append(lip_linreg(A))\n",
    "X6 = fista(x0, loss_linreg, grad_linreg, ridge, prox_ridge, 1/L, s=s, n_iter =200)\n",
    "\n",
    "A, b = simu_linreg(coefs, n_samples=1000, corr=0.8)\n",
    "lip_linear_constant.append(lip_linreg(A))\n",
    "X8 = fista(x0, loss_linreg, grad_linreg, ridge, prox_ridge, 1/L, s=s, n_iter =200)\n",
    "\n",
    "x = np.arange(len(X2[1]))\n",
    "fig = plt.figure()\n",
    "ax = fig.add_subplot(1,1,1)\n",
    "plt.plot(x, X2[2], label = 'cor: 0.2')\n",
    "plt.plot(x, X4[2], label = 'cor: 0.4')\n",
    "plt.plot(x, X6[2], label = 'cor: 0.6')\n",
    "plt.plot(x, X8[2], label = 'cor: 0.8')\n",
    "plt.xlabel('Iterations')\n",
    "plt.ylabel('Error')\n",
    "\n",
    "\n",
    "plt.title('FISTA for linear regression with ridge penalization')\n",
    "plt.legend()\n",
    "plt.show()"
   ]
  },
  {
   "cell_type": "code",
   "execution_count": 15,
   "metadata": {
    "collapsed": false,
    "scrolled": true
   },
   "outputs": [
    {
     "name": "stdout",
     "output_type": "stream",
     "text": [
      "Lauching FISTA solver...\n",
      "   it    |   obj    |   err   \n",
      "       0 | 6.85e-01 | 9.88e-01\n",
      "      10 | 5.66e-01 | 7.79e-01\n",
      "      20 | 4.84e-01 | 5.11e-01\n",
      "      30 | 4.58e-01 | 3.30e-01\n",
      "      40 | 4.53e-01 | 2.77e-01\n",
      "      50 | 4.54e-01 | 2.82e-01\n",
      "      60 | 4.54e-01 | 2.86e-01\n",
      "      70 | 4.54e-01 | 2.81e-01\n",
      "      80 | 4.53e-01 | 2.78e-01\n",
      "      90 | 4.53e-01 | 2.80e-01\n",
      "     100 | 4.53e-01 | 2.81e-01\n",
      "     110 | 4.53e-01 | 2.79e-01\n",
      "     120 | 4.53e-01 | 2.78e-01\n",
      "     130 | 4.53e-01 | 2.78e-01\n",
      "     140 | 4.53e-01 | 2.78e-01\n",
      "     150 | 4.53e-01 | 2.78e-01\n",
      "     160 | 4.53e-01 | 2.78e-01\n",
      "     170 | 4.53e-01 | 2.78e-01\n",
      "     180 | 4.53e-01 | 2.78e-01\n",
      "     190 | 4.53e-01 | 2.78e-01\n",
      "     200 | 4.53e-01 | 2.78e-01\n",
      "Lauching FISTA solver...\n",
      "   it    |   obj    |   err   \n",
      "       0 | 6.88e-01 | 9.92e-01\n",
      "      10 | 6.16e-01 | 8.33e-01\n",
      "      20 | 5.54e-01 | 6.00e-01\n",
      "      30 | 5.26e-01 | 4.08e-01\n",
      "      40 | 5.19e-01 | 3.14e-01\n",
      "      50 | 5.19e-01 | 2.97e-01\n",
      "      60 | 5.20e-01 | 2.98e-01\n",
      "      70 | 5.19e-01 | 2.97e-01\n",
      "      80 | 5.19e-01 | 2.99e-01\n",
      "      90 | 5.19e-01 | 3.05e-01\n",
      "     100 | 5.19e-01 | 3.11e-01\n",
      "     110 | 5.19e-01 | 3.11e-01\n",
      "     120 | 5.19e-01 | 3.08e-01\n",
      "     130 | 5.19e-01 | 3.03e-01\n",
      "     140 | 5.19e-01 | 3.01e-01\n",
      "     150 | 5.19e-01 | 3.00e-01\n",
      "     160 | 5.19e-01 | 3.01e-01\n",
      "     170 | 5.19e-01 | 3.02e-01\n",
      "     180 | 5.19e-01 | 3.05e-01\n",
      "     190 | 5.19e-01 | 3.06e-01\n",
      "     200 | 5.19e-01 | 3.05e-01\n",
      "Lauching FISTA solver...\n",
      "   it    |   obj    |   err   \n",
      "       0 | 6.89e-01 | 9.94e-01\n",
      "      10 | 6.42e-01 | 8.86e-01\n",
      "      20 | 6.00e-01 | 7.18e-01\n",
      "      30 | 5.78e-01 | 5.59e-01\n",
      "      40 | 5.71e-01 | 4.45e-01\n",
      "      50 | 5.70e-01 | 3.83e-01\n",
      "      60 | 5.70e-01 | 3.58e-01\n",
      "      70 | 5.70e-01 | 3.54e-01\n",
      "      80 | 5.70e-01 | 3.63e-01\n",
      "      90 | 5.70e-01 | 3.80e-01\n",
      "     100 | 5.70e-01 | 3.95e-01\n",
      "     110 | 5.70e-01 | 4.03e-01\n",
      "     120 | 5.70e-01 | 4.01e-01\n",
      "     130 | 5.70e-01 | 3.94e-01\n",
      "     140 | 5.70e-01 | 3.85e-01\n",
      "     150 | 5.70e-01 | 3.79e-01\n",
      "     160 | 5.70e-01 | 3.77e-01\n",
      "     170 | 5.70e-01 | 3.80e-01\n",
      "     180 | 5.70e-01 | 3.84e-01\n",
      "     190 | 5.70e-01 | 3.89e-01\n",
      "     200 | 5.70e-01 | 3.92e-01\n",
      "Lauching FISTA solver...\n",
      "   it    |   obj    |   err   \n",
      "       0 | 6.89e-01 | 9.96e-01\n",
      "      10 | 6.60e-01 | 9.32e-01\n",
      "      20 | 6.41e-01 | 8.22e-01\n",
      "      30 | 6.28e-01 | 6.93e-01\n",
      "      40 | 6.19e-01 | 5.70e-01\n",
      "      50 | 6.16e-01 | 4.72e-01\n",
      "      60 | 6.15e-01 | 4.09e-01\n",
      "      70 | 6.15e-01 | 3.76e-01\n",
      "      80 | 6.15e-01 | 3.64e-01\n",
      "      90 | 6.15e-01 | 3.66e-01\n",
      "     100 | 6.15e-01 | 3.76e-01\n",
      "     110 | 6.15e-01 | 3.91e-01\n",
      "     120 | 6.15e-01 | 4.06e-01\n",
      "     130 | 6.15e-01 | 4.17e-01\n",
      "     140 | 6.15e-01 | 4.22e-01\n",
      "     150 | 6.15e-01 | 4.19e-01\n",
      "     160 | 6.15e-01 | 4.12e-01\n",
      "     170 | 6.14e-01 | 4.03e-01\n",
      "     180 | 6.14e-01 | 3.96e-01\n",
      "     190 | 6.15e-01 | 3.92e-01\n",
      "     200 | 6.15e-01 | 3.91e-01\n"
     ]
    },
    {
     "data": {
      "image/png": "[encoded data removed]",
      "text/plain": [
       "<matplotlib.figure.Figure at 0x1079e2710>"
      ]
     },
     "metadata": {},
     "output_type": "display_data"
    }
   ],
   "source": [
    "#Performance of fista algorithm on logistic regression with storage of the lipschitz constants\n",
    "lip_logistic_constant = []\n",
    "A, b = simu_logreg(coefs, n_samples=1000, corr=0.2)\n",
    "lip_logistic_constant.append(lip_logreg(A))\n",
    "X2 = fista(x0, loss_logreg, grad_logreg, ridge, prox_ridge, 1/L, s=s, n_iter =200)\n",
    "\n",
    "A, b = simu_logreg(coefs, n_samples=1000, corr=0.4)\n",
    "lip_logistic_constant.append(lip_logreg(A))\n",
    "X4 = fista(x0, loss_logreg, grad_logreg, ridge, prox_ridge, 1/L, s=s, n_iter =200)\n",
    "\n",
    "A, b = simu_logreg(coefs, n_samples=1000, corr=0.6)\n",
    "lip_logistic_constant.append(lip_logreg(A))\n",
    "X6 = fista(x0, loss_logreg, grad_logreg, ridge, prox_ridge, 1/L, s=s, n_iter =200)\n",
    "\n",
    "A, b = simu_logreg(coefs, n_samples=1000, corr=0.8)\n",
    "lip_logistic_constant.append(lip_logreg(A))\n",
    "X8 = fista(x0, loss_logreg, grad_logreg, ridge, prox_ridge, 1/L, s=s, n_iter =200)\n",
    "\n",
    "x = np.arange(len(X2[1]))\n",
    "fig = plt.figure()\n",
    "ax = fig.add_subplot(1,1,1)\n",
    "plt.plot(x, X2[2], label = 'cor: 0.2')\n",
    "plt.plot(x, X4[2], label = 'cor: 0.4')\n",
    "plt.plot(x, X6[2], label = 'cor: 0.6')\n",
    "plt.plot(x, X8[2], label = 'cor: 0.8')\n",
    "plt.xlabel('Iterations')\n",
    "plt.ylabel('Error')\n",
    "\n",
    "\n",
    "plt.title('FISTA for logistic regression with ridge penalization')\n",
    "plt.legend()\n",
    "plt.show()"
   ]
  },
  {
   "cell_type": "markdown",
   "metadata": {},
   "source": [
    "We observe that for both regressions the higher the correlation coefficient is, the slower the FISTA algorithm is. Besides, it looks like the error rate converges to a higher level when the correlation is high."
   ]
  },
  {
   "cell_type": "code",
   "execution_count": 16,
   "metadata": {
    "collapsed": false,
    "scrolled": true
   },
   "outputs": [
    {
     "name": "stdout",
     "output_type": "stream",
     "text": [
      "Lauching ISTA solver...\n",
      "   it    |   obj    |   err   \n",
      "       0 | 2.13e+00 | 9.27e-01\n",
      "      10 | 8.75e-01 | 4.64e-01\n",
      "      20 | 6.21e-01 | 2.55e-01\n",
      "      30 | 5.57e-01 | 1.56e-01\n",
      "      40 | 5.39e-01 | 1.12e-01\n",
      "      50 | 5.34e-01 | 9.49e-02\n",
      "      60 | 5.33e-01 | 8.85e-02\n",
      "      70 | 5.32e-01 | 8.62e-02\n",
      "      80 | 5.32e-01 | 8.54e-02\n",
      "      90 | 5.32e-01 | 8.50e-02\n",
      "     100 | 5.32e-01 | 8.49e-02\n",
      "     110 | 5.32e-01 | 8.48e-02\n",
      "     120 | 5.32e-01 | 8.47e-02\n",
      "     130 | 5.32e-01 | 8.47e-02\n",
      "     140 | 5.32e-01 | 8.47e-02\n",
      "     150 | 5.32e-01 | 8.47e-02\n",
      "     160 | 5.32e-01 | 8.47e-02\n",
      "     170 | 5.32e-01 | 8.47e-02\n",
      "     180 | 5.32e-01 | 8.47e-02\n",
      "     190 | 5.32e-01 | 8.47e-02\n",
      "     200 | 5.32e-01 | 8.47e-02\n",
      "Lauching ISTA solver...\n",
      "   it    |   obj    |   err   \n",
      "       0 | 1.66e+00 | 9.48e-01\n",
      "      10 | 8.85e-01 | 5.87e-01\n",
      "      20 | 6.52e-01 | 3.85e-01\n",
      "      30 | 5.70e-01 | 2.67e-01\n",
      "      40 | 5.38e-01 | 1.99e-01\n",
      "      50 | 5.26e-01 | 1.60e-01\n",
      "      60 | 5.22e-01 | 1.39e-01\n",
      "      70 | 5.20e-01 | 1.27e-01\n",
      "      80 | 5.19e-01 | 1.20e-01\n",
      "      90 | 5.19e-01 | 1.16e-01\n",
      "     100 | 5.18e-01 | 1.14e-01\n",
      "     110 | 5.18e-01 | 1.13e-01\n",
      "     120 | 5.18e-01 | 1.12e-01\n",
      "     130 | 5.18e-01 | 1.12e-01\n",
      "     140 | 5.18e-01 | 1.11e-01\n",
      "     150 | 5.18e-01 | 1.11e-01\n",
      "     160 | 5.18e-01 | 1.11e-01\n",
      "     170 | 5.18e-01 | 1.11e-01\n",
      "     180 | 5.18e-01 | 1.11e-01\n",
      "     190 | 5.18e-01 | 1.11e-01\n",
      "     200 | 5.18e-01 | 1.11e-01\n",
      "Lauching ISTA solver...\n",
      "   it    |   obj    |   err   \n",
      "       0 | 1.25e+00 | 9.68e-01\n",
      "      10 | 8.64e-01 | 7.23e-01\n",
      "      20 | 6.94e-01 | 5.52e-01\n",
      "      30 | 6.04e-01 | 4.29e-01\n",
      "      40 | 5.54e-01 | 3.40e-01\n",
      "      50 | 5.26e-01 | 2.77e-01\n",
      "      60 | 5.10e-01 | 2.33e-01\n",
      "      70 | 5.00e-01 | 2.03e-01\n",
      "      80 | 4.95e-01 | 1.83e-01\n",
      "      90 | 4.92e-01 | 1.70e-01\n",
      "     100 | 4.90e-01 | 1.61e-01\n",
      "     110 | 4.89e-01 | 1.56e-01\n",
      "     120 | 4.88e-01 | 1.53e-01\n",
      "     130 | 4.88e-01 | 1.51e-01\n",
      "     140 | 4.87e-01 | 1.50e-01\n",
      "     150 | 4.87e-01 | 1.49e-01\n",
      "     160 | 4.87e-01 | 1.48e-01\n",
      "     170 | 4.87e-01 | 1.48e-01\n",
      "     180 | 4.87e-01 | 1.48e-01\n",
      "     190 | 4.87e-01 | 1.47e-01\n",
      "     200 | 4.87e-01 | 1.47e-01\n",
      "Lauching ISTA solver...\n",
      "   it    |   obj    |   err   \n",
      "       0 | 8.25e-01 | 9.84e-01\n",
      "      10 | 6.83e-01 | 8.62e-01\n",
      "      20 | 6.26e-01 | 7.64e-01\n",
      "      30 | 5.86e-01 | 6.81e-01\n",
      "      40 | 5.57e-01 | 6.09e-01\n",
      "      50 | 5.35e-01 | 5.47e-01\n",
      "      60 | 5.18e-01 | 4.93e-01\n",
      "      70 | 5.05e-01 | 4.46e-01\n",
      "      80 | 4.95e-01 | 4.06e-01\n",
      "      90 | 4.87e-01 | 3.71e-01\n",
      "     100 | 4.81e-01 | 3.41e-01\n",
      "     110 | 4.76e-01 | 3.15e-01\n",
      "     120 | 4.73e-01 | 2.92e-01\n",
      "     130 | 4.70e-01 | 2.73e-01\n",
      "     140 | 4.68e-01 | 2.57e-01\n",
      "     150 | 4.66e-01 | 2.43e-01\n",
      "     160 | 4.64e-01 | 2.31e-01\n",
      "     170 | 4.63e-01 | 2.22e-01\n",
      "     180 | 4.63e-01 | 2.13e-01\n",
      "     190 | 4.62e-01 | 2.06e-01\n",
      "     200 | 4.61e-01 | 2.00e-01\n"
     ]
    },
    {
     "data": {
      "image/png": "[encoded data removed]",
      "text/plain": [
       "<matplotlib.figure.Figure at 0x108366518>"
      ]
     },
     "metadata": {},
     "output_type": "display_data"
    }
   ],
   "source": [
    "#Performance of ista algorithm on linear regression\n",
    "A, b = simu_linreg(coefs, n_samples=1000, corr=0.2)\n",
    "X2 = ista(x0, loss_linreg, grad_linreg, ridge, prox_ridge, 1/L, s=s, n_iter =200)\n",
    "\n",
    "A, b = simu_linreg(coefs, n_samples=1000, corr=0.4)\n",
    "X4 = ista(x0, loss_linreg, grad_linreg, ridge, prox_ridge, 1/L, s=s, n_iter =200)\n",
    "\n",
    "A, b = simu_linreg(coefs, n_samples=1000, corr=0.6)\n",
    "X6 = ista(x0, loss_linreg, grad_linreg, ridge, prox_ridge, 1/L, s=s, n_iter =200)\n",
    "\n",
    "A, b = simu_linreg(coefs, n_samples=1000, corr=0.8)\n",
    "X8 = ista(x0, loss_linreg, grad_linreg, ridge, prox_ridge, 1/L, s=s, n_iter =200)\n",
    "\n",
    "x = np.arange(len(X2[1]))\n",
    "fig = plt.figure()\n",
    "ax = fig.add_subplot(1,1,1)\n",
    "plt.plot(x, X2[2], label = 'cor: 0.2')\n",
    "plt.plot(x, X4[2], label = 'cor: 0.4')\n",
    "plt.plot(x, X6[2], label = 'cor: 0.6')\n",
    "plt.plot(x, X8[2], label = 'cor: 0.8')\n",
    "plt.xlabel('Iterations')\n",
    "plt.ylabel('Error')\n",
    "\n",
    "\n",
    "plt.title('ISTA for linear regression with ridge penalization')\n",
    "plt.legend()\n",
    "plt.show()"
   ]
  },
  {
   "cell_type": "code",
   "execution_count": 17,
   "metadata": {
    "collapsed": false,
    "scrolled": true
   },
   "outputs": [
    {
     "name": "stdout",
     "output_type": "stream",
     "text": [
      "Lauching ISTA solver...\n",
      "   it    |   obj    |   err   \n",
      "       0 | 6.85e-01 | 9.88e-01\n",
      "      10 | 6.21e-01 | 8.85e-01\n",
      "      20 | 5.80e-01 | 8.02e-01\n",
      "      30 | 5.52e-01 | 7.35e-01\n",
      "      40 | 5.33e-01 | 6.79e-01\n",
      "      50 | 5.18e-01 | 6.31e-01\n",
      "      60 | 5.08e-01 | 5.91e-01\n",
      "      70 | 5.00e-01 | 5.56e-01\n",
      "      80 | 4.93e-01 | 5.26e-01\n",
      "      90 | 4.88e-01 | 4.99e-01\n",
      "     100 | 4.84e-01 | 4.76e-01\n",
      "     110 | 4.81e-01 | 4.56e-01\n",
      "     120 | 4.79e-01 | 4.38e-01\n",
      "     130 | 4.76e-01 | 4.21e-01\n",
      "     140 | 4.75e-01 | 4.07e-01\n",
      "     150 | 4.73e-01 | 3.94e-01\n",
      "     160 | 4.72e-01 | 3.83e-01\n",
      "     170 | 4.71e-01 | 3.73e-01\n",
      "     180 | 4.70e-01 | 3.64e-01\n",
      "     190 | 4.69e-01 | 3.56e-01\n",
      "     200 | 4.69e-01 | 3.49e-01\n",
      "Lauching ISTA solver...\n",
      "   it    |   obj    |   err   \n",
      "       0 | 6.88e-01 | 9.91e-01\n",
      "      10 | 6.44e-01 | 9.10e-01\n",
      "      20 | 6.14e-01 | 8.41e-01\n",
      "      30 | 5.92e-01 | 7.82e-01\n",
      "      40 | 5.76e-01 | 7.30e-01\n",
      "      50 | 5.63e-01 | 6.84e-01\n",
      "      60 | 5.52e-01 | 6.43e-01\n",
      "      70 | 5.44e-01 | 6.07e-01\n",
      "      80 | 5.37e-01 | 5.75e-01\n",
      "      90 | 5.32e-01 | 5.46e-01\n",
      "     100 | 5.27e-01 | 5.20e-01\n",
      "     110 | 5.23e-01 | 4.97e-01\n",
      "     120 | 5.20e-01 | 4.76e-01\n",
      "     130 | 5.17e-01 | 4.57e-01\n",
      "     140 | 5.15e-01 | 4.39e-01\n",
      "     150 | 5.13e-01 | 4.24e-01\n",
      "     160 | 5.11e-01 | 4.09e-01\n",
      "     170 | 5.10e-01 | 3.97e-01\n",
      "     180 | 5.09e-01 | 3.85e-01\n",
      "     190 | 5.08e-01 | 3.74e-01\n",
      "     200 | 5.07e-01 | 3.65e-01\n",
      "Lauching ISTA solver...\n",
      "   it    |   obj    |   err   \n",
      "       0 | 6.89e-01 | 9.94e-01\n",
      "      10 | 6.62e-01 | 9.43e-01\n",
      "      20 | 6.47e-01 | 8.99e-01\n",
      "      30 | 6.35e-01 | 8.59e-01\n",
      "      40 | 6.26e-01 | 8.23e-01\n",
      "      50 | 6.19e-01 | 7.90e-01\n",
      "      60 | 6.12e-01 | 7.59e-01\n",
      "      70 | 6.07e-01 | 7.32e-01\n",
      "      80 | 6.03e-01 | 7.06e-01\n",
      "      90 | 5.99e-01 | 6.83e-01\n",
      "     100 | 5.95e-01 | 6.61e-01\n",
      "     110 | 5.92e-01 | 6.41e-01\n",
      "     120 | 5.90e-01 | 6.22e-01\n",
      "     130 | 5.88e-01 | 6.05e-01\n",
      "     140 | 5.86e-01 | 5.90e-01\n",
      "     150 | 5.84e-01 | 5.75e-01\n",
      "     160 | 5.82e-01 | 5.61e-01\n",
      "     170 | 5.81e-01 | 5.49e-01\n",
      "     180 | 5.80e-01 | 5.37e-01\n",
      "     190 | 5.79e-01 | 5.26e-01\n",
      "     200 | 5.78e-01 | 5.16e-01\n",
      "Lauching ISTA solver...\n",
      "   it    |   obj    |   err   \n",
      "       0 | 6.86e-01 | 9.96e-01\n",
      "      10 | 6.56e-01 | 9.64e-01\n",
      "      20 | 6.45e-01 | 9.38e-01\n",
      "      30 | 6.37e-01 | 9.14e-01\n",
      "      40 | 6.31e-01 | 8.93e-01\n",
      "      50 | 6.27e-01 | 8.72e-01\n",
      "      60 | 6.23e-01 | 8.53e-01\n",
      "      70 | 6.20e-01 | 8.35e-01\n",
      "      80 | 6.17e-01 | 8.18e-01\n",
      "      90 | 6.14e-01 | 8.02e-01\n",
      "     100 | 6.12e-01 | 7.87e-01\n",
      "     110 | 6.10e-01 | 7.73e-01\n",
      "     120 | 6.08e-01 | 7.59e-01\n",
      "     130 | 6.06e-01 | 7.46e-01\n",
      "     140 | 6.05e-01 | 7.34e-01\n",
      "     150 | 6.03e-01 | 7.22e-01\n",
      "     160 | 6.02e-01 | 7.11e-01\n",
      "     170 | 6.01e-01 | 7.01e-01\n",
      "     180 | 6.00e-01 | 6.91e-01\n",
      "     190 | 5.99e-01 | 6.81e-01\n",
      "     200 | 5.98e-01 | 6.72e-01\n"
     ]
    },
    {
     "data": {
      "image/png": "[encoded data removed]",
      "text/plain": [
       "<matplotlib.figure.Figure at 0x1087e02e8>"
      ]
     },
     "metadata": {},
     "output_type": "display_data"
    }
   ],
   "source": [
    "#Performance of ista algorithm on logistic regression\n",
    "A, b = simu_logreg(coefs, n_samples=1000, corr=0.2)\n",
    "X2 = ista(x0, loss_logreg, grad_logreg, ridge, prox_ridge, 1/L, s=s, n_iter =200)\n",
    "\n",
    "A, b = simu_logreg(coefs, n_samples=1000, corr=0.4)\n",
    "X4 = ista(x0, loss_logreg, grad_logreg, ridge, prox_ridge, 1/L, s=s, n_iter =200)\n",
    "\n",
    "A, b = simu_logreg(coefs, n_samples=1000, corr=0.6)\n",
    "X6 = ista(x0, loss_logreg, grad_logreg, ridge, prox_ridge, 1/L, s=s, n_iter =200)\n",
    "\n",
    "A, b = simu_logreg(coefs, n_samples=1000, corr=0.8)\n",
    "X8 = ista(x0, loss_logreg, grad_logreg, ridge, prox_ridge, 1/L, s=s, n_iter =200)\n",
    "\n",
    "x = np.arange(len(X2[1]))\n",
    "fig = plt.figure()\n",
    "ax = fig.add_subplot(1,1,1)\n",
    "plt.plot(x, X2[2], label = 'cor: 0.2')\n",
    "plt.plot(x, X4[2], label = 'cor: 0.4')\n",
    "plt.plot(x, X6[2], label = 'cor: 0.6')\n",
    "plt.plot(x, X8[2], label = 'cor: 0.8')\n",
    "plt.xlabel('Iterations')\n",
    "plt.ylabel('Error')\n",
    "\n",
    "\n",
    "plt.title('ISTA for logistic regression with ridge penalization')\n",
    "plt.legend()\n",
    "plt.show()"
   ]
  },
  {
   "cell_type": "markdown",
   "metadata": {},
   "source": [
    "We have the same conclusions with ISTA algorithm : when the correlation is higher, the algorithms' convergence is slower. "
   ]
  },
  {
   "cell_type": "markdown",
   "metadata": {},
   "source": [
    "##### Explanation"
   ]
  },
  {
   "cell_type": "code",
   "execution_count": 18,
   "metadata": {
    "collapsed": false
   },
   "outputs": [
    {
     "name": "stdout",
     "output_type": "stream",
     "text": [
      "correlation :  0.0 constant :  7.51914219463\n",
      "correlation :  0.2 constant :  8.43428604332\n",
      "correlation :  0.4 constant :  10.3147443405\n",
      "correlation :  0.6000000000000001 constant :  14.8760701717\n"
     ]
    }
   ],
   "source": [
    "#Lipschitz constants for linear regression\n",
    "\n",
    "for i,l in enumerate(lip_linear_constant):\n",
    "    print(\"correlation\" +\" : \", i*0.2 , \"constant\"+\" : \", l)"
   ]
  },
  {
   "cell_type": "code",
   "execution_count": 19,
   "metadata": {
    "collapsed": false
   },
   "outputs": [
    {
     "name": "stdout",
     "output_type": "stream",
     "text": [
      "correlation :  0.0 constant :  1.91410944717\n",
      "correlation :  0.2 constant :  2.10669971915\n",
      "correlation :  0.4 constant :  2.55659103243\n",
      "correlation :  0.6000000000000001 constant :  3.51739629401\n"
     ]
    }
   ],
   "source": [
    "#Lipschitz constants for logistic regression\n",
    "\n",
    "for i,l in enumerate(lip_logistic_constant):\n",
    "    print(\"correlation\" +\" : \", i*0.2 , \"constant\"+\" : \", l)"
   ]
  },
  {
   "cell_type": "markdown",
   "metadata": {},
   "source": [
    "We can see that the lischitz constant increases with correlation. Since, according to Beck Teboulle and Nesterov theorem, we know that the error is upper-bounded linearly by L. Therefore the convergence can be slower when the correlation is higher."
   ]
  },
  {
   "cell_type": "markdown",
   "metadata": {},
   "source": [
    "### Question 2 : influence of the level of ridge penalization on the performance of the optimization algorithms. \n",
    "\n",
    "In this question we will set different penalization : 0, 0.2, 0.6"
   ]
  },
  {
   "cell_type": "code",
   "execution_count": 20,
   "metadata": {
    "collapsed": false,
    "scrolled": true
   },
   "outputs": [
    {
     "name": "stdout",
     "output_type": "stream",
     "text": [
      "Lauching FISTA solver...\n",
      "   it    |   obj    |   err   \n",
      "       0 | 2.16e+01 | 2.82e+00\n",
      "      10 | 1.12e+00 | 7.79e-01\n",
      "      20 | 5.38e-01 | 1.88e-01\n",
      "      30 | 5.24e-01 | 1.55e-01\n",
      "      40 | 5.18e-01 | 1.13e-01\n",
      "      50 | 5.16e-01 | 1.19e-01\n",
      "      60 | 5.16e-01 | 1.16e-01\n",
      "      70 | 5.15e-01 | 1.10e-01\n",
      "      80 | 5.15e-01 | 1.13e-01\n",
      "      90 | 5.15e-01 | 1.13e-01\n",
      "     100 | 5.15e-01 | 1.12e-01\n",
      "Lauching FISTA solver...\n",
      "   it    |   obj    |   err   \n",
      "       0 | 2.46e+01 | 2.77e+00\n",
      "      10 | 1.06e+00 | 5.99e-01\n",
      "      20 | 8.82e-01 | 3.81e-01\n",
      "      30 | 8.55e-01 | 4.00e-01\n",
      "      40 | 8.53e-01 | 3.93e-01\n",
      "      50 | 8.53e-01 | 3.87e-01\n",
      "      60 | 8.52e-01 | 3.93e-01\n",
      "      70 | 8.52e-01 | 3.90e-01\n",
      "      80 | 8.52e-01 | 3.90e-01\n",
      "      90 | 8.52e-01 | 3.91e-01\n",
      "     100 | 8.52e-01 | 3.90e-01\n",
      "Lauching FISTA solver...\n",
      "   it    |   obj    |   err   \n",
      "       0 | 2.97e+01 | 2.67e+00\n",
      "      10 | 1.14e+00 | 6.49e-01\n",
      "      20 | 1.11e+00 | 6.40e-01\n",
      "      30 | 1.11e+00 | 6.41e-01\n",
      "      40 | 1.11e+00 | 6.40e-01\n",
      "      50 | 1.11e+00 | 6.41e-01\n",
      "      60 | 1.11e+00 | 6.41e-01\n",
      "      70 | 1.11e+00 | 6.41e-01\n",
      "      80 | 1.11e+00 | 6.41e-01\n",
      "      90 | 1.11e+00 | 6.41e-01\n",
      "     100 | 1.11e+00 | 6.41e-01\n"
     ]
    },
    {
     "data": {
      "image/png": "[encoded data removed]",
      "text/plain": [
       "<matplotlib.figure.Figure at 0x10846aeb8>"
      ]
     },
     "metadata": {},
     "output_type": "display_data"
    }
   ],
   "source": [
    "#Impact of the penalization for FISTA for linear regression\n",
    "A, b = simu_linreg(coefs, n_samples=1000, corr=0.5)\n",
    "\n",
    "x = randn(50)\n",
    "F0 = fista(x, loss_linreg, grad_linreg, ridge, prox_ridge, 1/L, s=0, n_iter =100)\n",
    "F2 = fista(x, loss_linreg, grad_linreg, ridge, prox_ridge, 1/L, s=0.2, n_iter =100)\n",
    "F6 = fista(x, loss_linreg, grad_linreg, ridge, prox_ridge, 1/L, s=0.6, n_iter =100)\n",
    "\n",
    "x = np.arange(len(F0[1]))\n",
    "fig = plt.figure()\n",
    "ax = fig.add_subplot(1,1,1)\n",
    "plt.plot(x, F0[2], label = 'p = 0')\n",
    "plt.plot(x, F2[2], label = 'p = 0.2')\n",
    "plt.plot(x, F6[2], label = 'p = 0.6')\n",
    "plt.title('FISTA for linear regression with different penalizations')\n",
    "plt.xlabel('Iterations')\n",
    "plt.ylabel('Error')\n",
    "\n",
    "plt.legend()\n",
    "plt.show()"
   ]
  },
  {
   "cell_type": "code",
   "execution_count": 21,
   "metadata": {
    "collapsed": false,
    "scrolled": true
   },
   "outputs": [
    {
     "name": "stdout",
     "output_type": "stream",
     "text": [
      "Lauching FISTA solver...\n",
      "   it    |   obj    |   err   \n",
      "       0 | 2.61e+00 | 2.96e+00\n",
      "      10 | 2.00e+00 | 2.57e+00\n",
      "      20 | 1.17e+00 | 1.91e+00\n",
      "      30 | 7.34e-01 | 1.27e+00\n",
      "      40 | 5.60e-01 | 8.12e-01\n",
      "      50 | 5.09e-01 | 6.37e-01\n",
      "      60 | 5.03e-01 | 6.45e-01\n",
      "      70 | 5.04e-01 | 6.43e-01\n",
      "      80 | 4.98e-01 | 5.73e-01\n",
      "      90 | 4.92e-01 | 4.76e-01\n",
      "     100 | 4.90e-01 | 4.03e-01\n",
      "     110 | 4.90e-01 | 3.71e-01\n",
      "     120 | 4.90e-01 | 3.59e-01\n",
      "     130 | 4.89e-01 | 3.54e-01\n",
      "     140 | 4.89e-01 | 3.54e-01\n",
      "     150 | 4.88e-01 | 3.59e-01\n",
      "     160 | 4.88e-01 | 3.72e-01\n",
      "     170 | 4.88e-01 | 3.88e-01\n",
      "     180 | 4.88e-01 | 4.02e-01\n",
      "     190 | 4.88e-01 | 4.09e-01\n",
      "     200 | 4.88e-01 | 4.08e-01\n",
      "Lauching FISTA solver...\n",
      "   it    |   obj    |   err   \n",
      "       0 | 6.90e+00 | 2.90e+00\n",
      "      10 | 2.38e+00 | 1.59e+00\n",
      "      20 | 6.65e-01 | 7.44e-01\n",
      "      30 | 6.71e-01 | 8.12e-01\n",
      "      40 | 6.34e-01 | 7.71e-01\n",
      "      50 | 6.35e-01 | 7.58e-01\n",
      "      60 | 6.31e-01 | 7.64e-01\n",
      "      70 | 6.31e-01 | 7.69e-01\n",
      "      80 | 6.31e-01 | 7.62e-01\n",
      "      90 | 6.31e-01 | 7.62e-01\n",
      "     100 | 6.31e-01 | 7.65e-01\n",
      "     110 | 6.31e-01 | 7.64e-01\n",
      "     120 | 6.31e-01 | 7.63e-01\n",
      "     130 | 6.31e-01 | 7.64e-01\n",
      "     140 | 6.31e-01 | 7.64e-01\n",
      "     150 | 6.31e-01 | 7.63e-01\n",
      "     160 | 6.31e-01 | 7.63e-01\n",
      "     170 | 6.31e-01 | 7.64e-01\n",
      "     180 | 6.31e-01 | 7.64e-01\n",
      "     190 | 6.31e-01 | 7.63e-01\n",
      "     200 | 6.31e-01 | 7.64e-01\n",
      "Lauching FISTA solver...\n",
      "   it    |   obj    |   err   \n",
      "       0 | 1.45e+01 | 2.80e+00\n",
      "      10 | 9.00e-01 | 9.22e-01\n",
      "      20 | 7.02e-01 | 9.25e-01\n",
      "      30 | 6.71e-01 | 8.93e-01\n",
      "      40 | 6.65e-01 | 9.00e-01\n",
      "      50 | 6.64e-01 | 8.97e-01\n",
      "      60 | 6.64e-01 | 8.97e-01\n",
      "      70 | 6.64e-01 | 8.98e-01\n",
      "      80 | 6.64e-01 | 8.97e-01\n",
      "      90 | 6.64e-01 | 8.98e-01\n",
      "     100 | 6.64e-01 | 8.98e-01\n",
      "     110 | 6.64e-01 | 8.98e-01\n",
      "     120 | 6.64e-01 | 8.98e-01\n",
      "     130 | 6.64e-01 | 8.98e-01\n",
      "     140 | 6.64e-01 | 8.98e-01\n",
      "     150 | 6.64e-01 | 8.98e-01\n",
      "     160 | 6.64e-01 | 8.98e-01\n",
      "     170 | 6.64e-01 | 8.98e-01\n",
      "     180 | 6.64e-01 | 8.98e-01\n",
      "     190 | 6.64e-01 | 8.98e-01\n",
      "     200 | 6.64e-01 | 8.98e-01\n"
     ]
    },
    {
     "data": {
      "image/png": "[encoded data removed]",
      "text/plain": [
       "<matplotlib.figure.Figure at 0x1087b61d0>"
      ]
     },
     "metadata": {},
     "output_type": "display_data"
    }
   ],
   "source": [
    "#Impact of the penalization for FISTA for logistic regression\n",
    "\n",
    "A, b = simu_logreg(coefs, n_samples=1000, corr=0.5)\n",
    "\n",
    "x = randn(50)\n",
    "Z0 = fista(x, loss_logreg, grad_logreg, ridge, prox_ridge, 1/L, s=0, n_iter =200)\n",
    "Z1 = fista(x, loss_logreg, grad_logreg, ridge, prox_ridge, 1/L, s=0.2, n_iter =200)\n",
    "Z2 = fista(x, loss_logreg, grad_logreg, ridge, prox_ridge, 1/L, s=0.6, n_iter =200)\n",
    "\n",
    "x = np.arange(len(Z0[1]))\n",
    "fig = plt.figure()\n",
    "ax = fig.add_subplot(1,1,1)\n",
    "plt.plot(x, Z0[2], label = 'p = 0')\n",
    "plt.plot(x, Z1[2], label = 'p = 0.2')\n",
    "plt.plot(x, Z2[2], label = 'p = 0.6')\n",
    "plt.xlabel('Iterations')\n",
    "plt.ylabel('Error')\n",
    "plt.title('FISTA for logistic regression with different penalizations')\n",
    "\n",
    "plt.legend()\n",
    "plt.show()\n",
    "\n"
   ]
  },
  {
   "cell_type": "markdown",
   "metadata": {},
   "source": [
    "For FISTA algorithm, increasing penalization increases the convergence speed but also seems to increase the error limit."
   ]
  },
  {
   "cell_type": "code",
   "execution_count": 22,
   "metadata": {
    "collapsed": false,
    "scrolled": true
   },
   "outputs": [
    {
     "name": "stdout",
     "output_type": "stream",
     "text": [
      "Lauching ISTA solver...\n",
      "   it    |   obj    |   err   \n",
      "       0 | 1.66e+01 | 2.66e+00\n",
      "      10 | 2.86e+00 | 1.45e+00\n",
      "      20 | 1.40e+00 | 9.52e-01\n",
      "      30 | 9.03e-01 | 6.50e-01\n",
      "      40 | 6.90e-01 | 4.52e-01\n",
      "      50 | 5.93e-01 | 3.20e-01\n",
      "      60 | 5.47e-01 | 2.32e-01\n",
      "      70 | 5.24e-01 | 1.74e-01\n",
      "      80 | 5.13e-01 | 1.39e-01\n",
      "      90 | 5.07e-01 | 1.20e-01\n",
      "     100 | 5.04e-01 | 1.10e-01\n",
      "     110 | 5.03e-01 | 1.06e-01\n",
      "     120 | 5.02e-01 | 1.04e-01\n",
      "     130 | 5.02e-01 | 1.04e-01\n",
      "     140 | 5.02e-01 | 1.05e-01\n",
      "     150 | 5.01e-01 | 1.05e-01\n",
      "     160 | 5.01e-01 | 1.06e-01\n",
      "     170 | 5.01e-01 | 1.07e-01\n",
      "     180 | 5.01e-01 | 1.07e-01\n",
      "     190 | 5.01e-01 | 1.07e-01\n",
      "     200 | 5.01e-01 | 1.08e-01\n",
      "Lauching ISTA solver...\n",
      "   it    |   obj    |   err   \n",
      "       0 | 1.94e+01 | 2.61e+00\n",
      "      10 | 2.89e+00 | 1.22e+00\n",
      "      20 | 1.38e+00 | 7.37e-01\n",
      "      30 | 1.01e+00 | 5.22e-01\n",
      "      40 | 9.03e-01 | 4.30e-01\n",
      "      50 | 8.69e-01 | 3.93e-01\n",
      "      60 | 8.58e-01 | 3.80e-01\n",
      "      70 | 8.54e-01 | 3.75e-01\n",
      "      80 | 8.53e-01 | 3.74e-01\n",
      "      90 | 8.53e-01 | 3.73e-01\n",
      "     100 | 8.53e-01 | 3.73e-01\n",
      "     110 | 8.53e-01 | 3.73e-01\n",
      "     120 | 8.53e-01 | 3.73e-01\n",
      "     130 | 8.53e-01 | 3.73e-01\n",
      "     140 | 8.53e-01 | 3.73e-01\n",
      "     150 | 8.53e-01 | 3.73e-01\n",
      "     160 | 8.53e-01 | 3.73e-01\n",
      "     170 | 8.53e-01 | 3.73e-01\n",
      "     180 | 8.53e-01 | 3.73e-01\n",
      "     190 | 8.53e-01 | 3.73e-01\n",
      "     200 | 8.53e-01 | 3.73e-01\n",
      "Lauching ISTA solver...\n",
      "   it    |   obj    |   err   \n",
      "       0 | 2.42e+01 | 2.52e+00\n",
      "      10 | 2.44e+00 | 9.57e-01\n",
      "      20 | 1.28e+00 | 6.82e-01\n",
      "      30 | 1.15e+00 | 6.37e-01\n",
      "      40 | 1.13e+00 | 6.30e-01\n",
      "      50 | 1.12e+00 | 6.29e-01\n",
      "      60 | 1.12e+00 | 6.29e-01\n",
      "      70 | 1.12e+00 | 6.29e-01\n",
      "      80 | 1.12e+00 | 6.29e-01\n",
      "      90 | 1.12e+00 | 6.29e-01\n",
      "     100 | 1.12e+00 | 6.29e-01\n",
      "     110 | 1.12e+00 | 6.29e-01\n",
      "     120 | 1.12e+00 | 6.29e-01\n",
      "     130 | 1.12e+00 | 6.29e-01\n",
      "     140 | 1.12e+00 | 6.29e-01\n",
      "     150 | 1.12e+00 | 6.29e-01\n",
      "     160 | 1.12e+00 | 6.29e-01\n",
      "     170 | 1.12e+00 | 6.29e-01\n",
      "     180 | 1.12e+00 | 6.29e-01\n",
      "     190 | 1.12e+00 | 6.29e-01\n",
      "     200 | 1.12e+00 | 6.29e-01\n"
     ]
    },
    {
     "data": {
      "image/png": "[encoded data removed]",
      "text/plain": [
       "<matplotlib.figure.Figure at 0x1087b6390>"
      ]
     },
     "metadata": {},
     "output_type": "display_data"
    }
   ],
   "source": [
    "#Impact of the penalization for ISTA for linear regression\n",
    "\n",
    "A, b = simu_linreg(coefs, n_samples=1000, corr=0.5)\n",
    "L = lip_linreg(A)\n",
    "\n",
    "x = randn(50)\n",
    "I0 = ista(x, loss_linreg, grad_linreg, ridge, prox_ridge, 1/L, s=0, n_iter =200)\n",
    "I2 = ista(x, loss_linreg, grad_linreg, ridge, prox_ridge, 1/L, s=0.2, n_iter =200)\n",
    "I6 = ista(x, loss_linreg, grad_linreg, ridge, prox_ridge, 1/L, s=0.6, n_iter =200)\n",
    "\n",
    "x = np.arange(len(I0[1]))\n",
    "fig = plt.figure()\n",
    "ax = fig.add_subplot(1,1,1)\n",
    "plt.plot(x, I0[2], label = 'p = 0')\n",
    "plt.plot(x, I2[2], label = 'p = 0.2')\n",
    "plt.plot(x, I6[2], label = 'p = 0.6')\n",
    "plt.xlabel('Iterations')\n",
    "plt.ylabel('Error rate')\n",
    "plt.title('ISTA for linear regression with different level of ridge penalization')\n",
    "\n",
    "plt.legend()\n",
    "plt.show()"
   ]
  },
  {
   "cell_type": "code",
   "execution_count": 23,
   "metadata": {
    "collapsed": false,
    "scrolled": true
   },
   "outputs": [
    {
     "name": "stdout",
     "output_type": "stream",
     "text": [
      "Lauching ISTA solver...\n",
      "   it    |   obj    |   err   \n",
      "       0 | 2.60e+00 | 3.19e+00\n",
      "      10 | 1.72e+00 | 2.58e+00\n",
      "      20 | 1.23e+00 | 2.09e+00\n",
      "      30 | 9.45e-01 | 1.70e+00\n",
      "      40 | 7.75e-01 | 1.38e+00\n",
      "      50 | 6.71e-01 | 1.13e+00\n",
      "      60 | 6.08e-01 | 9.38e-01\n",
      "      70 | 5.70e-01 | 7.90e-01\n",
      "      80 | 5.48e-01 | 6.80e-01\n",
      "      90 | 5.35e-01 | 6.00e-01\n",
      "     100 | 5.28e-01 | 5.41e-01\n",
      "     110 | 5.23e-01 | 4.98e-01\n",
      "     120 | 5.20e-01 | 4.66e-01\n",
      "     130 | 5.19e-01 | 4.44e-01\n",
      "     140 | 5.18e-01 | 4.27e-01\n",
      "     150 | 5.17e-01 | 4.14e-01\n",
      "     160 | 5.17e-01 | 4.05e-01\n",
      "     170 | 5.16e-01 | 3.98e-01\n",
      "     180 | 5.16e-01 | 3.92e-01\n",
      "     190 | 5.16e-01 | 3.88e-01\n",
      "     200 | 5.16e-01 | 3.85e-01\n",
      "Lauching ISTA solver...\n",
      "   it    |   obj    |   err   \n",
      "       0 | 6.59e+00 | 2.96e+00\n",
      "      10 | 1.27e+00 | 1.25e+00\n",
      "      20 | 6.84e-01 | 8.62e-01\n",
      "      30 | 6.40e-01 | 8.06e-01\n",
      "      40 | 6.37e-01 | 7.95e-01\n",
      "      50 | 6.36e-01 | 7.92e-01\n",
      "      60 | 6.36e-01 | 7.91e-01\n",
      "      70 | 6.36e-01 | 7.91e-01\n",
      "      80 | 6.36e-01 | 7.91e-01\n",
      "      90 | 6.36e-01 | 7.91e-01\n",
      "     100 | 6.36e-01 | 7.91e-01\n",
      "     110 | 6.36e-01 | 7.91e-01\n",
      "     120 | 6.36e-01 | 7.91e-01\n",
      "     130 | 6.36e-01 | 7.91e-01\n",
      "     140 | 6.36e-01 | 7.91e-01\n",
      "     150 | 6.36e-01 | 7.91e-01\n",
      "     160 | 6.36e-01 | 7.91e-01\n",
      "     170 | 6.36e-01 | 7.91e-01\n",
      "     180 | 6.36e-01 | 7.91e-01\n",
      "     190 | 6.36e-01 | 7.91e-01\n",
      "     200 | 6.36e-01 | 7.91e-01\n",
      "Lauching ISTA solver...\n",
      "   it    |   obj    |   err   \n",
      "       0 | 1.15e+01 | 2.60e+00\n",
      "      10 | 7.06e-01 | 9.36e-01\n",
      "      20 | 6.65e-01 | 9.11e-01\n",
      "      30 | 6.65e-01 | 9.10e-01\n",
      "      40 | 6.65e-01 | 9.10e-01\n",
      "      50 | 6.65e-01 | 9.10e-01\n",
      "      60 | 6.65e-01 | 9.10e-01\n",
      "      70 | 6.65e-01 | 9.10e-01\n",
      "      80 | 6.65e-01 | 9.10e-01\n",
      "      90 | 6.65e-01 | 9.10e-01\n",
      "     100 | 6.65e-01 | 9.10e-01\n",
      "     110 | 6.65e-01 | 9.10e-01\n",
      "     120 | 6.65e-01 | 9.10e-01\n",
      "     130 | 6.65e-01 | 9.10e-01\n",
      "     140 | 6.65e-01 | 9.10e-01\n",
      "     150 | 6.65e-01 | 9.10e-01\n",
      "     160 | 6.65e-01 | 9.10e-01\n",
      "     170 | 6.65e-01 | 9.10e-01\n",
      "     180 | 6.65e-01 | 9.10e-01\n",
      "     190 | 6.65e-01 | 9.10e-01\n",
      "     200 | 6.65e-01 | 9.10e-01\n"
     ]
    },
    {
     "data": {
      "image/png": "[encoded data removed]",
      "text/plain": [
       "<matplotlib.figure.Figure at 0x1083cca20>"
      ]
     },
     "metadata": {},
     "output_type": "display_data"
    }
   ],
   "source": [
    "#Impact of the penalization for ISTA for logistic regression\n",
    "\n",
    "A, b = simu_logreg(coefs, n_samples=1000, corr=0.5)\n",
    "L = lip_logreg(A)\n",
    "\n",
    "x = randn(50)\n",
    "I00 = ista(x, loss_logreg, grad_logreg, ridge, prox_ridge, 1/L, s=0, n_iter =200)\n",
    "I02 = ista(x, loss_logreg, grad_logreg, ridge, prox_ridge, 1/L, s=0.2, n_iter =200)\n",
    "I06 = ista(x, loss_logreg, grad_logreg, ridge, prox_ridge, 1/L, s=0.6, n_iter =200)\n",
    "\n",
    "x = np.arange(len(I00[1]))\n",
    "fig = plt.figure()\n",
    "ax = fig.add_subplot(1,1,1)\n",
    "plt.plot(x, I00[2], label = 'p = 0')\n",
    "plt.plot(x, I02[2], label = 'p = 0.2')\n",
    "plt.plot(x, I06[2], label = 'p  0.6')\n",
    "plt.xlabel('Iterations')\n",
    "plt.ylabel('Error')\n",
    "plt.title('ISTA for logistic regression with different penalizations')\n",
    "\n",
    "plt.legend()\n",
    "plt.show()"
   ]
  },
  {
   "cell_type": "markdown",
   "metadata": {},
   "source": [
    "As for FISTA algorithm, we can see that for ISTA, increasing penalization increases the convergence speed but also the error limit. "
   ]
  },
  {
   "cell_type": "markdown",
   "metadata": {},
   "source": [
    "#### Explanation\n",
    "\n",
    "As we saw in the very first question, the penalization coefficient affects the \"intensity\" of the coefficients. If the penalization increases, the coefficients decreases proportionnaly. Therefore, the higher penalization is, the higher the error rate limit will be."
   ]
  },
  {
   "cell_type": "markdown",
   "metadata": {},
   "source": [
    "### Question 3 : comparison of the performance of the optimization algorithms for ridge and lasso penalizations"
   ]
  },
  {
   "cell_type": "code",
   "execution_count": 53,
   "metadata": {
    "collapsed": false,
    "scrolled": true
   },
   "outputs": [
    {
     "name": "stdout",
     "output_type": "stream",
     "text": [
      "Lauching FISTA solver...\n",
      "   it    |   obj    |   err   \n",
      "       0 | 2.55e+01 | 2.58e+00\n",
      "      10 | 1.06e+00 | 6.26e-01\n",
      "      20 | 1.02e+00 | 6.07e-01\n",
      "      30 | 1.02e+00 | 6.13e-01\n",
      "Lauching FISTA solver...\n",
      "   it    |   obj    |   err   \n",
      "       0 | 3.32e+01 | 2.59e+00\n",
      "      10 | 1.47e+00 | 9.65e-01\n",
      "      20 | 1.44e+00 | 9.90e-01\n",
      "      30 | 1.44e+00 | 9.86e-01\n"
     ]
    },
    {
     "data": {
      "image/png": "[encoded data removed]",
      "text/plain": [
       "<matplotlib.figure.Figure at 0x1084dfe10>"
      ]
     },
     "metadata": {},
     "output_type": "display_data"
    }
   ],
   "source": [
    "# FISTA for linear regression\n",
    "\n",
    "A, b = simu_linreg(coefs, n_samples=1000, corr=0.5)\n",
    "x = randn(50)\n",
    "ridge = fista(x, loss_linreg, grad_linreg, ridge, prox_ridge, 1/L, s=0.5, n_iter =30)\n",
    "lasso = fista(x, loss_linreg, grad_linreg, lasso, prox_lasso, 1/L, s=0.5, n_iter =30)\n",
    "\n",
    "x = np.arange(len(ridge[1]))\n",
    "fig = plt.figure()\n",
    "ax = fig.add_subplot(1,1,1)\n",
    "plt.plot(x, ridge[2], label = 'ridge pen')\n",
    "plt.plot(x, lasso[2], label = 'lasso pen')\n",
    "plt.xlabel('Iterations')\n",
    "plt.ylabel('Error')\n",
    "plt.title('FISTA performance according to the penalization (Lasso,Ridge) for linear regression')\n",
    "\n",
    "plt.legend()\n",
    "plt.show()"
   ]
  },
  {
   "cell_type": "code",
   "execution_count": 60,
   "metadata": {
    "collapsed": false,
    "scrolled": true
   },
   "outputs": [
    {
     "name": "stdout",
     "output_type": "stream",
     "text": [
      "Lauching FISTA solver...\n",
      "   it    |   obj    |   err   \n",
      "       0 | 1.54e+01 | 3.11e+00\n",
      "      10 | 1.34e+00 | 1.02e+00\n",
      "      20 | 7.55e-01 | 9.45e-01\n",
      "      30 | 6.80e-01 | 8.92e-01\n",
      "Lauching FISTA solver...\n",
      "   it    |   obj    |   err   \n",
      "       0 | 2.27e+01 | 3.14e+00\n",
      "      10 | 3.19e+00 | 1.16e+00\n",
      "      20 | 7.02e-01 | 1.00e+00\n",
      "      30 | 6.93e-01 | 1.00e+00\n"
     ]
    },
    {
     "data": {
      "image/png": "[encoded data removed]",
      "text/plain": [
       "<matplotlib.figure.Figure at 0x10b0c1668>"
      ]
     },
     "metadata": {},
     "output_type": "display_data"
    }
   ],
   "source": [
    "#FISTA for logistic regression\n",
    "\n",
    "A, b = simu_logreg(coefs, n_samples=1000, corr=0.5)\n",
    "\n",
    "x = randn(50)\n",
    "ridge2 = fista(x, loss_logreg, grad_logreg, ridge, prox_ridge, 1/L, s=0.5, n_iter =30)\n",
    "lasso2 = fista(x, loss_logreg, grad_logreg, lasso, prox_lasso, 1/L, s=0.5, n_iter =30)\n",
    "\n",
    "\n",
    "x = np.arange(len(ridge2[1]))\n",
    "fig = plt.figure()\n",
    "ax = fig.add_subplot(1,1,1)\n",
    "plt.plot(x, ridge2[2], label = 'ridge pen')\n",
    "plt.plot(x, lasso2[2], label = 'lasso pen')\n",
    "plt.xlabel('Iterations')\n",
    "plt.ylabel('Error')\n",
    "plt.title('FISTA performance according to the penalization (Lasso,Ridge) for logigstic regression')\n",
    "\n",
    "plt.legend()\n",
    "plt.show()\n",
    "\n",
    "\n",
    "#There is a problem with the lasso penalization. For the code to run, you have to run the corresponding cell again..."
   ]
  },
  {
   "cell_type": "code",
   "execution_count": 31,
   "metadata": {
    "collapsed": false,
    "scrolled": true
   },
   "outputs": [
    {
     "name": "stdout",
     "output_type": "stream",
     "text": [
      "Lauching ISTA solver...\n",
      "   it    |   obj    |   err   \n",
      "       0 | 3.80e+01 | 3.35e+00\n",
      "      10 | 4.00e+00 | 1.27e+00\n",
      "      20 | 1.54e+00 | 7.47e-01\n",
      "      30 | 1.20e+00 | 6.14e-01\n",
      "      40 | 1.14e+00 | 5.81e-01\n",
      "      50 | 1.13e+00 | 5.72e-01\n",
      "      60 | 1.13e+00 | 5.68e-01\n",
      "      70 | 1.13e+00 | 5.67e-01\n",
      "      80 | 1.13e+00 | 5.67e-01\n",
      "      90 | 1.13e+00 | 5.67e-01\n",
      "     100 | 1.13e+00 | 5.66e-01\n",
      "Lauching ISTA solver...\n",
      "   it    |   obj    |   err   \n",
      "       0 | 4.46e+01 | 3.40e+00\n",
      "      10 | 7.17e+00 | 1.29e+00\n",
      "      20 | 1.70e+00 | 9.53e-01\n",
      "      30 | 1.65e+00 | 9.56e-01\n",
      "      40 | 1.65e+00 | 9.58e-01\n",
      "      50 | 1.65e+00 | 9.59e-01\n",
      "      60 | 1.65e+00 | 9.59e-01\n",
      "      70 | 1.65e+00 | 9.59e-01\n",
      "      80 | 1.65e+00 | 9.59e-01\n",
      "      90 | 1.65e+00 | 9.59e-01\n",
      "     100 | 1.65e+00 | 9.59e-01\n"
     ]
    },
    {
     "data": {
      "image/png": "[encoded data removed]",
      "text/plain": [
       "<matplotlib.figure.Figure at 0x1083f4668>"
      ]
     },
     "metadata": {},
     "output_type": "display_data"
    }
   ],
   "source": [
    "#ISTA for linear regression\n",
    "\n",
    "A, b = simu_linreg(coefs, n_samples=1000, corr=0.5)\n",
    "\n",
    "x = randn(50)\n",
    "ridge3 = ista(x, loss_linreg, grad_linreg, ridge, prox_ridge, 1/L, s=0.5, n_iter =100)\n",
    "lasso3 = ista(x, loss_linreg, grad_linreg, lasso, prox_lasso, 1/L, s=0.5, n_iter =100)\n",
    "\n",
    "x = np.arange(len(ridge3[1]))\n",
    "fig = plt.figure()\n",
    "ax = fig.add_subplot(1,1,1)\n",
    "plt.plot(x, ridge3[2], label = 'ridge')\n",
    "plt.plot(x, lasso3[2], label = 'lasso')\n",
    "plt.xlabel('Iterations')\n",
    "plt.ylabel('Error')\n",
    "plt.title('ISTA performance according to the penalization (Lasso,Ridge) for linear regression')\n",
    "\n",
    "plt.legend()\n",
    "plt.show()\n",
    "\n"
   ]
  },
  {
   "cell_type": "code",
   "execution_count": 32,
   "metadata": {
    "collapsed": false,
    "scrolled": true
   },
   "outputs": [
    {
     "name": "stdout",
     "output_type": "stream",
     "text": [
      "Lauching ISTA solver...\n",
      "   it    |   obj    |   err   \n",
      "       0 | 1.36e+01 | 2.88e+00\n",
      "      10 | 4.82e+00 | 1.71e+00\n",
      "      20 | 1.84e+00 | 1.14e+00\n",
      "      30 | 9.59e-01 | 9.42e-01\n",
      "      40 | 7.37e-01 | 8.95e-01\n",
      "      50 | 6.84e-01 | 8.90e-01\n",
      "Lauching ISTA solver...\n",
      "   it    |   obj    |   err   \n",
      "       0 | 3.80e+01 | 2.79e+00\n",
      "      10 | 4.82e+00 | 1.15e+00\n",
      "      20 | 6.93e-01 | 1.00e+00\n",
      "      30 | 6.93e-01 | 1.00e+00\n",
      "      40 | 6.93e-01 | 1.00e+00\n",
      "      50 | 6.93e-01 | 1.00e+00\n"
     ]
    },
    {
     "data": {
      "image/png": "[encoded data removed]",
      "text/plain": [
       "<matplotlib.figure.Figure at 0x108450e80>"
      ]
     },
     "metadata": {},
     "output_type": "display_data"
    }
   ],
   "source": [
    "# ISTA for logistic regression\n",
    "\n",
    "A, b = simu_logreg(coefs, n_samples=1000, corr=0.5)\n",
    "\n",
    "x = randn(50)\n",
    "ridge4 = ista(x, loss_logreg, grad_logreg, ridge, prox_ridge, 1/L, s=0.5, n_iter =50)\n",
    "lasso4 = ista(x, loss_logreg, grad_logreg, lasso, prox_lasso, 1/L, s=1, n_iter =50)\n",
    "\n",
    "\n",
    "x = np.arange(len(ridge4[1]))\n",
    "fig = plt.figure()\n",
    "ax = fig.add_subplot(1,1,1)\n",
    "plt.plot(x, ridge4[2], label = 'ridge')\n",
    "plt.plot(x, lasso4[2], label = 'lasso')\n",
    "plt.xlabel('Iterations')\n",
    "plt.ylabel('Error')\n",
    "plt.title('ISTA performance according to the penalization (Lasso,Ridge) for logistic regression')\n",
    "\n",
    "plt.legend()\n",
    "plt.show()"
   ]
  },
  {
   "cell_type": "markdown",
   "metadata": {},
   "source": [
    "In all cases, we can see that the error rate limit for the lasso penalization is always higher than the ridge one. We can explain this bacause in the lasso, a lot of coefficients are reduced to 0."
   ]
  },
  {
   "cell_type": "code",
   "execution_count": null,
   "metadata": {
    "collapsed": true
   },
   "outputs": [],
   "source": []
  }
 ],
 "metadata": {
  "anaconda-cloud": {},
  "kernelspec": {
   "display_name": "Python 3",
   "language": "python",
   "name": "python3"
  },
  "language_info": {
   "codemirror_mode": {
    "name": "ipython",
    "version": 3
   },
   "file_extension": ".py",
   "mimetype": "text/x-python",
   "name": "python",
   "nbconvert_exporter": "python",
   "pygments_lexer": "ipython3",
   "version": "3.5.1"
  }
 },
 "nbformat": 4,
 "nbformat_minor": 1
}
