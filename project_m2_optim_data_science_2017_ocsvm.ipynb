{
 "cells": [
  {
   "cell_type": "markdown",
   "metadata": {},
   "source": [
    "# PROJECT: Course Optimization for Data Science\n",
    "## Optimization strategies for anomaly detection\n",
    "## with One class Support Vector Machines (OCSVM)"
   ]
  },
  {
   "cell_type": "markdown",
   "metadata": {},
   "source": [
    "Author: Alexandre Gramfort\n",
    "\n",
    "If you have questions or if something is not clear in the text below please contact us\n",
    "by email.\n",
    "\n",
    "## Aim:\n",
    "\n",
    "- derive the dual for the one-class SVM model\n",
    "- implement a one-class SVM using a blackbox convex toolbox (cvxopt in Python)\n",
    "- implement your own solvers with: Proximal gradient, Coordinate Descent, Quasi-Newton\n",
    "- Present a clear benchmark of the different strategies on small and medium scale datasets\n",
    "\n",
    "\n",
    "## VERY IMPORTANT\n",
    "\n",
    "This work must be done by pairs of students.\n",
    "Each student must send their work before the 7th of January at 23:59, using the moodle platform.\n",
    "This means that **each student in the pair sends the same file**\n",
    "\n",
    "On the moodle, in the \"Optimization for Data Science\" course, you have a \"devoir\" section called \"Project\".\n",
    "This is where you submit your jupyter notebook file.\n",
    "\n",
    "The name of the file must be constructed as in the next cell\n",
    "\n",
    "### Gentle reminder: no evaluation if you don't respect this EXACTLY\n",
    "\n",
    "#### How to construct the name of your file"
   ]
  },
  {
   "cell_type": "code",
   "execution_count": 82,
   "metadata": {},
   "outputs": [
    {
     "name": "stdout",
     "output_type": "stream",
     "text": [
      "project___and_robaglia_benoit.ipynb\n"
     ]
    }
   ],
   "source": [
    "# Change here using YOUR first and last names\n",
    "fn1 = \"\"\n",
    "ln1 = \"\"\n",
    "fn2 = \"benoit\"\n",
    "ln2 = \"robaglia\"\n",
    "\n",
    "filename = \"_\".join(map(lambda s: s.strip().lower(), \n",
    "                        [\"project\", ln1, fn1, \"and\", ln2, fn2])) + \".ipynb\"\n",
    "print(filename)"
   ]
  },
  {
   "cell_type": "markdown",
   "metadata": {},
   "source": [
    "Some imports"
   ]
  },
  {
   "cell_type": "code",
   "execution_count": 5,
   "metadata": {},
   "outputs": [],
   "source": [
    "%matplotlib inline\n",
    "import numpy as np\n",
    "from scipy import linalg\n",
    "import time\n",
    "import matplotlib.pyplot as plt"
   ]
  },
  {
   "cell_type": "markdown",
   "metadata": {},
   "source": [
    "## Important:\n",
    "\n",
    "For Part 0 to Part 2 of the project you will need a working install of `cvxopt`.\n",
    "You may struggle a bit to set it up.\n",
    "The simplest way of getting it is by typing \n",
    "\n",
    "`conda install cvxopt`\n",
    "\n",
    "or\n",
    "\n",
    "`pip install cvxopt`\n",
    "\n",
    "if you have `conda` or `pip` installed on your laptop.\n",
    "If you **struggle too much please\n",
    "contact us**."
   ]
  },
  {
   "cell_type": "markdown",
   "metadata": {},
   "source": [
    "## Part 0: One-class SVM"
   ]
  },
  {
   "cell_type": "markdown",
   "metadata": {},
   "source": [
    "The original formulation of the One-Class SVM introduced by Schölkopf [1] is given by\n",
    "\n",
    "$$\n",
    "    (\\mathcal{P}): \\left\\{\n",
    "\t\\begin{aligned}\n",
    "\t\\min_{w, \\rho, \\xi} & \\quad \\frac{1}{2}\\Vert w \\Vert^2 - \\rho + \\frac{1}{\\nu n} \\sum_{i=1}^n \\xi_i \\\\\n",
    "\t\\text{s.t.} & \\quad \\langle w, x_i \\rangle \\geq \\rho - \\xi_i \\quad 1 \\leq i \\leq n \\\\\n",
    "\t& \\quad \\xi_i \\geq 0 \\quad 1 \\leq i \\leq n\n",
    "\t\\end{aligned}\n",
    "    \\right.\n",
    "$$\n",
    "\n",
    "where $\\nu \\in (0, 1]$ is a user-specified parameter controlling the proportion of outliers and the proportion of support vectors.\n",
    "\n",
    "Getting rid of the slack variables $\\xi_i, 1 \\leq i \\leq n$ one can also obtain the following equivalent optimization problem\n",
    "\n",
    "$$\n",
    "\t\\min_{w, \\rho} \\frac{1}{2}\\Vert w \\Vert^2 - \\rho + \\frac{1}{\\nu n} \\sum_{i=1}^n \\max(0, \\rho - \\langle w, x_i \\rangle) \\, .\n",
    "$$\n",
    "\n",
    "The idea is that the lower is $\\langle w, x_i \\rangle$ is the more $x_i$ is an anomaly and if $\\langle w, x_i \\rangle \\geq \\rho$ then the model predicts the sample is normal. $\\langle w, x_i \\rangle$ corresponds to the decision function and $\\textrm{sign}(\\langle w, x_i \\rangle - \\rho)$ as the prediction (1 means normal sample).\n",
    "\n",
    "[1] Schölkopf et al. Estimating the support of a high-dimensional distribution. Neural Computation. 2001"
   ]
  },
  {
   "cell_type": "markdown",
   "metadata": {},
   "source": [
    "<div class=\"alert alert-success\">\n",
    "    <b>QUESTION 1:</b>\n",
    "     <ul>\n",
    "      <li>Justify that the problem $(\\mathcal{P})$ is convex.</li>\n",
    "    </ul>\n",
    "</div>"
   ]
  },
  {
   "cell_type": "markdown",
   "metadata": {},
   "source": [
    "\n",
    "The function $f:(w, \\rho, \\xi) \\rightarrow \\frac{1}{2}\\Vert w \\Vert^2 - \\rho + \\frac{1}{\\nu n} \\sum_{i=1}^n \\xi_i $ is quadratic then convex.\n",
    "\n",
    "\n",
    "Let $ C = \\{w, \\rho, \\xi \\: | \\:  \\langle w, x_i \\rangle  - \\rho +  \\xi_i   \\geq 0,   \\xi_i \\geq 0 \\text{ for } 1 \\leq i \\leq n  \\}$. \n",
    "\n",
    "- $\\langle w, x_i \\rangle  - \\rho +  \\xi_i   \\geq 0$ is an affine function thus convex.\n",
    "- $\\xi_i \\geq 0 $ is also affine thus convex.\n",
    "\n",
    "\n",
    "To conclude, since both $f$ and the inequality constraints are convex, the problem ($\\mathcal{P}$) is convex."
   ]
  },
  {
   "cell_type": "markdown",
   "metadata": {},
   "source": [
    "<div class=\"alert alert-success\">\n",
    "    <b>QUESTION 2:</b>\n",
    "     <ul>\n",
    "      <li>\n",
    "      By looking at the saddle points of the Lagrangian $\\mathcal{L}(w, \\rho, \\mu)$ of $\\mathcal{P}$, $\\mu \\in \\mathbb{R}_+^n$, show that the dual problem $(\\mathcal{D})$ can be written as:\n",
    "$$\n",
    "(\\mathcal{D}): \n",
    " \\left\\{\n",
    " \\begin{array}{lll}\n",
    " \\min_{\\mu} &\\frac{1}{2}\\mu^{\\top}GG^{t}\\mu\n",
    " \\\\\n",
    " \\mathrm{s.t.}& \\mu^{\\top}1_n = 1\n",
    " \\\\\n",
    " \\mathrm{and}& 0 \\leq \\mu \\leq \\frac{1}{\\nu n}\n",
    " \\end{array}\n",
    " \\right .\n",
    "$$\n",
    "\n",
    "with\n",
    "\n",
    "$$\n",
    " G = \\begin{bmatrix}x_{1}^{\\top} \\\\ \\vdots \\\\ x_{n}^{\\top}\\end{bmatrix}\n",
    "$$\n",
    "\n",
    "and $1_n = (1, \\dots, 1) \\in \\mathbb{R}^n$.\n",
    "    </li>\n",
    "    </ul>\n",
    "</div>\n",
    "\n",
    "We will **assume here qualification of the contraints** and that **strong duality holds**.\n",
    "\n",
    "**Remark:** The problem $(\\mathcal{D})$ is a *quadratic program* (QP) for which their exist off-the-shelf techniques. See below."
   ]
  },
  {
   "cell_type": "markdown",
   "metadata": {},
   "source": [
    "The Lagrangien of the Primal problem is the function $ \\mathcal{L} : \\mathcal{R}^n \\times \\mathcal{R}_+^n \\rightarrow \\mathcal{R} $: \n",
    "$$ \\mathcal{L}(w,\\rho,\\mu, \\lambda) = \\frac{1}{2}\\Vert w \\Vert^2 - \\rho + \\frac{1}{\\nu n} \\sum_{i=1}^n \\xi_i - \\sum_{i=1}^n \\mu_i ( \\langle w, x_i \\rangle - \\rho + \\xi_i ) - \\sum_{i=1}^n \\lambda_i \\xi_i $$\n",
    "with Lagrange multipliers $ \\mu_i \\geq 0 $ and $\\lambda_i \\geq 0 $.\n",
    "\n",
    "\n",
    "It can be rewritten as: \n",
    "$$ \\mathcal{L}(w,\\rho,\\mu, \\lambda) = \\frac{1}{2} w^T w - \\rho +  \\frac{1}{\\nu n}  \\xi - \\mu^T ( G w - \\rho + \\xi ) - \\lambda^T \\xi $$\n",
    "\n",
    "\n",
    "$$ \\Leftrightarrow \\mathcal{L}(w,\\rho,\\mu, \\lambda) = \\frac{1}{2} w^T w - \\rho + ( \\frac{1}{\\nu n}  - \\lambda^T) \\xi - \\mu^T ( G w - \\rho + \\xi ) $$\n",
    "\n",
    "with\n",
    "$\n",
    " G = \\begin{bmatrix}x_{1}^{\\top} \\\\ \\vdots \\\\ x_{n}^{\\top}\\end{bmatrix}.\n",
    "$\n",
    "\n",
    "The Karush Kuhn et Tucker (KKT) conditions are:\n",
    "- $ G w - \\rho + \\xi \\le 0 $ (primal constraint),\n",
    "\n",
    "- $ \\mu \\in \\mathcal{R}_+^n $    (dual constraint),\n",
    "\n",
    "- $ \\mu^T ( G w - \\rho + \\xi ) = 0 $  (complementarity),\n",
    "\n",
    "- $ \\nabla \\mathcal{L} = 0$ (stationarity)  .\n",
    "\n",
    "\n",
    "The stationarity condition implies :\n",
    "\n",
    "\n",
    "\n",
    "$\\frac{\\partial \\mathcal{L}(w,\\rho,\\mu, \\lambda)} { \\partial w } = w - G^T \\mu =0 \\Rightarrow w = G^T \\mu $\n",
    " \n",
    "$\\frac{\\partial \\mathcal{L}(w,\\rho,\\mu, \\lambda)} { \\partial \\rho } = -1 + \\mu^T \\mathbb{1}_n = 0 \\Rightarrow \\mu^T \\mathbb{1}_n = 1.$\n",
    " \n",
    "$\\frac{\\partial \\mathcal{L}(w,\\rho,\\mu, \\lambda)} {\\partial \\xi} = (\\frac{1}{\\nu n} \\mathbb{1}_n^T - \\lambda^T) \\mathbb{1}_n - \\mu^T \\mathbb{1}_n = 0 \\Rightarrow \\frac{1}{\\nu n} \\mathbb{1}_n^T - \\lambda^T - \\mu^T = 0 $\n",
    "\n",
    " \n",
    "The dual problem $\\mathcal{D}$ associated to the primal problem $\\mathcal{P}$ is: $$ \\max_{\\mu \\in R_+^n} \\inf_{w} \\quad  \\mathcal{L}(w,\\rho,\\mu) $$\n",
    "\n",
    "Using the stationnary condition on $w$:\n",
    "$$\\Leftrightarrow \\max_{\\mu \\in R_+^n}\\quad   \\frac{-1}{2} \\mu ^T GG^T\\mu - ( 1 -  \\mu^T\\mathbb{1}_n)\\rho +  (\\frac{1}{\\nu n}  - \\lambda^T - \\mu^T) \\xi $$\n",
    "\n",
    "\n",
    "\n",
    "$\\Leftrightarrow$\n",
    "$\n",
    "    \\left\\{\n",
    "\t\\begin{aligned}\n",
    "\t\\max_{\\mu \\in R_+^n} & \\quad \\frac{-1}{2} \\mu^TGG^T\\mu \\\\\n",
    "\t\\text{s.t.} & \\quad \\mu^T \\mathbb{1}_n = 1 \\\\\n",
    "    & \\quad \\frac{1}{\\nu n} \\mathbb{1}_n^T - \\lambda^T - \\mu^T = 0 \n",
    "\t\\end{aligned}\n",
    "    \\right.\n",
    "$\n",
    "$\\Leftrightarrow $\n",
    " $   \\left\\{\n",
    "\t\\begin{aligned}\n",
    "\t\\min_{\\mu \\in R_+^n} & \\quad \\frac{1}{2} \\mu^TGG^T\\mu  \\\\\n",
    "\t\\text{s.t.} & \\quad \\mu^T \\mathbb{1}_n = 1\\\\\n",
    "    & \\quad \\frac{1}{\\nu n} \\mathbb{1}_n^T - \\lambda^T - \\mu^T = 0 \n",
    "\t\\end{aligned}\n",
    "    \\right.\n",
    "$\n",
    "\n",
    "However, given $\\lambda, \\mu \\in \\mathcal{R}_+^n $, the third stationnary condition can be replaced by the following constraint:\n",
    "$$\n",
    "\\frac{1}{\\nu n} \\mathbb{1}_n^T - \\mu^T = \\lambda^T \\geq 0 \\rightarrow 0 \\leq \\mu \\leq \\frac{1}{\\nu n}\n",
    "$$\n",
    "\n",
    "Finally, we have:\n",
    "$$\n",
    "    (\\mathcal{D}): \n",
    "    \\left\\{\n",
    "\t\\begin{aligned}\n",
    "\t\\min_{\\mu \\in R_+^n} & \\quad \\frac{1}{2} \\mu^TGG^T\\mu \\\\\n",
    "\t\\text{s.t.} & \\quad \\mu^T \\mathbb{1}_n = 1 \\\\\n",
    "    & \\quad 0 \\leq \\mu \\leq \\frac{1}{\\nu n}  \n",
    "\t\\end{aligned}\n",
    "    \\right.\n",
    "$$"
   ]
  },
  {
   "cell_type": "markdown",
   "metadata": {},
   "source": [
    "<div class=\"alert alert-success\">\n",
    "    <b>QUESTION 3:</b>\n",
    "     <ul>\n",
    "     <li>Justify that given the estimated $\\mu$, the prediction function for a new sample $x$ (-1 if anomaly else 1) is given by:\n",
    "        $$\n",
    "        y = \\mathrm{sign}(\\sum_{i=1}^{n} \\mu_i x_i^\\top x - \\rho) \\enspace .\n",
    "        $$\n",
    "        The vector $w$ is therefore equal to $\\sum_{i=1}^{n} \\mu_i x_i$\n",
    "    </li>\n",
    "    </ul>\n",
    "</div>"
   ]
  },
  {
   "cell_type": "markdown",
   "metadata": {},
   "source": [
    "The prediction function is $ y = \\textrm{sign}(\\langle w, x_i \\rangle - \\rho)$.\n",
    "\n",
    "We know (from Question 2) that at the optimum $w^* = G^T \\mu  = \\sum_{i = 1}^n \\mu_i x_i$.\n",
    "\n",
    "Hence, the prediction function for a new sample x is: $$y =  \\mathrm{sign}(\\sum_{i=1}^{n} \\mu_i x_i^\\top x - \\rho) .$$"
   ]
  },
  {
   "cell_type": "markdown",
   "metadata": {},
   "source": [
    "## Part 1: Implementation of solver using cvxopt"
   ]
  },
  {
   "cell_type": "markdown",
   "metadata": {},
   "source": [
    "Let's make a toy dataset in dimension 2. When using a linear kernel we need all samples to have positive values and the outliers to be close to the origin."
   ]
  },
  {
   "cell_type": "code",
   "execution_count": 11,
   "metadata": {},
   "outputs": [
    {
     "data": {
      "image/png": "[encoded data removed]",
      "text/plain": [
       "<Figure size 432x288 with 1 Axes>"
      ]
     },
     "metadata": {
      "needs_background": "light"
     },
     "output_type": "display_data"
    }
   ],
   "source": [
    "def make_dataset(n_samples, contamination=0.05, random_state=42):\n",
    "    rng = np.random.RandomState(random_state)\n",
    "    X_inliers = rng.uniform(low=2, high=5, size=(int(n_samples * (1 - contamination)), 2))\n",
    "    X_outliers = rng.uniform(low=0, high=1, size=(int(n_samples * contamination), 2))\n",
    "    X = np.concatenate((X_inliers, X_outliers), axis=0)\n",
    "    rng.shuffle(X)\n",
    "    return X\n",
    "\n",
    "X = make_dataset(500)\n",
    "plt.scatter(X[:, 0], X[:, 1], color='b');"
   ]
  },
  {
   "cell_type": "markdown",
   "metadata": {},
   "source": [
    "- The following function qp allows to solve a quadratic problem of the form:\n",
    "\n",
    "$$\n",
    "\\left\\{\n",
    "  \\begin{array}{cll}\n",
    "  &\\min_{(x)} \\frac{1}{2}x^{\\top} P x + q^\\top x\n",
    "  \\\\\n",
    "   & \\textrm{s.t.}\\; A x = b, 0 \\leq x \\leq C.\n",
    "  \\end{array}\n",
    "  \\right.\n",
    "$$\n",
    "\n",
    "See documentation: http://cvxopt.org/userguide/coneprog.html#quadratic-programming"
   ]
  },
  {
   "cell_type": "code",
   "execution_count": 8,
   "metadata": {},
   "outputs": [],
   "source": [
    "import cvxopt\n",
    "\n",
    "\n",
    "def qp(P, q, A, b, C, verbose=True, Condition = True):\n",
    "    # Gram matrix\n",
    "    n = P.shape[0]\n",
    "    P = cvxopt.matrix(P)\n",
    "    q = cvxopt.matrix(q)\n",
    "    G = cvxopt.matrix(np.concatenate([np.diag(np.ones(n) * -1),\n",
    "                                     np.diag(np.ones(n))], axis=0))\n",
    "    if Condition :\n",
    "        A = cvxopt.matrix(A)\n",
    "        b = cvxopt.matrix(b)\n",
    "    \n",
    "    h = cvxopt.matrix(np.concatenate([np.zeros(n), C * np.ones(n)]))\n",
    "        \n",
    "\n",
    "    # Solve QP problem\n",
    "    cvxopt.solvers.options['show_progress'] = verbose\n",
    "    if Condition:\n",
    "        solution = cvxopt.solvers.qp(P, q, G, h, A, b, solver='mosec')\n",
    "    else: \n",
    "        solution = cvxopt.solvers.qp(P, q, G, h, solver='mosec')\n",
    "    \n",
    " \n",
    "    return np.ravel(solution['x'])"
   ]
  },
  {
   "cell_type": "markdown",
   "metadata": {},
   "source": [
    "Definition of the linear kernel:"
   ]
  },
  {
   "cell_type": "code",
   "execution_count": 9,
   "metadata": {},
   "outputs": [],
   "source": [
    "def kernel(X1, X2):\n",
    "    n1 = X1.shape[0]\n",
    "    n2 = X2.shape[0]\n",
    "    K = np.empty((n1, n2))\n",
    "    for i in range(n1):\n",
    "        for j in range(n2):\n",
    "            K[i, j] = np.dot(X1[i], X2[j])\n",
    "    return K"
   ]
  },
  {
   "cell_type": "markdown",
   "metadata": {},
   "source": [
    "**Remark:** You can use `sklearn.metrics.pairwise_distances` to avoid the for loops and make it faster."
   ]
  },
  {
   "cell_type": "markdown",
   "metadata": {},
   "source": [
    "<div class=\"alert alert-success\">\n",
    "    <b>QUESTION 4:</b>\n",
    "     <ul>\n",
    "      <li>Modify the following cell to solve the One-Class SVM dual problem.</li>\n",
    "    </ul>\n",
    "</div>"
   ]
  },
  {
   "cell_type": "code",
   "execution_count": 12,
   "metadata": {},
   "outputs": [
    {
     "name": "stdout",
     "output_type": "stream",
     "text": [
      "Number of support vectors: 50\n"
     ]
    }
   ],
   "source": [
    "def ocsvm_solver(K, nu=0.1):\n",
    "\n",
    "    n = K.shape[0]\n",
    "    P = K\n",
    "    q = np.zeros(n)\n",
    "    A = np.ones((1, n))\n",
    "    b = np.ones(1)\n",
    "    C = 1 / (nu * n)\n",
    "    mu = qp(P, q, A, b, C, verbose=False)\n",
    "    idx_support = np.where(np.abs(mu) > 1e-5)[0]\n",
    "    mu_support = mu[idx_support]\n",
    "    \n",
    "    return mu_support, idx_support\n",
    "\n",
    "K = kernel(X, X)\n",
    "\n",
    "# Uncomment the following lines when your ocsvm_solver is completed:\n",
    "mu_support, idx_support = ocsvm_solver(K)\n",
    "print(\"Number of support vectors: %s\" % idx_support.size)"
   ]
  },
  {
   "cell_type": "markdown",
   "metadata": {},
   "source": [
    "<div class=\"alert alert-success\">\n",
    "    <b>QUESTION 5:</b>\n",
    "     <ul>\n",
    "      <li>Compute w using mu.</li>\n",
    "    </ul>\n",
    "</div>"
   ]
  },
  {
   "cell_type": "markdown",
   "metadata": {},
   "source": [
    "We know from Question 2 that at the optimum $w = G^T \\mu  = \\sum_{i = 1}^n \\mu_i x_i$."
   ]
  },
  {
   "cell_type": "code",
   "execution_count": 13,
   "metadata": {},
   "outputs": [
    {
     "data": {
      "text/plain": [
       "array([1.37631398, 1.37252753])"
      ]
     },
     "execution_count": 13,
     "metadata": {},
     "output_type": "execute_result"
    }
   ],
   "source": [
    "X_support = X[idx_support]\n",
    "w = X_support.T.dot(mu_support)\n",
    "w"
   ]
  },
  {
   "cell_type": "markdown",
   "metadata": {},
   "source": [
    "<div class=\"alert alert-success\">\n",
    "    <b>QUESTION 6:</b>\n",
    "     <ul>\n",
    "      <li>Using complementary slackness, explain how to obtain $\\rho$ from $\\mu$.</li>\n",
    "    </ul>\n",
    "</div>\n",
    "\n",
    "**HINT:** Use the fact that for all support vectors for which $0 < \\mu_i < \\frac{1}{\\nu n}$ one has $w^{t}x_{i} = \\rho$."
   ]
  },
  {
   "cell_type": "markdown",
   "metadata": {},
   "source": [
    "Let us consider both the Primal and Dual problem studied above:\n",
    "\n",
    "$$\n",
    "    (\\mathcal{P}): \\left\\{\n",
    "\t\\begin{aligned}\n",
    "\t\\min_{w, \\rho, \\xi} & \\quad \\frac{1}{2}\\Vert w \\Vert^2 - \\rho + \\frac{1}{\\nu n} \\sum_{i=1}^n \\xi_i \\\\\n",
    "\t\\text{s.t.} & \\quad \\langle w, x_i \\rangle \\geq \\rho - \\xi_i \\quad 1 \\leq i \\leq n \\\\\n",
    "\t& \\quad \\xi_i \\geq 0 \\quad 1 \\leq i \\leq n\n",
    "\t\\end{aligned}\n",
    "    \\right.\n",
    "$$\n",
    "\n",
    "$$\n",
    "(\\mathcal{D}): \n",
    " \\left\\{\n",
    " \\begin{array}{lll}\n",
    " \\min_{\\mu} &\\frac{1}{2}\\mu^{\\top}GG^{t}\\mu\n",
    " \\\\\n",
    " \\mathrm{s.t.}& \\mu^{\\top}1_n = 1\n",
    " \\\\\n",
    " \\mathrm{and}& 0 \\leq \\mu \\leq \\frac{1}{\\nu n}\n",
    " \\end{array}\n",
    " \\right .\n",
    "$$"
   ]
  },
  {
   "cell_type": "markdown",
   "metadata": {},
   "source": [
    "Let x be the solution of problem $(\\mathcal{P})$ and $\\mu$ the solution of problem $(\\mathcal{D})$.\n",
    "\n",
    "Complementary slackness allows us to consider the variable $x_j$  in the primal problem equal to 0 if the $j^{th}$ constraint in $(\\mathcal{D})$ is not binding. \n",
    "Therefore, if there exists $i$ such that $0<\\mu_i<\\frac{1}{\\nu n}$ then the second constraint of the dual problem is not binding and $\\xi_i = 0$. In addition, if $\\mu_i$ is greater than 0, then the $i^{th}$ constraint in $(\\mathcal{P})$ is binding, i.e. $\\langle w, x_i \\rangle = \\rho - \\xi_i$.\n",
    "\n",
    "Consequently,\n",
    "$$\n",
    "\\xi _i = 0\n",
    "\\rightarrow \\rho = \\langle w, x_i \\rangle = x_i^T \\mu x\n",
    "$$\n",
    "\n",
    "\n",
    "To compute $\\rho$, we have to find $\\mu_i $ such that $\\mu_i < \\frac{1}{\\nu n}$.\n",
    "\n"
   ]
  },
  {
   "cell_type": "code",
   "execution_count": 14,
   "metadata": {},
   "outputs": [],
   "source": [
    "def compute_rho(K, mu_support, idx_support):\n",
    "\n",
    "    K_support = K[idx_support][:, idx_support]\n",
    "    idx_constraint = np.argmin(mu_support) \n",
    "    rho = mu_support.dot(K_support)[idx_constraint]\n",
    "    \n",
    "    return rho\n",
    "\n",
    "\n",
    "Compute_rho = compute_rho(K, mu_support, idx_support)"
   ]
  },
  {
   "cell_type": "markdown",
   "metadata": {},
   "source": [
    "<div class=\"alert alert-success\">\n",
    "    <b>QUESTION 7:</b>\n",
    "     <ul>\n",
    "      <li>Verify that you find the same values as what scikit-learn gives. You should have the same support vectors and:\n",
    "\n",
    "\n",
    "`rho = -ocsvm.intercept_[0] / (ocsvm.nu * len(K))`\n",
    "\n",
    "and `mu_support = ocsvm.dual_coef_.ravel() / (ocsvm.nu * len(K))`</li>\n",
    "    </ul>\n",
    "</div>"
   ]
  },
  {
   "cell_type": "code",
   "execution_count": 15,
   "metadata": {},
   "outputs": [
    {
     "name": "stdout",
     "output_type": "stream",
     "text": [
      "nu =  0.1342281879194631\n",
      "[  4  23  66  72  90  92 109 113]\n",
      "[  4  23  66  72  90  92 109 113]\n",
      "Check rho 2.1640035202256893\n",
      "Check rho 2.1640035550066035\n",
      "[0.13422819 0.13422819 0.06040268 0.13422819 0.13422819 0.13422819\n",
      " 0.13422819 0.13422819]\n",
      "[0.13422819 0.13422819 0.06040268 0.13422819 0.13422819 0.13422819\n",
      " 0.13422819 0.13422819]\n"
     ]
    }
   ],
   "source": [
    "from sklearn.utils.testing import assert_array_almost_equal\n",
    "from sklearn.utils.testing import assert_almost_equal\n",
    "from sklearn.svm import OneClassSVM\n",
    "\n",
    "X = make_dataset(150)\n",
    "\n",
    "ocsvm = OneClassSVM(kernel='linear', nu=0.05)\n",
    "ocsvm.fit(X)\n",
    "\n",
    "K = kernel(X, X)\n",
    "mu_support, idx_support = ocsvm_solver(K, nu = ocsvm.nu)\n",
    "rho = compute_rho(K, mu_support, idx_support)\n",
    "\n",
    "print('nu = ',1/(0.05*K.shape[0]))\n",
    "\n",
    "# Check indices of support vectors\n",
    "print(ocsvm.support_)\n",
    "print(idx_support)\n",
    "\n",
    "# Check rho\n",
    "print('Check rho',rho)\n",
    "print('Check rho',-ocsvm.intercept_[0] / (ocsvm.nu * len(K)))\n",
    "\n",
    "# Check dual variables\n",
    "print(mu_support)\n",
    "print(ocsvm.dual_coef_.ravel() / (ocsvm.nu * len(K)))\n",
    "\n",
    "# Run formal tests:\n",
    "assert_array_almost_equal(ocsvm.support_, idx_support)\n",
    "assert_almost_equal(rho, -ocsvm.intercept_[0] / (ocsvm.nu * len(K)))\n",
    "assert_array_almost_equal(mu_support, ocsvm.dual_coef_.ravel() / (ocsvm.nu * len(K)))"
   ]
  },
  {
   "cell_type": "markdown",
   "metadata": {},
   "source": [
    "Check your code by running the following cell:"
   ]
  },
  {
   "cell_type": "code",
   "execution_count": 16,
   "metadata": {},
   "outputs": [
    {
     "data": {
      "image/png": "[encoded data removed]",
      "text/plain": [
       "<Figure size 432x288 with 1 Axes>"
      ]
     },
     "metadata": {
      "needs_background": "light"
     },
     "output_type": "display_data"
    }
   ],
   "source": [
    "X = make_dataset(300)\n",
    "\n",
    "K = kernel(X, X)\n",
    "mu_support, idx_support = ocsvm_solver(K, nu=0.05)\n",
    "rho = compute_rho(K, mu_support, idx_support)\n",
    "\n",
    "def plot_ocsvm(X, mu_support, idx_support, rho, kernel=kernel):\n",
    "    # Compute decision function on a grid\n",
    "    X1, X2 = np.mgrid[-1:5.1:0.2, -1:5.1:0.2]\n",
    "    na, nb = X1.shape\n",
    "    X_test = np.c_[np.reshape(X1, (na * nb, 1)),\n",
    "                   np.reshape(X2, (na * nb, 1))]\n",
    "\n",
    "    # Compute dot products\n",
    "    X_support = X[idx_support]\n",
    "    G = kernel(X_test, X_support)\n",
    "    # Compute decision function\n",
    "    decision = G.dot(mu_support) - rho\n",
    "\n",
    "    # Compute predict label\n",
    "    y_pred = np.sign(decision)\n",
    "\n",
    "    # Plot decision boundary\n",
    "    plt.plot(X[:,0], X[:, 1], 'or', linewidth=2)\n",
    "    Z = np.reshape(decision, (na, nb))\n",
    "    plt.contourf(X1, X2, Z, 20, cmap=plt.cm.gray)\n",
    "    cs = plt.contour(X1, X2, Z, [0], colors='y', linewidths=2, zorder=10)\n",
    "    plt.xlabel('x1')\n",
    "    plt.ylabel('x2')\n",
    "    plt.xlim([-1, 5])\n",
    "    plt.ylim([-1, 5])\n",
    "\n",
    "plot_ocsvm(X, mu_support, idx_support, rho)"
   ]
  },
  {
   "cell_type": "markdown",
   "metadata": {},
   "source": [
    "<div class=\"alert alert-success\">\n",
    "    <b>QUESTION 8:</b>\n",
    "     <ul>\n",
    "      <li>Without any implementation, can you justify if you can apply any of the algorithm, among proximal gradient, coordinate descent, stochastic gradient descent and L-BFGS to the dual problem?\n",
    "      </li>\n",
    "    </ul>\n",
    "</div>"
   ]
  },
  {
   "cell_type": "markdown",
   "metadata": {},
   "source": [
    "The problem $(\\mathcal{D})$ is a constrained quadratic problem and can be rewritten:\n",
    "$$ \\min_{\\mu} F(\\mu) + g(\\mu) $$\n",
    "where: \n",
    "- $F(\\mu) = \\frac{1}{2}\\mu^{\\top}GG^{t}\\mu $\n",
    "\n",
    "- $g(\\mu) = I_c(\\mu) $ with $ C= \\left \\{ \\mu \\text{  }| \\text{ } \\mu^{\\top}1_n = 1 \\text{ and } 0 \\leq \\mu \\leq \\frac{1}{\\nu n} \\right \\} $\n",
    "\n",
    "\n",
    "\n",
    "\n",
    "- Proximal gradient:\n",
    "\n",
    "The function $g$ is not prox-friendly, hence we cannot use the proximal gradient method.\n",
    "\n",
    "\n",
    "- Coordinate descent: \n",
    "\n",
    "We cannot apply the cordinate descent since the function $g$ is non-separable.\n",
    "\n",
    "- Stochastic gradient descent:  \n",
    "\n",
    "The stochastic gradient descent does not work since $g$ is not separable nor prox-friendly. \n",
    "\n",
    "\n",
    "- L-BFGS : \n",
    "\n",
    "This algorithm is used for smooth unconstrained problems but can be extended to handle simple box constraints. Consequently, L-BFGS can not handle the constraint \"$\\sum_i \\mu_i = 1 $\". We can not apply it.\n",
    "\n",
    "\n",
    "\n",
    "\n",
    "\n",
    "***\n",
    "\n",
    "To conclude, the objective function $F$ is convex, differentiable and smooth but we cannot apply any of the proposed algorithm to solve $(\\mathcal{D})$ because there is a problem with the \"$\\sum_i \\mu_i = 1$\" constraint ($\\rho \\neq$ 0 in the primal)."
   ]
  },
  {
   "cell_type": "markdown",
   "metadata": {},
   "source": [
    "## Part 1: non-linear case with kernels"
   ]
  },
  {
   "cell_type": "markdown",
   "metadata": {},
   "source": [
    "Another scenario is when the boundary between normal samples and outliers is not linear.\n",
    "\n",
    "To cope with this the idea is to use kernels.\n",
    "\n",
    "<div class=\"alert alert-success\">\n",
    "    <b>QUESTION 9:</b>\n",
    "     <ul>\n",
    "      <li>Denoting by $K(x_i, x_j)$ the dot product between samples show that dual problem and the decision function f(x) can be reformulated just using calls to $K$\n",
    "      </li>\n",
    "    </ul>\n",
    "</div>"
   ]
  },
  {
   "cell_type": "markdown",
   "metadata": {},
   "source": [
    "The dual problem can be reformulated as follow: \n",
    "\n",
    "$\n",
    "(\\mathcal{D}): \n",
    " \\left\\{\n",
    " \\begin{array}{lll}\n",
    " \\min_{\\mu_i} &\\frac{1}{2} \\sum_{i,j} \\mu_i  \\mu_j K(x_i,x_j)\n",
    " \\\\\n",
    " \\mathrm{s.t.}& \\sum_i \\mu_i = 1\n",
    " \\\\\n",
    " \\mathrm{and}& 0 \\leq \\mu_i \\leq \\frac{1}{\\nu n}\n",
    " \\end{array}\n",
    " \\right .\n",
    "$\n",
    "\n",
    "$$\n",
    "\\Leftrightarrow\n",
    "(\\mathcal{D}): \n",
    " \\left\\{\n",
    " \\begin{array}{lll}\n",
    " \\min_{\\mu} &\\frac{1}{2}\\mu^{\\top}K\\mu\n",
    " \\\\\n",
    " \\mathrm{s.t.}& \\mu^{\\top}1_n = 1\n",
    " \\\\\n",
    " \\mathrm{and}& 0 \\leq \\mu \\leq \\frac{1}{\\nu n}\n",
    " \\end{array}\n",
    " \\right .\n",
    "$$\n",
    "\n",
    "It is the \"kernel trick\": the outcome of the decision function only relies on the dot product of the vectors in the feature space, it is not necessary to perform an explicit projection to this space.\n",
    "\n",
    "\n",
    "The decision function is : $ y = \\mathrm{sign}(\\sum_{i=1}^{n} \\mu_i K(x_i, x) - \\rho) \\enspace $.\n"
   ]
  },
  {
   "cell_type": "markdown",
   "metadata": {},
   "source": [
    "We will use another dataset to evaluate this:"
   ]
  },
  {
   "cell_type": "code",
   "execution_count": 17,
   "metadata": {},
   "outputs": [
    {
     "data": {
      "image/png": "[encoded data removed]",
      "text/plain": [
       "<Figure size 432x288 with 1 Axes>"
      ]
     },
     "metadata": {
      "needs_background": "light"
     },
     "output_type": "display_data"
    }
   ],
   "source": [
    "def make_blob_dataset(n_samples, contamination=0.05, random_state=42):\n",
    "    rng = np.random.RandomState(random_state)\n",
    "    X_inliers = 0.3 * rng.normal(size=(int(n_samples * (1. - contamination)), 2)) + 2\n",
    "    X_outliers = rng.uniform(low=-1, high=5, size=(int(n_samples * contamination), 2))\n",
    "    X = np.concatenate((X_inliers, X_outliers), axis=0)\n",
    "    rng.shuffle(X)\n",
    "    return X\n",
    "\n",
    "X = make_blob_dataset(300)\n",
    "plt.scatter(X[:, 0], X[:, 1], color='b');"
   ]
  },
  {
   "cell_type": "markdown",
   "metadata": {},
   "source": [
    "<div class=\"alert alert-success\">\n",
    "    <b>QUESTION 10:</b>\n",
    "     <ul>\n",
    "      <li>Update your kernel function so it computes the Gaussian kernel:\n",
    "      \n",
    "        $$\n",
    "            K(x_i, x_j) = \\exp(-\\gamma \\| x_i - x_j \\|^2)\n",
    "        $$\n",
    "\n",
    "        where $\\gamma > 0$ is the kernel bandwidth.\n",
    "      </li>\n",
    "    </ul>\n",
    "</div>"
   ]
  },
  {
   "cell_type": "code",
   "execution_count": 18,
   "metadata": {},
   "outputs": [],
   "source": [
    "from scipy import linalg\n",
    "\n",
    "def rbf_kernel(X1, X2):\n",
    "    n1 = X1.shape[0]\n",
    "    n2 = X2.shape[0]\n",
    "    K = np.empty((n1, n2))\n",
    "    gamma = .3\n",
    "    for i in range(n1):\n",
    "        for j in range(n2):\n",
    "            K[i, j] = np.exp(-gamma * (np.linalg.norm(X1[i]-X2[j])**2))\n",
    "    return K"
   ]
  },
  {
   "cell_type": "markdown",
   "metadata": {},
   "source": [
    "Using the change above the follwing code should allow you to nicely separate the dense region from the outliers"
   ]
  },
  {
   "cell_type": "code",
   "execution_count": 19,
   "metadata": {},
   "outputs": [
    {
     "data": {
      "image/png": "[encoded data removed]",
      "text/plain": [
       "<Figure size 432x288 with 1 Axes>"
      ]
     },
     "metadata": {
      "needs_background": "light"
     },
     "output_type": "display_data"
    }
   ],
   "source": [
    "X = make_blob_dataset(150)\n",
    "\n",
    "K = rbf_kernel(X, X)\n",
    "mu_support, idx_support = ocsvm_solver(K, nu=0.1)\n",
    "rho = compute_rho(K, mu_support, idx_support)\n",
    "\n",
    "plot_ocsvm(X, mu_support, idx_support, rho, kernel=rbf_kernel)"
   ]
  },
  {
   "cell_type": "markdown",
   "metadata": {},
   "source": [
    "## Part 2: One-class SVM without $\\rho$\n",
    "\n",
    "Formulation for example used in:\n",
    "\n",
    "```\n",
    "Consistency of one-class SVM and related algorithms\n",
    "Régis Vert and Jean-philippe Vert\n",
    "NIPS 2006\n",
    "```"
   ]
  },
  {
   "cell_type": "markdown",
   "metadata": {},
   "source": [
    "The problem of the formuation of SVMs with the variable $\\rho$ is that\n",
    "it leads to an annoying constraint in the dual, namely the $\\mu^{\\top}1_n = 1$.\n",
    "\n",
    "We will now see what we can do about it.\n",
    "\n",
    "Let's consider the problem\n",
    "\n",
    "$$\n",
    "\t\\begin{aligned}\n",
    "\t\\min_{w, \\xi} & \\quad \\frac{1}{2}\\Vert w \\Vert^2 + \\frac{C}{n} \\sum_{i=1}^n \\xi_i \\\\\n",
    "\t\\text{s.t.} & \\quad \\langle w, x_i \\rangle \\geq 1 - \\xi_i \\quad 1 \\leq i \\leq n \\\\\n",
    "\t& \\quad \\xi_i \\geq 0 \\quad 1 \\leq i \\leq n\n",
    "\t\\end{aligned}\n",
    "$$"
   ]
  },
  {
   "cell_type": "markdown",
   "metadata": {},
   "source": [
    "<div class=\"alert alert-success\">\n",
    "    <b>QUESTION 10:</b>\n",
    "     <ul>\n",
    "      <li>Show that a dual problem of this problem is given by:\n",
    "      \n",
    "        $$\n",
    "        (\\mathcal{D}):\n",
    "            \\left\\{\n",
    "            \\begin{array}{lll}\n",
    "            \\min_{\\mu} &\\frac{1}{2}\\mu^{\\top}GG^{\\top}\\mu-\\mu^{\\top} 1_n\n",
    "            \\\\\n",
    "            \\mathrm{s.t.}& 0 \\leq \\mu \\leq \\frac{C}{n}\n",
    "            \\end{array}\n",
    "            \\right .\n",
    "        $$\n",
    "      </li>\n",
    "    </ul>\n",
    "</div>"
   ]
  },
  {
   "cell_type": "markdown",
   "metadata": {},
   "source": [
    "The Lagrangien of the Primal problem is the function $ \\mathcal{L}: \\mathcal{R}^n \\times \\mathcal{R}_+^n $ : \n",
    "$$ \\mathcal{L}(w,\\mu, \\lambda) = \\frac{1}{2}\\Vert w \\Vert^2  + \\frac{C}{ n} \\sum_{i=1}^n \\xi_i - \\sum_{i=1}^n \\mu_i ( \\langle w, x_i \\rangle - 1 + \\xi_i ) - \\sum _i \\lambda_i \\xi_i  $$\n",
    "with Lagrange multipliers $ \\mu_i \\geq 0 $ and $\\lambda_i \\geq 0 $.\n",
    "\n",
    "\n",
    "It can be rewritten as : \n",
    "$$ \\mathcal{L}(w, \\mu) = \\frac{1}{2} w^T w + (\\frac{C}{ n} \\mathbb{1}_n^T - \\lambda^T)  \\xi - \\mu^T ( G w - \\mathbb{1}_n + \\xi ) $$\n",
    "with\n",
    "$\n",
    " G = \\begin{bmatrix}x_{1}^{\\top} \\\\ \\vdots \\\\ x_{n}^{\\top}\\end{bmatrix}.\n",
    "$\n",
    " \n",
    "The Karush Kuhn et Tucker conditions are:\n",
    "- $ G w - \\mathbb{1}_n  + \\xi \\le 0 $ (primal constraint),\n",
    "\n",
    "- $ \\mu \\in \\mathcal{R}_+^n $ (dual constraint),\n",
    "\n",
    "- $ \\mu^T ( G w - \\mathbb{1}_n + \\xi ) = 0 $ (complementarity),\n",
    "\n",
    "- $ \\nabla \\mathcal{L} = 0$ (stationarity)  .\n",
    "\n",
    "\n",
    "The stationarity condition implies :\n",
    "\n",
    "\n",
    "\n",
    "$\\frac{\\partial \\mathcal{L}(w,\\xi, \\mu, \\lambda)} { \\partial w } = w - G^T \\mu =0 \\Rightarrow w = G^T \\mu $\n",
    " \n",
    "$\\frac{\\partial \\mathcal{L}(w,\\xi,\\mu, \\lambda)} { \\partial \\xi } = \\frac{C}{n} \\mathbb{1}_n^T - \\mu^T - \\lambda ^T = 0 \\Rightarrow \\frac{C}{n} \\mathbb{1}_n - \\lambda^T = \\mu ^T $\n",
    "\n",
    "\n",
    "The dual problem $\\mathcal{D}$ associated to the primal problem $\\mathcal{P}$ is: $$ \\max_{\\mu \\in R_+^n} \\inf_{w} \\quad  \\mathcal{L}(w,\\rho,\\mu) $$\n",
    "\n",
    "Using the stationnary condition on $w$:\n",
    "$$\\Leftrightarrow \\max_{\\mu \\in R_+^n}\\quad   \\frac{1}{2} \\mu ^T GG^T\\mu + ( \\frac{C}{n}  \\mathbb{1}_n^T - \\lambda^T)\\xi - \n",
    "\\mu^T ( G G^T \\mu - \\mathbb{1}_n + \\xi ) $$\n",
    "$$\\Leftrightarrow \\max_{\\mu \\in R_+^n}\\quad  \\frac{-1}{2} \\mu ^T GG^T\\mu + ( \\frac{C}{n}  \\mathbb{1}_n^T - \\lambda^T - \\mu^T)\\xi + \n",
    "\\mu^T  \\mathbb{1}_n $$\n",
    "\n",
    "\n",
    "\n",
    "$$\\Leftrightarrow\n",
    "    \\left\\{\n",
    "\t\\begin{aligned}\n",
    "\t\\max_{\\mu \\in R_+^n} & \\quad \\frac{-1}{2} \\mu ^T GG^T\\mu+\n",
    "\\mu^T  \\mathbb{1}_n \\\\\n",
    "\t\\text{s.t.} & \\quad \\frac{C}{n} \\mathbb{1}_n - \\lambda^T = \\mu ^T\n",
    "\t\\end{aligned}\n",
    "    \\right.\n",
    "$$\n",
    "\n",
    "\n",
    "However, given $\\lambda, \\mu \\in \\mathcal{R}_+^n $, the second stationnary condition can be replaced by the following constraint:\n",
    "$$\n",
    "\\mu^T = \\frac{C}{n} \\mathbb{1}_n^T - \\lambda^T \\leq \\frac{C}{n}\n",
    "$$\n",
    "\n",
    "Finally, we have:\n",
    "\n",
    "$$\n",
    "    (\\mathcal{D}): \n",
    "    \\left\\{\n",
    "\t\\begin{aligned}\n",
    "\t\\min_{\\mu \\in R_+^n} & \\quad \\frac{1}{2} \\mu^TGG^T\\mu - \\mu^T \\mathbb{1}_n  \\\\\n",
    "    \\text{s.t} & \\quad 0 \\leq \\mu \\leq \\frac{C}{ n}  \n",
    "\t\\end{aligned}\n",
    "    \\right.\n",
    "$$\n",
    "\n"
   ]
  },
  {
   "cell_type": "markdown",
   "metadata": {},
   "source": [
    "<div class=\"alert alert-success\">\n",
    "    <b>QUESTION 11:</b>\n",
    "     <ul>\n",
    "      <li> Rewrite the dual in the form:\n",
    "      \n",
    "            $$\n",
    "            (\\mathcal{D}): \\min_{\\mu} f(\\mu) + g(\\mu) .\n",
    "            $$\n",
    "\n",
    "            where $f$ is here a smooth function of $\\mu$ with L-Liptschitz gradient and $g$ is a non-smooth function that is separable, namely:\n",
    "\n",
    "            $$\n",
    "            g(\\mu) = \\sum_{i=1}^n g_i(\\mu_i)\n",
    "            $$\n",
    "      </li>\n",
    "    </ul>\n",
    "</div>\n",
    "\n"
   ]
  },
  {
   "cell_type": "markdown",
   "metadata": {},
   "source": [
    "$$\n",
    "(D) : min_{\\mu} f(\\mu) + g(\\mu)\n",
    "$$\n",
    "\n",
    "Let us now show that :\n",
    "- $f$ is a smooth function of $\\mu$ with L-Lipschitz gradient \n",
    "- $g$ is a non-smooth function\n",
    "\n",
    "Let us consider : $f: \\mu \\rightarrow f(\\mu) = \\frac{1}{2} \\mu^T GG^T \\mu - \\mu^T \\mathbb{1}_n$.\n",
    "\n",
    "$ f$ is continuously differentiable.\n",
    "\n",
    "\n",
    "Differenciating $f(\\mu)$ once gives : $\\nabla f(\\mu) = G G^T \\mu - \\mathbb{1}_n.  \t\\Rightarrow \\| \\nabla f(x) - \\nabla f(y)\\| \\leq \\| G G^T\\|_2 \\| x - y\\| $,  $ \\forall\t  x,y \\in \\mathbb{R^2}$\n",
    "\n",
    "Conclusion: $f$ is smooth and $\\| G G^T\\|_2  $-Lipschitz gradient.\n",
    "\n",
    "\n",
    "\n",
    "Let us consider : $g_i: \\mu_i \\rightarrow g_i(\\mu_i) = \\mathcal{I}_{\\Omega}(\\mu_i) $\n",
    "where : \n",
    "- $\\Omega = \\{ \\mu \\in \\mathbb{R}^n_+ \\quad  | \\quad  0 \\leq \\mu \\leq \\frac{C}{n} \\}$\n",
    "- $\n",
    "    \\mathcal{I_{\\Omega}}(\\mu_i) =: \n",
    "    \\left\\{\n",
    "\t\\begin{aligned}\n",
    "\t 0 \\quad \\text{if}\\quad \\mu_i \\in \\Omega  \\\\\n",
    "    \\infty \\quad \\text{Otherwise}  \n",
    "\t\\end{aligned}\n",
    "    \\right.\n",
    "$\n",
    "\n",
    "\n",
    "$g$ is non-smooth since the derivative of $g_i$ for all i is not defined over $\\mathbb{R}^n_+ \\ \\Omega$. However g is separable.\n",
    "\n",
    "Consequently:\n",
    "\n",
    "$$\n",
    "(D) : min_{\\mu} f(\\mu) + g(\\mu)\n",
    "$$\n",
    "\n",
    "\n",
    "Where:\n",
    "- $f: \\mu \\rightarrow f(\\mu) = \\frac{1}{2} \\mu^T GG^T \\mu-  \\mu^T \\mathbb{1}_n  $\n",
    "- $g: \\mu \\rightarrow g(\\mu) = \\sum_{i=1}^n (\\mathcal{I}_{\\Omega}(\\mu_i))$\n"
   ]
  },
  {
   "cell_type": "markdown",
   "metadata": {},
   "source": [
    "The dual in the later form can be readily optimized using the methods that you have been studying in this class:\n",
    "\n",
    "- Proximal gradient method with and without acceleration\n",
    "- L-BFGS-B\n",
    "- Coordinate descent"
   ]
  },
  {
   "cell_type": "markdown",
   "metadata": {},
   "source": [
    "<div class=\"alert alert-success\">\n",
    "    <b>QUESTION 12:</b>\n",
    "    Implement:\n",
    "     <ul>\n",
    "      <li> your own solver based on the QP function in cvxopt (reuse `qp` function above).</li>\n",
    "      <li> your own solver of proximal gradient with and without acceleration</li>\n",
    "      <li> your own version of coordinate descent</li>\n",
    "      <li> an L-BFGS-B solver using `scipy.optimize.fmin_l_bfgs_b`</li>\n",
    "    </ul>\n",
    "</div>"
   ]
  },
  {
   "cell_type": "markdown",
   "metadata": {},
   "source": [
    "You will test your implementations on the Gaussian blob corrupted with some uniform noise obtained with `make_blob_dataset` function.\n",
    "\n",
    "You will make sure that all solvers converge towards the same minimum !\n",
    "\n",
    "You will evaluate the performance of your implementations in terms of computation time on problems where the matrix $G G^\\top$ can fit in memory on your machine.\n",
    "\n",
    "You should reuse as much as possible the convergence evaluation code that you used during the labs.\n",
    "\n",
    "**Remark:** For the coordinate descent method there exist some smart updates provided you use a linear kernel.\n",
    "\n",
    "**BONUS (Hard):** Explain without implementing it how such smart updates could work for the coordinate descent solver.\n",
    "\n",
    "**IMPORTANT : This question 12 is the most important and will constitute half of the final grade on the project !**"
   ]
  },
  {
   "cell_type": "markdown",
   "metadata": {},
   "source": [
    "## Solution \n",
    "\n",
    "\n",
    "We want to minimize $f(\\mu) + g(\\mu)$\n",
    "\n",
    "Where\n",
    "- $f(\\mu) = \\frac{1}{2} \\mu^T GG^T \\mu-  \\mu^T \\mathbb{1}_n  $\n",
    "- $g(\\mu) = \\sum_{i=1}^n (\\mathcal{I}_{\\Omega}(\\mu_i))$, with $\\Omega = \\{ \\mu \\in \\mathbb{R}^n_+ \\quad  | \\quad  0 \\leq \\mu \\leq \\frac{C}{n} \\}$\n",
    "\n",
    "$f$ is a smooth function of $\\mu$, the gradient is:\n",
    "$\\nabla f(\\mu) = G G^T \\mu - \\mathbb{1}_n. $ \n",
    "\n",
    "On the contrary, $g$ is a non-smooth function: we need to use a proximal operator. The proximal operator of $g$ is equivalent to finding the projection of $\\mu$ on $[ 0 , \\frac{C}{n} ]$.\n",
    "\n",
    "\n",
    "Also, in Question 11, we have seen that the Lipschitz constant is $\\| G G^T\\|_2 $.\n",
    "\n",
    "\n",
    "-------------\n",
    "\n",
    "*Note 1: In the code below, we use the kernel notation: $f(\\mu) = \\frac{1}{2} \\mu^TK \\mu-  \\mu^T \\mathbb{1}_n  $*\n",
    "\n",
    "\n",
    "*Note 2: For this question, we use some functions implemented in Lab3.*\n"
   ]
  },
  {
   "cell_type": "markdown",
   "metadata": {},
   "source": [
    "## I. Set up the problem\n",
    "\n",
    "First, we generate a dataset."
   ]
  },
  {
   "cell_type": "code",
   "execution_count": 20,
   "metadata": {},
   "outputs": [
    {
     "data": {
      "image/png": "[encoded data removed]",
      "text/plain": [
       "<Figure size 432x288 with 1 Axes>"
      ]
     },
     "metadata": {
      "needs_background": "light"
     },
     "output_type": "display_data"
    }
   ],
   "source": [
    "X = make_blob_dataset(300)\n",
    "plt.scatter(X[:, 0], X[:, 1], color='b');"
   ]
  },
  {
   "cell_type": "markdown",
   "metadata": {},
   "source": [
    "Second, we create the svm class used by our solvers"
   ]
  },
  {
   "cell_type": "code",
   "execution_count": 21,
   "metadata": {},
   "outputs": [],
   "source": [
    "class svm(object):\n",
    "    \"\"\"A class for the dual problem in question 10\"\"\"\n",
    "\n",
    "    def __init__(self, X, C, linear_kernel=True, gaussian_kernel=False):\n",
    "        self.K = X\n",
    "        self.n = len(X)\n",
    "        self.C = C\n",
    "        \n",
    "        # We generate kernel functions:\n",
    "        if linear_kernel:\n",
    "            self.K = kernel(X, X)\n",
    "            self.kernel_choice = kernel\n",
    "            \n",
    "        if gaussian_kernel:\n",
    "            self.K = K = rbf_kernel(X, X)\n",
    "            self.kernel_choice = rbf_kernel\n",
    "            \n",
    "    def f(self, mu):  # loss function without regularization\n",
    "        return 0.5 * mu.T.dot(self.K.dot(mu)) - np.sum(mu)\n",
    "    \n",
    "    def g(self, mu):  # regularization function\n",
    "        if (min(mu) < 0.) | (max(mu) > (self.C / self.n)):\n",
    "            return np.inf\n",
    "        else:\n",
    "            return 0.\n",
    "\n",
    "    def grad_f(self, mu):\n",
    "        return self.K.dot(mu) - np.ones(self.n)\n",
    "\n",
    "    def prox_g(self, mu):\n",
    "        return np.maximum(0, np.minimum(self.C / self.n, mu))\n",
    "\n",
    "    def loss(self, mu):\n",
    "        return self.f(mu) + self.g(mu)\n",
    "    \n",
    "    def lipschitz_constant(self):\n",
    "        \"\"\"Return the Lipschitz constant of the gradient\"\"\"\n",
    "        return np.linalg.norm(self.K, ord = 2) "
   ]
  },
  {
   "cell_type": "markdown",
   "metadata": {},
   "source": [
    " Sanity check of loss and gradient"
   ]
  },
  {
   "cell_type": "code",
   "execution_count": 22,
   "metadata": {},
   "outputs": [
    {
     "name": "stdout",
     "output_type": "stream",
     "text": [
      "Step = 0.00040340439741746206\n",
      "Check_grad = 0.000277185134438766\n",
      "We use : <function kernel at 0x7fb7b8c97f28>\n"
     ]
    }
   ],
   "source": [
    "from scipy.optimize import check_grad\n",
    "d = 300\n",
    "n = len(X) \n",
    "C = 40 #note: we tested different values of C, C = 40 gives good results.\n",
    "model = svm(X, C)\n",
    "step = 1. / model.lipschitz_constant()\n",
    "print(\"Step = %s\" % step)\n",
    "\n",
    "# Check that the gradient and the loss numerically match\n",
    "check = check_grad(model.f, model.grad_f, np.random.randn(d))\n",
    "\n",
    "print(\"Check_grad = %s\" % check)\n",
    "\n",
    "kernel_choice = model.kernel_choice\n",
    "print(\"We use : %s\" % kernel_choice)"
   ]
  },
  {
   "cell_type": "markdown",
   "metadata": {},
   "source": [
    "Compute a very precise minimum to compute distances to minimum (to evaluate the model)"
   ]
  },
  {
   "cell_type": "code",
   "execution_count": 23,
   "metadata": {},
   "outputs": [
    {
     "name": "stdout",
     "output_type": "stream",
     "text": [
      "f_min = -0.21550498068616336\n"
     ]
    }
   ],
   "source": [
    "from scipy.optimize import fmin_l_bfgs_b\n",
    "\n",
    "mu_init = np.zeros(d)\n",
    "mu_min, f_min, _ = fmin_l_bfgs_b(model.loss, mu_init, model.grad_f, pgtol=1e-30, factr=1e-30, bounds=[(0, C/n) for i in range(n)])\n",
    "print(\"f_min = %s\" % f_min)"
   ]
  },
  {
   "cell_type": "markdown",
   "metadata": {},
   "source": [
    "Before implementing the optimization algorithms (Ista, Fista, CD and L-BFGS), we define a simple function to be called after each iteration to gather and display a few metrics about the current minimization process"
   ]
  },
  {
   "cell_type": "code",
   "execution_count": 24,
   "metadata": {},
   "outputs": [],
   "source": [
    "import time\n",
    "from scipy.linalg import norm\n",
    "\n",
    "def inspector(loss_fun, mu_real, verbose=True):\n",
    "    \"\"\"A closure called to update metrics after each iteration.\"\"\"\n",
    "    objectives = []\n",
    "    errors = []\n",
    "    minimum = []\n",
    "    t0 = time.time()\n",
    "    it = [0] # This is a hack to be able to modify 'it' inside the closure.\n",
    "    timing = [] \n",
    "    def inspector_cl(muk): \n",
    "        obj = loss_fun(muk) - f_min \n",
    "        minf = loss_fun(muk)\n",
    "        err = norm(muk - mu_min)\n",
    "        tim = time.time()-t0\n",
    "        objectives.append(obj)\n",
    "        minimum.append(minf)\n",
    "        errors.append(err)\n",
    "        timing.append(tim)\n",
    "        if verbose == True:\n",
    "            if it[0] == 0:\n",
    "                print(' | '.join([name.center(8) for name in [\"it\", \"obj\", \"err\", \"time\"]]))\n",
    "            if it[0] % (n_iter / 5) == 0:\n",
    "                print(' | '.join([(\"%d\" % it[0]).rjust(8), \n",
    "                                  (\"%.2e\" % obj).rjust(8), (\"%.2e\" % err).rjust(8), (\"%.4e\" % tim).rjust(8)]))\n",
    "            it[0] += 1\n",
    "    inspector_cl.obj = objectives\n",
    "    inspector_cl.err = errors\n",
    "    inspector_cl.timing = timing\n",
    "    inspector_cl.minf = minimum\n",
    "\n",
    "    return inspector_cl"
   ]
  },
  {
   "cell_type": "code",
   "execution_count": 25,
   "metadata": {},
   "outputs": [],
   "source": [
    "# Number of iterations\n",
    "n_iter = 500"
   ]
  },
  {
   "cell_type": "markdown",
   "metadata": {},
   "source": [
    "## II. Implementation\n",
    "\n",
    "### 1. Solver based on the QP function in cvxopt"
   ]
  },
  {
   "cell_type": "code",
   "execution_count": 26,
   "metadata": {},
   "outputs": [],
   "source": [
    "# Kernel used (there is an option for linear or gaussian kernel in the class \"svm\" - see above):\n",
    "K = kernel_choice(X,X)"
   ]
  },
  {
   "cell_type": "code",
   "execution_count": 27,
   "metadata": {},
   "outputs": [
    {
     "name": "stdout",
     "output_type": "stream",
     "text": [
      "Number of support vectors: 4\n"
     ]
    }
   ],
   "source": [
    "def ocsvm_solver_v2(K, C):\n",
    "    n = K.shape[0]\n",
    "    P = K\n",
    "    q = -np.ones(n)\n",
    "    A = np.zeros((1, n))\n",
    "    b = np.zeros(1)\n",
    "    lbda = C / n\n",
    "    mu = qp(P, q, A, b, lbda, verbose=False, Condition=False)\n",
    "    idx_support = np.where(np.abs(mu) > 1e-05)[0]\n",
    "    mu_support = mu[idx_support]\n",
    "   \n",
    "    return mu_support, idx_support\n",
    "\n",
    "# Uncomment the following lines when your ocsvm_solver is completed:\n",
    "mu_support, idx_support = ocsvm_solver_v2(K, C)\n",
    "print(\"Number of support vectors: %s\" % idx_support.size)"
   ]
  },
  {
   "cell_type": "code",
   "execution_count": 28,
   "metadata": {},
   "outputs": [
    {
     "data": {
      "image/png": "[encoded data removed]",
      "text/plain": [
       "<Figure size 432x288 with 1 Axes>"
      ]
     },
     "metadata": {
      "needs_background": "light"
     },
     "output_type": "display_data"
    }
   ],
   "source": [
    "plot_ocsvm(X, mu_support, idx_support, rho=1, kernel=kernel_choice)"
   ]
  },
  {
   "cell_type": "markdown",
   "metadata": {},
   "source": [
    "### 2. Solver of proximal gradient with and without acceleration"
   ]
  },
  {
   "cell_type": "markdown",
   "metadata": {},
   "source": [
    "#### Without acceleration"
   ]
  },
  {
   "cell_type": "code",
   "execution_count": 30,
   "metadata": {},
   "outputs": [],
   "source": [
    "def ista(mu_init, grad_f, prox_g, n_iter=100, step=1., callback=None):\n",
    "    \"\"\"ISTA algorithm.\"\"\"\n",
    "    mu = mu_init.copy()\n",
    "    \n",
    "    for i in range(n_iter):\n",
    "        mu = prox_g(mu - step * grad_f(mu)) \n",
    "        # Update metrics after each iteration.\n",
    "        if callback is not None: \n",
    "            callback(mu)\n",
    "\n",
    "    return mu"
   ]
  },
  {
   "cell_type": "code",
   "execution_count": 31,
   "metadata": {},
   "outputs": [
    {
     "name": "stdout",
     "output_type": "stream",
     "text": [
      "   it    |   obj    |   err    |   time  \n",
      "       0 | 1.54e-01 | 1.99e-01 | 1.8165e-03\n",
      "     100 | 9.27e-02 | 1.70e-01 | 1.1810e-01\n",
      "     200 | 6.38e-02 | 1.49e-01 | 2.3165e-01\n",
      "     300 | 4.15e-02 | 1.33e-01 | 2.7714e-01\n",
      "     400 | 2.25e-02 | 1.22e-01 | 3.0662e-01\n"
     ]
    }
   ],
   "source": [
    "time0 = time.time()\n",
    "ista_inspector = inspector(model.loss, mu_min, verbose=True)\n",
    "mu_ista = ista(mu_init, model.grad_f, model.prox_g, n_iter, step, callback = ista_inspector)\n",
    "time_ista = time.time() - time0"
   ]
  },
  {
   "cell_type": "code",
   "execution_count": 32,
   "metadata": {},
   "outputs": [
    {
     "name": "stdout",
     "output_type": "stream",
     "text": [
      "Total time needed: 0.3324158191680908\n",
      "f_min ista: -0.20730593269845315\n"
     ]
    }
   ],
   "source": [
    "print(\"Total time needed: \" + str(time_ista))\n",
    "min_ista = ista_inspector.obj[-1] + f_min\n",
    "print(\"f_min ista: \" + str(min_ista))"
   ]
  },
  {
   "cell_type": "code",
   "execution_count": 33,
   "metadata": {},
   "outputs": [
    {
     "data": {
      "image/png": "[encoded data removed]",
      "text/plain": [
       "<Figure size 432x288 with 1 Axes>"
      ]
     },
     "metadata": {
      "needs_background": "light"
     },
     "output_type": "display_data"
    }
   ],
   "source": [
    "idx_support_ista = np.where(np.abs(mu_ista) > 1e-5)[0]\n",
    "mu_support_ista = mu_ista[idx_support_ista]\n",
    "plot_ocsvm(X, mu_support_ista, idx_support_ista, rho=1, kernel=kernel_choice)"
   ]
  },
  {
   "cell_type": "markdown",
   "metadata": {},
   "source": [
    "#### With acceleration (accelerated batch gradient here)"
   ]
  },
  {
   "cell_type": "code",
   "execution_count": 34,
   "metadata": {},
   "outputs": [],
   "source": [
    "def fista(mu_init, grad_f, prox_g, n_iter=100, step=1., callback=None):\n",
    "    \"\"\"FISTA algorithm.\"\"\"\n",
    "    mu = mu_init.copy()\n",
    "    y = mu_init.copy()\n",
    "    t = 1.\n",
    "\n",
    "    for _ in range(n_iter):\n",
    "        \n",
    "        mu_new = prox_g(y - step * grad_f(y))\n",
    "        t_new = (1 + np.sqrt(1 + 4 * (t**2))) / 2\n",
    "        y = mu_new + ((t - 1)/ t_new) * (mu_new - mu)\n",
    "        mu, t = mu_new, t_new\n",
    "        \n",
    "        # Update metrics after each iteration.\n",
    "        if callback is not None: \n",
    "            callback(mu)\n",
    "    return mu"
   ]
  },
  {
   "cell_type": "code",
   "execution_count": 35,
   "metadata": {},
   "outputs": [
    {
     "name": "stdout",
     "output_type": "stream",
     "text": [
      "   it    |   obj    |   err    |   time  \n",
      "       0 | 1.54e-01 | 1.99e-01 | 6.9351e-03\n",
      "     100 | 3.12e-03 | 1.01e-01 | 1.2772e-01\n",
      "     200 | 1.13e-03 | 6.76e-02 | 2.4039e-01\n",
      "     300 | 3.70e-04 | 2.78e-02 | 2.8073e-01\n",
      "     400 | 6.16e-05 | 5.25e-03 | 3.3142e-01\n"
     ]
    }
   ],
   "source": [
    "time0 = time.time()\n",
    "mu_init = np.zeros(d)\n",
    "fista_inspector = inspector(model.loss, mu_min, verbose=True)\n",
    "mu_fista = fista(mu_init, model.grad_f, model.prox_g, n_iter, step, callback = fista_inspector)\n",
    "time_fista = time.time() - time0"
   ]
  },
  {
   "cell_type": "code",
   "execution_count": 36,
   "metadata": {},
   "outputs": [
    {
     "name": "stdout",
     "output_type": "stream",
     "text": [
      "Total time needed: 0.35991883277893066\n",
      "f_min fista: -0.21549399727736485\n"
     ]
    }
   ],
   "source": [
    "print(\"Total time needed: \" + str(time_fista))\n",
    "min_fista = fista_inspector.obj[-1] + f_min\n",
    "print(\"f_min fista: \" + str(min_fista))"
   ]
  },
  {
   "cell_type": "code",
   "execution_count": 37,
   "metadata": {},
   "outputs": [
    {
     "data": {
      "image/png": "[encoded data removed]",
      "text/plain": [
       "<Figure size 432x288 with 1 Axes>"
      ]
     },
     "metadata": {
      "needs_background": "light"
     },
     "output_type": "display_data"
    }
   ],
   "source": [
    "idx_support_fista = np.where(np.abs(mu_fista) > 1e-05)[0]\n",
    "mu_support_fista = mu_fista[idx_support_fista]\n",
    "plot_ocsvm(X, mu_support_fista, idx_support_fista, rho=1, kernel=kernel_choice)"
   ]
  },
  {
   "cell_type": "markdown",
   "metadata": {},
   "source": [
    "### 3. Coordinate descent\n",
    "\n",
    "$$\n",
    "(D) : min_{\\mu} f(\\mu) + g(\\mu)\n",
    "$$\n",
    "\n",
    "\n",
    "\n",
    "The function f is convex and differentiable. Moreover, g is convex and separable: $g(\\mu) = \\sum_{i=1}^n g_i(\\mu_i)$ with $g_i(\\mu_i)=\\mathcal{I}_{\\Omega}(\\mu_i)$\n",
    "\n",
    "\n",
    "Therefore, we have a composite convex minimization problem : if $f(x)$ is minimized along each coordinate axis, the minimizer is global. In this context, the proximal coordinate descend method can be applied.\n",
    "\n",
    "\n",
    "\n",
    "For coordinate descent, we need to compute the gradient for every coordinate. \n",
    "$$\n",
    "\\nabla f _i = \\sum_j K_{ij} \\mu_j - 1 = G_iG_i^T - 1 \n",
    "$$\n",
    "\n",
    "\n",
    "We can then consider the step for the coordinate descent as follows:\n",
    "$$\n",
    "Step_i=\\frac{1}{L_i}=\\frac{1}{\\|\\sum_j K_{ij}\\|} = \\frac{1}{\\|G_i\\|}\n",
    "$$\n"
   ]
  },
  {
   "cell_type": "markdown",
   "metadata": {},
   "source": [
    "We have to compute prox_g for each coordinate:"
   ]
  },
  {
   "cell_type": "code",
   "execution_count": 38,
   "metadata": {},
   "outputs": [],
   "source": [
    "from random import *\n",
    "\n",
    "def cd_prox_g(x, C, n):\n",
    "    if x > C/n :\n",
    "        return C/n\n",
    "    elif x < 0 : \n",
    "        return 0\n",
    "    else:\n",
    "        return x"
   ]
  },
  {
   "cell_type": "markdown",
   "metadata": {},
   "source": [
    "We implement now a CD with smart updates. These updates are used to update the gradient with respect to the $i^{th}$ coordinate."
   ]
  },
  {
   "cell_type": "code",
   "execution_count": 39,
   "metadata": {},
   "outputs": [],
   "source": [
    "def Coordinate_descent(mu_init, K, prox_g, C, n_iter=100, \n",
    "                       verbose=True, callback=None):\n",
    "    \"\"\"Proximal gradient descent algorithm\n",
    "\n",
    "    Minimize :\n",
    "    \n",
    "    1/2 mu^T K mu + 1_n * mu + g(x)\n",
    "    \n",
    "    with coordinate descent.\n",
    "    \"\"\"\n",
    "    \n",
    "    mu = mu_init.copy()\n",
    "    mu_new = mu_init.copy()\n",
    "    n = K.shape[0]\n",
    "        \n",
    "    L = np.sqrt(np.sum(K*K,axis=0))\n",
    "   \n",
    "    Residual = K.dot(mu) - np.ones((n,))\n",
    "    \n",
    "    for k in range(n_iter + 1):\n",
    "        #i = k % n # cyclic rule\n",
    "        i = randint(0, n-1) # more efficient than the cyclic rule in the quadratic case\n",
    "        grad_f = Residual[i]\n",
    "        step = 1 / L[i]\n",
    "        mu_new[i] = prox_g(mu[i] - step * grad_f, C, n)\n",
    "            \n",
    "        Residual += (mu_new[i] - mu[i]) * K[i,:]\n",
    "        mu = mu_new.copy()\n",
    "        \n",
    "        # Update metrics after each iteration.\n",
    "        if callback is not None: \n",
    "            callback(mu)\n",
    "            \n",
    "    return mu"
   ]
  },
  {
   "cell_type": "code",
   "execution_count": 40,
   "metadata": {},
   "outputs": [
    {
     "name": "stdout",
     "output_type": "stream",
     "text": [
      "   it    |   obj    |   err    |   time  \n",
      "       0 | 2.08e-01 | 2.00e-01 | 3.4781e-03\n",
      "     100 | 1.49e-01 | 2.01e-01 | 8.2116e-02\n",
      "     200 | 1.40e-01 | 1.96e-01 | 1.1201e-01\n",
      "     300 | 1.37e-01 | 1.95e-01 | 1.3418e-01\n",
      "     400 | 1.32e-01 | 1.93e-01 | 1.5557e-01\n",
      "     500 | 1.30e-01 | 1.92e-01 | 1.8195e-01\n",
      "     600 | 1.25e-01 | 1.90e-01 | 2.0482e-01\n",
      "     700 | 1.21e-01 | 1.89e-01 | 2.3069e-01\n",
      "     800 | 1.20e-01 | 1.89e-01 | 2.5740e-01\n",
      "     900 | 1.19e-01 | 1.88e-01 | 2.7555e-01\n",
      "    1000 | 1.17e-01 | 1.87e-01 | 2.9255e-01\n",
      "    1100 | 9.76e-02 | 1.70e-01 | 3.0939e-01\n",
      "    1200 | 9.32e-02 | 1.69e-01 | 3.2621e-01\n",
      "    1300 | 9.09e-02 | 1.67e-01 | 3.4302e-01\n",
      "    1400 | 8.93e-02 | 1.67e-01 | 3.6070e-01\n",
      "    1500 | 8.88e-02 | 1.66e-01 | 3.7858e-01\n",
      "    1600 | 8.79e-02 | 1.66e-01 | 3.9567e-01\n",
      "    1700 | 8.75e-02 | 1.66e-01 | 4.1308e-01\n",
      "    1800 | 4.22e-02 | 1.32e-01 | 4.3006e-01\n",
      "    1900 | 4.14e-02 | 1.31e-01 | 4.5032e-01\n",
      "    2000 | 2.72e-02 | 1.27e-01 | 4.7132e-01\n",
      "    2100 | 2.65e-02 | 1.26e-01 | 4.8880e-01\n",
      "    2200 | 2.65e-02 | 1.26e-01 | 5.0630e-01\n",
      "    2300 | 2.63e-02 | 1.27e-01 | 5.2355e-01\n",
      "    2400 | 2.56e-02 | 1.26e-01 | 5.4921e-01\n",
      "    2500 | 2.55e-02 | 1.26e-01 | 5.6901e-01\n",
      "    2600 | 2.48e-02 | 1.26e-01 | 5.8634e-01\n",
      "    2700 | 1.39e-02 | 1.25e-01 | 6.0333e-01\n",
      "    2800 | 1.36e-02 | 1.25e-01 | 6.2046e-01\n",
      "    2900 | 1.35e-02 | 1.25e-01 | 6.3751e-01\n",
      "    3000 | 1.30e-02 | 1.25e-01 | 6.5569e-01\n",
      "    3100 | 1.26e-02 | 1.25e-01 | 6.7366e-01\n",
      "    3200 | 1.22e-02 | 1.25e-01 | 7.0063e-01\n",
      "    3300 | 1.19e-02 | 1.24e-01 | 7.2651e-01\n",
      "    3400 | 1.18e-02 | 1.24e-01 | 7.4825e-01\n",
      "    3500 | 1.14e-02 | 1.22e-01 | 7.7072e-01\n",
      "    3600 | 1.11e-02 | 1.22e-01 | 7.9306e-01\n",
      "    3700 | 1.09e-02 | 1.21e-01 | 8.1472e-01\n",
      "    3800 | 1.07e-02 | 1.21e-01 | 8.3535e-01\n",
      "    3900 | 1.04e-02 | 1.19e-01 | 8.5558e-01\n",
      "    4000 | 1.03e-02 | 1.19e-01 | 8.7746e-01\n",
      "    4100 | 1.02e-02 | 1.19e-01 | 8.9985e-01\n",
      "    4200 | 1.00e-02 | 1.19e-01 | 9.2042e-01\n",
      "    4300 | 9.92e-03 | 1.19e-01 | 9.4198e-01\n",
      "    4400 | 9.81e-03 | 1.19e-01 | 9.6574e-01\n",
      "    4500 | 9.70e-03 | 1.19e-01 | 9.8417e-01\n",
      "    4600 | 9.61e-03 | 1.18e-01 | 1.0013e+00\n",
      "    4700 | 9.49e-03 | 1.18e-01 | 1.0183e+00\n",
      "    4800 | 9.40e-03 | 1.18e-01 | 1.0352e+00\n",
      "    4900 | 9.19e-03 | 1.17e-01 | 1.0522e+00\n",
      "    5000 | 9.15e-03 | 1.17e-01 | 1.0691e+00\n",
      "    5100 | 9.10e-03 | 1.17e-01 | 1.0869e+00\n",
      "    5200 | 8.95e-03 | 1.17e-01 | 1.1057e+00\n",
      "    5300 | 8.69e-03 | 1.16e-01 | 1.1241e+00\n",
      "    5400 | 8.62e-03 | 1.16e-01 | 1.1415e+00\n",
      "    5500 | 8.55e-03 | 1.16e-01 | 1.1589e+00\n",
      "    5600 | 8.37e-03 | 1.15e-01 | 1.1825e+00\n",
      "    5700 | 8.22e-03 | 1.15e-01 | 1.2051e+00\n",
      "    5800 | 7.98e-03 | 1.15e-01 | 1.2263e+00\n",
      "    5900 | 7.91e-03 | 1.15e-01 | 1.2464e+00\n",
      "    6000 | 7.88e-03 | 1.15e-01 | 1.2695e+00\n",
      "    6100 | 7.73e-03 | 1.14e-01 | 1.2903e+00\n",
      "    6200 | 7.61e-03 | 1.13e-01 | 1.3111e+00\n",
      "    6300 | 7.55e-03 | 1.13e-01 | 1.3315e+00\n",
      "    6400 | 7.43e-03 | 1.11e-01 | 1.3632e+00\n",
      "    6500 | 7.30e-03 | 1.11e-01 | 1.3935e+00\n",
      "    6600 | 7.14e-03 | 1.11e-01 | 1.4122e+00\n",
      "    6700 | 7.05e-03 | 1.10e-01 | 1.4296e+00\n",
      "    6800 | 6.99e-03 | 1.10e-01 | 1.4476e+00\n",
      "    6900 | 6.85e-03 | 1.09e-01 | 1.4646e+00\n",
      "    7000 | 6.80e-03 | 1.09e-01 | 1.4819e+00\n",
      "    7100 | 6.73e-03 | 1.09e-01 | 1.4997e+00\n",
      "    7200 | 6.64e-03 | 1.10e-01 | 1.5244e+00\n",
      "    7300 | 6.62e-03 | 1.10e-01 | 1.5476e+00\n",
      "    7400 | 6.59e-03 | 1.10e-01 | 1.5814e+00\n",
      "    7500 | 6.49e-03 | 1.09e-01 | 1.6152e+00\n",
      "    7600 | 6.48e-03 | 1.09e-01 | 1.6398e+00\n",
      "    7700 | 6.43e-03 | 1.09e-01 | 1.6736e+00\n",
      "    7800 | 6.42e-03 | 1.09e-01 | 1.7082e+00\n",
      "    7900 | 6.34e-03 | 1.09e-01 | 1.7417e+00\n",
      "    8000 | 6.32e-03 | 1.09e-01 | 1.7697e+00\n",
      "    8100 | 6.29e-03 | 1.09e-01 | 1.7877e+00\n",
      "    8200 | 6.24e-03 | 1.09e-01 | 1.8048e+00\n",
      "    8300 | 6.21e-03 | 1.09e-01 | 1.8216e+00\n",
      "    8400 | 6.12e-03 | 1.09e-01 | 1.8390e+00\n",
      "    8500 | 6.07e-03 | 1.09e-01 | 1.8563e+00\n",
      "    8600 | 5.96e-03 | 1.08e-01 | 1.8750e+00\n",
      "    8700 | 5.88e-03 | 1.08e-01 | 1.8991e+00\n",
      "    8800 | 5.82e-03 | 1.08e-01 | 1.9213e+00\n",
      "    8900 | 5.71e-03 | 1.07e-01 | 1.9419e+00\n",
      "    9000 | 5.65e-03 | 1.07e-01 | 1.9640e+00\n",
      "    9100 | 5.59e-03 | 1.07e-01 | 1.9918e+00\n",
      "    9200 | 5.58e-03 | 1.07e-01 | 2.0202e+00\n",
      "    9300 | 5.58e-03 | 1.07e-01 | 2.0484e+00\n",
      "    9400 | 5.57e-03 | 1.07e-01 | 2.0753e+00\n",
      "    9500 | 5.52e-03 | 1.08e-01 | 2.1047e+00\n",
      "    9600 | 5.50e-03 | 1.08e-01 | 2.1313e+00\n",
      "    9700 | 5.49e-03 | 1.08e-01 | 2.1578e+00\n",
      "    9800 | 5.44e-03 | 1.07e-01 | 2.1832e+00\n",
      "    9900 | 5.42e-03 | 1.07e-01 | 2.2035e+00\n",
      "   10000 | 5.40e-03 | 1.07e-01 | 2.2290e+00\n",
      "   10100 | 5.35e-03 | 1.07e-01 | 2.2544e+00\n",
      "   10200 | 5.33e-03 | 1.07e-01 | 2.2823e+00\n",
      "   10300 | 5.31e-03 | 1.07e-01 | 2.3088e+00\n",
      "   10400 | 5.24e-03 | 1.07e-01 | 2.3362e+00\n",
      "   10500 | 5.16e-03 | 1.07e-01 | 2.3642e+00\n",
      "   10600 | 5.13e-03 | 1.07e-01 | 2.3913e+00\n",
      "   10700 | 5.05e-03 | 1.06e-01 | 2.4193e+00\n",
      "   10800 | 4.99e-03 | 1.05e-01 | 2.4482e+00\n",
      "   10900 | 4.96e-03 | 1.05e-01 | 2.4749e+00\n",
      "   11000 | 4.89e-03 | 1.05e-01 | 2.5007e+00\n",
      "   11100 | 4.85e-03 | 1.05e-01 | 2.5204e+00\n",
      "   11200 | 4.79e-03 | 1.04e-01 | 2.5378e+00\n",
      "   11300 | 4.79e-03 | 1.04e-01 | 2.5557e+00\n",
      "   11400 | 4.77e-03 | 1.04e-01 | 2.5845e+00\n",
      "   11500 | 4.71e-03 | 1.04e-01 | 2.6108e+00\n",
      "   11600 | 4.67e-03 | 1.04e-01 | 2.6366e+00\n",
      "   11700 | 4.67e-03 | 1.04e-01 | 2.6591e+00\n",
      "   11800 | 4.67e-03 | 1.04e-01 | 2.6861e+00\n",
      "   11900 | 4.65e-03 | 1.04e-01 | 2.7131e+00\n",
      "   12000 | 4.65e-03 | 1.04e-01 | 2.7349e+00\n",
      "   12100 | 4.65e-03 | 1.04e-01 | 2.7641e+00\n",
      "   12200 | 4.63e-03 | 1.04e-01 | 2.7911e+00\n",
      "   12300 | 4.59e-03 | 1.04e-01 | 2.8183e+00\n",
      "   12400 | 4.55e-03 | 1.04e-01 | 2.8456e+00\n",
      "   12500 | 4.46e-03 | 1.03e-01 | 2.8681e+00\n",
      "   12600 | 4.43e-03 | 1.03e-01 | 2.8851e+00\n",
      "   12700 | 4.38e-03 | 1.03e-01 | 2.9026e+00\n",
      "   12800 | 4.38e-03 | 1.03e-01 | 2.9197e+00\n",
      "   12900 | 4.31e-03 | 1.02e-01 | 2.9367e+00\n",
      "   13000 | 4.28e-03 | 1.02e-01 | 2.9535e+00\n",
      "   13100 | 4.25e-03 | 1.02e-01 | 2.9716e+00\n",
      "   13200 | 4.23e-03 | 1.02e-01 | 2.9889e+00\n",
      "   13300 | 4.23e-03 | 1.02e-01 | 3.0086e+00\n",
      "   13400 | 4.22e-03 | 1.01e-01 | 3.0281e+00\n",
      "   13500 | 4.17e-03 | 1.01e-01 | 3.0455e+00\n",
      "   13600 | 4.14e-03 | 1.01e-01 | 3.0628e+00\n",
      "   13700 | 4.14e-03 | 1.01e-01 | 3.0801e+00\n",
      "   13800 | 4.12e-03 | 1.01e-01 | 3.0975e+00\n",
      "   13900 | 4.11e-03 | 1.01e-01 | 3.1148e+00\n",
      "   14000 | 4.10e-03 | 1.01e-01 | 3.1320e+00\n",
      "   14100 | 4.07e-03 | 1.01e-01 | 3.1494e+00\n",
      "   14200 | 4.07e-03 | 1.01e-01 | 3.1671e+00\n",
      "   14300 | 4.04e-03 | 1.00e-01 | 3.1852e+00\n",
      "   14400 | 4.03e-03 | 1.00e-01 | 3.2044e+00\n",
      "   14500 | 4.01e-03 | 1.00e-01 | 3.2229e+00\n",
      "   14600 | 4.01e-03 | 1.00e-01 | 3.2407e+00\n",
      "   14700 | 4.00e-03 | 1.00e-01 | 3.2578e+00\n",
      "   14800 | 3.98e-03 | 1.00e-01 | 3.2749e+00\n",
      "   14900 | 3.98e-03 | 1.00e-01 | 3.2921e+00\n",
      "   15000 | 3.96e-03 | 1.00e-01 | 3.3098e+00\n",
      "   15100 | 3.96e-03 | 1.00e-01 | 3.3274e+00\n",
      "   15200 | 3.93e-03 | 9.97e-02 | 3.3452e+00\n",
      "   15300 | 3.91e-03 | 9.93e-02 | 3.3670e+00\n",
      "   15400 | 3.88e-03 | 9.89e-02 | 3.3847e+00\n",
      "   15500 | 3.88e-03 | 9.89e-02 | 3.4030e+00\n",
      "   15600 | 3.88e-03 | 9.90e-02 | 3.4229e+00\n",
      "   15700 | 3.85e-03 | 9.87e-02 | 3.4430e+00\n",
      "   15800 | 3.85e-03 | 9.87e-02 | 3.4628e+00\n",
      "   15900 | 3.82e-03 | 9.87e-02 | 3.4805e+00\n",
      "   16000 | 3.82e-03 | 9.87e-02 | 3.4984e+00\n",
      "   16100 | 3.82e-03 | 9.87e-02 | 3.5154e+00\n",
      "   16200 | 3.81e-03 | 9.87e-02 | 3.5324e+00\n",
      "   16300 | 3.80e-03 | 9.87e-02 | 3.5495e+00\n",
      "   16400 | 3.79e-03 | 9.84e-02 | 3.5668e+00\n",
      "   16500 | 3.74e-03 | 9.77e-02 | 3.5846e+00\n",
      "   16600 | 3.71e-03 | 9.69e-02 | 3.6019e+00\n",
      "   16700 | 3.70e-03 | 9.66e-02 | 3.6203e+00\n",
      "   16800 | 3.67e-03 | 9.63e-02 | 3.6400e+00\n",
      "   16900 | 3.65e-03 | 9.63e-02 | 3.6581e+00\n",
      "   17000 | 3.62e-03 | 9.60e-02 | 3.6755e+00\n",
      "   17100 | 3.60e-03 | 9.57e-02 | 3.6928e+00\n",
      "   17200 | 3.60e-03 | 9.57e-02 | 3.7106e+00\n",
      "   17300 | 3.57e-03 | 9.56e-02 | 3.7279e+00\n",
      "   17400 | 3.57e-03 | 9.56e-02 | 3.7452e+00\n",
      "   17500 | 3.53e-03 | 9.52e-02 | 3.7625e+00\n",
      "   17600 | 3.52e-03 | 9.52e-02 | 3.7803e+00\n",
      "   17700 | 3.50e-03 | 9.52e-02 | 3.7976e+00\n",
      "   17800 | 3.49e-03 | 9.52e-02 | 3.8147e+00\n",
      "   17900 | 3.46e-03 | 9.49e-02 | 3.8381e+00\n",
      "   18000 | 3.44e-03 | 9.49e-02 | 3.8607e+00\n",
      "   18100 | 3.43e-03 | 9.49e-02 | 3.8877e+00\n",
      "   18200 | 3.42e-03 | 9.48e-02 | 3.9130e+00\n",
      "   18300 | 3.38e-03 | 9.42e-02 | 3.9354e+00\n",
      "   18400 | 3.36e-03 | 9.41e-02 | 3.9550e+00\n",
      "   18500 | 3.36e-03 | 9.42e-02 | 3.9725e+00\n",
      "   18600 | 3.32e-03 | 9.37e-02 | 3.9896e+00\n",
      "   18700 | 3.32e-03 | 9.38e-02 | 4.0070e+00\n",
      "   18800 | 3.28e-03 | 9.34e-02 | 4.0241e+00\n"
     ]
    },
    {
     "name": "stdout",
     "output_type": "stream",
     "text": [
      "   18900 | 3.28e-03 | 9.34e-02 | 4.0422e+00\n",
      "   19000 | 3.25e-03 | 9.33e-02 | 4.0602e+00\n",
      "   19100 | 3.25e-03 | 9.33e-02 | 4.0802e+00\n",
      "   19200 | 3.22e-03 | 9.33e-02 | 4.0976e+00\n",
      "   19300 | 3.18e-03 | 9.29e-02 | 4.1154e+00\n",
      "   19400 | 3.17e-03 | 9.29e-02 | 4.1327e+00\n",
      "   19500 | 3.17e-03 | 9.29e-02 | 4.1499e+00\n",
      "   19600 | 3.16e-03 | 9.29e-02 | 4.1670e+00\n",
      "   19700 | 3.15e-03 | 9.30e-02 | 4.1849e+00\n",
      "   19800 | 3.13e-03 | 9.26e-02 | 4.2022e+00\n",
      "   19900 | 3.12e-03 | 9.25e-02 | 4.2195e+00\n",
      "   20000 | 3.11e-03 | 9.25e-02 | 4.2367e+00\n",
      "   20100 | 3.07e-03 | 9.22e-02 | 4.2546e+00\n",
      "   20200 | 3.05e-03 | 9.18e-02 | 4.2722e+00\n",
      "   20300 | 3.03e-03 | 9.18e-02 | 4.2916e+00\n",
      "   20400 | 3.01e-03 | 9.18e-02 | 4.3088e+00\n",
      "   20500 | 2.98e-03 | 9.19e-02 | 4.3262e+00\n",
      "   20600 | 2.98e-03 | 9.19e-02 | 4.3435e+00\n",
      "   20700 | 2.97e-03 | 9.19e-02 | 4.3612e+00\n",
      "   20800 | 2.96e-03 | 9.19e-02 | 4.3786e+00\n",
      "   20900 | 2.94e-03 | 9.20e-02 | 4.3960e+00\n",
      "   21000 | 2.92e-03 | 9.16e-02 | 4.4171e+00\n",
      "   21100 | 2.90e-03 | 9.16e-02 | 4.4346e+00\n",
      "   21200 | 2.89e-03 | 9.16e-02 | 4.4614e+00\n",
      "   21300 | 2.88e-03 | 9.16e-02 | 4.4884e+00\n",
      "   21400 | 2.88e-03 | 9.17e-02 | 4.5092e+00\n",
      "   21500 | 2.87e-03 | 9.18e-02 | 4.5265e+00\n",
      "   21600 | 2.86e-03 | 9.18e-02 | 4.5438e+00\n",
      "   21700 | 2.81e-03 | 9.19e-02 | 4.5608e+00\n",
      "   21800 | 2.79e-03 | 9.19e-02 | 4.5786e+00\n",
      "   21900 | 2.79e-03 | 9.19e-02 | 4.5958e+00\n",
      "   22000 | 2.75e-03 | 9.15e-02 | 4.6130e+00\n",
      "   22100 | 2.75e-03 | 9.16e-02 | 4.6303e+00\n",
      "   22200 | 2.74e-03 | 9.17e-02 | 4.6478e+00\n",
      "   22300 | 2.72e-03 | 9.16e-02 | 4.6663e+00\n",
      "   22400 | 2.71e-03 | 9.17e-02 | 4.6875e+00\n",
      "   22500 | 2.69e-03 | 9.13e-02 | 4.7086e+00\n",
      "   22600 | 2.66e-03 | 9.10e-02 | 4.7324e+00\n",
      "   22700 | 2.66e-03 | 9.10e-02 | 4.7539e+00\n",
      "   22800 | 2.64e-03 | 9.07e-02 | 4.7744e+00\n",
      "   22900 | 2.59e-03 | 9.03e-02 | 4.7932e+00\n",
      "   23000 | 2.59e-03 | 9.03e-02 | 4.8137e+00\n",
      "   23100 | 2.57e-03 | 9.03e-02 | 4.8341e+00\n",
      "   23200 | 2.55e-03 | 9.04e-02 | 4.8531e+00\n",
      "   23300 | 2.55e-03 | 9.04e-02 | 4.8752e+00\n",
      "   23400 | 2.51e-03 | 9.05e-02 | 4.8970e+00\n",
      "   23500 | 2.48e-03 | 9.02e-02 | 4.9173e+00\n",
      "   23600 | 2.45e-03 | 8.99e-02 | 4.9370e+00\n",
      "   23700 | 2.45e-03 | 8.99e-02 | 4.9647e+00\n",
      "   23800 | 2.45e-03 | 8.99e-02 | 4.9891e+00\n",
      "   23900 | 2.43e-03 | 8.97e-02 | 5.0067e+00\n",
      "   24000 | 2.43e-03 | 8.97e-02 | 5.0238e+00\n",
      "   24100 | 2.39e-03 | 8.91e-02 | 5.0439e+00\n",
      "   24200 | 2.37e-03 | 8.91e-02 | 5.0642e+00\n",
      "   24300 | 2.34e-03 | 8.86e-02 | 5.0855e+00\n",
      "   24400 | 2.32e-03 | 8.80e-02 | 5.1065e+00\n",
      "   24500 | 2.31e-03 | 8.80e-02 | 5.1255e+00\n",
      "   24600 | 2.30e-03 | 8.77e-02 | 5.1449e+00\n",
      "   24700 | 2.30e-03 | 8.77e-02 | 5.1643e+00\n",
      "   24800 | 2.29e-03 | 8.77e-02 | 5.1844e+00\n",
      "   24900 | 2.28e-03 | 8.77e-02 | 5.2035e+00\n",
      "   25000 | 2.27e-03 | 8.74e-02 | 5.2232e+00\n",
      "   25100 | 2.26e-03 | 8.74e-02 | 5.2423e+00\n",
      "   25200 | 2.26e-03 | 8.74e-02 | 5.2608e+00\n",
      "   25300 | 2.25e-03 | 8.74e-02 | 5.2786e+00\n",
      "   25400 | 2.24e-03 | 8.74e-02 | 5.3060e+00\n",
      "   25500 | 2.23e-03 | 8.75e-02 | 5.3337e+00\n",
      "   25600 | 2.22e-03 | 8.73e-02 | 5.3519e+00\n",
      "   25700 | 2.22e-03 | 8.73e-02 | 5.3688e+00\n",
      "   25800 | 2.20e-03 | 8.70e-02 | 5.3857e+00\n",
      "   25900 | 2.19e-03 | 8.68e-02 | 5.4026e+00\n",
      "   26000 | 2.19e-03 | 8.68e-02 | 5.4195e+00\n",
      "   26100 | 2.19e-03 | 8.68e-02 | 5.4380e+00\n",
      "   26200 | 2.19e-03 | 8.68e-02 | 5.4571e+00\n",
      "   26300 | 2.19e-03 | 8.68e-02 | 5.4742e+00\n",
      "   26400 | 2.19e-03 | 8.68e-02 | 5.4924e+00\n",
      "   26500 | 2.19e-03 | 8.65e-02 | 5.5133e+00\n",
      "   26600 | 2.19e-03 | 8.65e-02 | 5.5407e+00\n",
      "   26700 | 2.19e-03 | 8.65e-02 | 5.5679e+00\n",
      "   26800 | 2.19e-03 | 8.65e-02 | 5.5945e+00\n",
      "   26900 | 2.18e-03 | 8.66e-02 | 5.6216e+00\n",
      "   27000 | 2.18e-03 | 8.66e-02 | 5.6422e+00\n",
      "   27100 | 2.18e-03 | 8.65e-02 | 5.6618e+00\n",
      "   27200 | 2.18e-03 | 8.65e-02 | 5.6818e+00\n",
      "   27300 | 2.18e-03 | 8.65e-02 | 5.7013e+00\n",
      "   27400 | 2.17e-03 | 8.66e-02 | 5.7220e+00\n",
      "   27500 | 2.16e-03 | 8.63e-02 | 5.7413e+00\n",
      "   27600 | 2.16e-03 | 8.63e-02 | 5.7606e+00\n",
      "   27700 | 2.15e-03 | 8.61e-02 | 5.7788e+00\n",
      "   27800 | 2.15e-03 | 8.61e-02 | 5.7975e+00\n",
      "   27900 | 2.15e-03 | 8.58e-02 | 5.8150e+00\n",
      "   28000 | 2.15e-03 | 8.58e-02 | 5.8322e+00\n",
      "   28100 | 2.14e-03 | 8.56e-02 | 5.8494e+00\n",
      "   28200 | 2.14e-03 | 8.56e-02 | 5.8666e+00\n",
      "   28300 | 2.13e-03 | 8.56e-02 | 5.8840e+00\n",
      "   28400 | 2.12e-03 | 8.54e-02 | 5.9018e+00\n",
      "   28500 | 2.12e-03 | 8.54e-02 | 5.9191e+00\n",
      "   28600 | 2.12e-03 | 8.54e-02 | 5.9379e+00\n",
      "   28700 | 2.12e-03 | 8.54e-02 | 5.9645e+00\n",
      "   28800 | 2.12e-03 | 8.54e-02 | 5.9968e+00\n",
      "   28900 | 2.12e-03 | 8.54e-02 | 6.0290e+00\n",
      "   29000 | 2.12e-03 | 8.54e-02 | 6.0625e+00\n",
      "   29100 | 2.11e-03 | 8.52e-02 | 6.0944e+00\n",
      "   29200 | 2.10e-03 | 8.52e-02 | 6.1186e+00\n",
      "   29300 | 2.09e-03 | 8.51e-02 | 6.1443e+00\n",
      "   29400 | 2.09e-03 | 8.51e-02 | 6.1716e+00\n",
      "   29500 | 2.09e-03 | 8.51e-02 | 6.1992e+00\n",
      "   29600 | 2.08e-03 | 8.51e-02 | 6.2251e+00\n",
      "   29700 | 2.06e-03 | 8.48e-02 | 6.2528e+00\n",
      "   29800 | 2.05e-03 | 8.48e-02 | 6.2794e+00\n",
      "   29900 | 2.05e-03 | 8.48e-02 | 6.3052e+00\n",
      "   30000 | 2.04e-03 | 8.48e-02 | 6.3300e+00\n",
      "   30100 | 2.03e-03 | 8.46e-02 | 6.3552e+00\n",
      "   30200 | 2.03e-03 | 8.46e-02 | 6.3773e+00\n",
      "   30300 | 2.02e-03 | 8.46e-02 | 6.3949e+00\n",
      "   30400 | 2.02e-03 | 8.46e-02 | 6.4123e+00\n",
      "   30500 | 2.02e-03 | 8.46e-02 | 6.4348e+00\n",
      "   30600 | 2.00e-03 | 8.46e-02 | 6.4588e+00\n",
      "   30700 | 1.98e-03 | 8.40e-02 | 6.4808e+00\n",
      "   30800 | 1.97e-03 | 8.40e-02 | 6.5023e+00\n",
      "   30900 | 1.97e-03 | 8.40e-02 | 6.5243e+00\n",
      "   31000 | 1.97e-03 | 8.40e-02 | 6.5488e+00\n",
      "   31100 | 1.97e-03 | 8.40e-02 | 6.5766e+00\n",
      "   31200 | 1.96e-03 | 8.41e-02 | 6.6043e+00\n",
      "   31300 | 1.96e-03 | 8.41e-02 | 6.6314e+00\n",
      "   31400 | 1.95e-03 | 8.41e-02 | 6.6588e+00\n",
      "   31500 | 1.94e-03 | 8.39e-02 | 6.6862e+00\n",
      "   31600 | 1.93e-03 | 8.40e-02 | 6.7133e+00\n",
      "   31700 | 1.93e-03 | 8.40e-02 | 6.7404e+00\n",
      "   31800 | 1.92e-03 | 8.38e-02 | 6.7660e+00\n",
      "   31900 | 1.92e-03 | 8.38e-02 | 6.7880e+00\n",
      "   32000 | 1.92e-03 | 8.38e-02 | 6.8054e+00\n",
      "   32100 | 1.92e-03 | 8.38e-02 | 6.8227e+00\n",
      "   32200 | 1.91e-03 | 8.35e-02 | 6.8403e+00\n",
      "   32300 | 1.90e-03 | 8.33e-02 | 6.8575e+00\n",
      "   32400 | 1.90e-03 | 8.33e-02 | 6.8747e+00\n",
      "   32500 | 1.90e-03 | 8.33e-02 | 6.8920e+00\n",
      "   32600 | 1.90e-03 | 8.33e-02 | 6.9093e+00\n",
      "   32700 | 1.90e-03 | 8.31e-02 | 6.9268e+00\n",
      "   32800 | 1.89e-03 | 8.29e-02 | 6.9441e+00\n",
      "   32900 | 1.88e-03 | 8.25e-02 | 6.9620e+00\n",
      "   33000 | 1.87e-03 | 8.23e-02 | 6.9791e+00\n",
      "   33100 | 1.87e-03 | 8.21e-02 | 6.9978e+00\n",
      "   33200 | 1.87e-03 | 8.21e-02 | 7.0153e+00\n",
      "   33300 | 1.86e-03 | 8.19e-02 | 7.0325e+00\n",
      "   33400 | 1.85e-03 | 8.15e-02 | 7.0500e+00\n",
      "   33500 | 1.85e-03 | 8.15e-02 | 7.0754e+00\n",
      "   33600 | 1.85e-03 | 8.13e-02 | 7.1011e+00\n",
      "   33700 | 1.84e-03 | 8.12e-02 | 7.1267e+00\n",
      "   33800 | 1.84e-03 | 8.10e-02 | 7.1462e+00\n",
      "   33900 | 1.84e-03 | 8.09e-02 | 7.1633e+00\n",
      "   34000 | 1.84e-03 | 8.09e-02 | 7.1810e+00\n",
      "   34100 | 1.83e-03 | 8.09e-02 | 7.2053e+00\n",
      "   34200 | 1.83e-03 | 8.09e-02 | 7.2221e+00\n",
      "   34300 | 1.83e-03 | 8.09e-02 | 7.2392e+00\n",
      "   34400 | 1.83e-03 | 8.09e-02 | 7.2558e+00\n",
      "   34500 | 1.83e-03 | 8.09e-02 | 7.2726e+00\n",
      "   34600 | 1.83e-03 | 8.08e-02 | 7.2895e+00\n",
      "   34700 | 1.83e-03 | 8.08e-02 | 7.3068e+00\n",
      "   34800 | 1.83e-03 | 8.08e-02 | 7.3239e+00\n",
      "   34900 | 1.82e-03 | 8.06e-02 | 7.3410e+00\n",
      "   35000 | 1.82e-03 | 8.06e-02 | 7.3581e+00\n",
      "   35100 | 1.82e-03 | 8.04e-02 | 7.3752e+00\n",
      "   35200 | 1.82e-03 | 8.04e-02 | 7.3923e+00\n",
      "   35300 | 1.82e-03 | 8.04e-02 | 7.4099e+00\n",
      "   35400 | 1.81e-03 | 8.00e-02 | 7.4267e+00\n",
      "   35500 | 1.81e-03 | 8.00e-02 | 7.4450e+00\n",
      "   35600 | 1.80e-03 | 8.00e-02 | 7.4622e+00\n",
      "   35700 | 1.80e-03 | 8.00e-02 | 7.4791e+00\n",
      "   35800 | 1.80e-03 | 8.00e-02 | 7.4958e+00\n",
      "   35900 | 1.80e-03 | 8.00e-02 | 7.5125e+00\n",
      "   36000 | 1.80e-03 | 7.99e-02 | 7.5291e+00\n",
      "   36100 | 1.80e-03 | 7.99e-02 | 7.5461e+00\n",
      "   36200 | 1.80e-03 | 7.99e-02 | 7.5631e+00\n",
      "   36300 | 1.80e-03 | 7.99e-02 | 7.5797e+00\n",
      "   36400 | 1.80e-03 | 7.99e-02 | 7.5963e+00\n",
      "   36500 | 1.80e-03 | 7.99e-02 | 7.6135e+00\n",
      "   36600 | 1.80e-03 | 7.99e-02 | 7.6337e+00\n",
      "   36700 | 1.79e-03 | 7.97e-02 | 7.6530e+00\n",
      "   36800 | 1.79e-03 | 7.95e-02 | 7.6705e+00\n",
      "   36900 | 1.79e-03 | 7.95e-02 | 7.6879e+00\n",
      "   37000 | 1.78e-03 | 7.92e-02 | 7.7076e+00\n",
      "   37100 | 1.77e-03 | 7.89e-02 | 7.7340e+00\n",
      "   37200 | 1.77e-03 | 7.89e-02 | 7.7591e+00\n",
      "   37300 | 1.76e-03 | 7.87e-02 | 7.7838e+00\n",
      "   37400 | 1.76e-03 | 7.86e-02 | 7.8087e+00\n",
      "   37500 | 1.76e-03 | 7.84e-02 | 7.8349e+00\n",
      "   37600 | 1.76e-03 | 7.84e-02 | 7.8541e+00\n",
      "   37700 | 1.76e-03 | 7.84e-02 | 7.8713e+00\n",
      "   37800 | 1.75e-03 | 7.84e-02 | 7.8933e+00\n",
      "   37900 | 1.75e-03 | 7.84e-02 | 7.9207e+00\n",
      "   38000 | 1.75e-03 | 7.84e-02 | 7.9380e+00\n",
      "   38100 | 1.75e-03 | 7.83e-02 | 7.9553e+00\n",
      "   38200 | 1.74e-03 | 7.80e-02 | 7.9734e+00\n",
      "   38300 | 1.73e-03 | 7.76e-02 | 7.9997e+00\n",
      "   38400 | 1.73e-03 | 7.76e-02 | 8.0264e+00\n"
     ]
    },
    {
     "name": "stdout",
     "output_type": "stream",
     "text": [
      "   38500 | 1.73e-03 | 7.76e-02 | 8.0524e+00\n",
      "   38600 | 1.73e-03 | 7.76e-02 | 8.0764e+00\n",
      "   38700 | 1.73e-03 | 7.76e-02 | 8.0936e+00\n",
      "   38800 | 1.72e-03 | 7.74e-02 | 8.1122e+00\n",
      "   38900 | 1.72e-03 | 7.70e-02 | 8.1320e+00\n",
      "   39000 | 1.71e-03 | 7.69e-02 | 8.1519e+00\n",
      "   39100 | 1.71e-03 | 7.69e-02 | 8.1717e+00\n",
      "   39200 | 1.71e-03 | 7.69e-02 | 8.1898e+00\n",
      "   39300 | 1.71e-03 | 7.69e-02 | 8.2076e+00\n",
      "   39400 | 1.71e-03 | 7.67e-02 | 8.2246e+00\n",
      "   39500 | 1.71e-03 | 7.67e-02 | 8.2414e+00\n",
      "   39600 | 1.71e-03 | 7.67e-02 | 8.2597e+00\n",
      "   39700 | 1.70e-03 | 7.65e-02 | 8.2769e+00\n",
      "   39800 | 1.70e-03 | 7.63e-02 | 8.2957e+00\n",
      "   39900 | 1.69e-03 | 7.63e-02 | 8.3131e+00\n",
      "   40000 | 1.69e-03 | 7.63e-02 | 8.3307e+00\n",
      "   40100 | 1.69e-03 | 7.60e-02 | 8.3481e+00\n",
      "   40200 | 1.68e-03 | 7.60e-02 | 8.3654e+00\n",
      "   40300 | 1.68e-03 | 7.60e-02 | 8.3825e+00\n",
      "   40400 | 1.68e-03 | 7.60e-02 | 8.3995e+00\n",
      "   40500 | 1.68e-03 | 7.58e-02 | 8.4169e+00\n",
      "   40600 | 1.68e-03 | 7.58e-02 | 8.4342e+00\n",
      "   40700 | 1.68e-03 | 7.58e-02 | 8.4532e+00\n",
      "   40800 | 1.68e-03 | 7.58e-02 | 8.4724e+00\n",
      "   40900 | 1.68e-03 | 7.58e-02 | 8.4899e+00\n",
      "   41000 | 1.67e-03 | 7.56e-02 | 8.5069e+00\n",
      "   41100 | 1.67e-03 | 7.56e-02 | 8.5246e+00\n",
      "   41200 | 1.67e-03 | 7.56e-02 | 8.5430e+00\n",
      "   41300 | 1.67e-03 | 7.54e-02 | 8.5598e+00\n",
      "   41400 | 1.67e-03 | 7.54e-02 | 8.5785e+00\n",
      "   41500 | 1.67e-03 | 7.54e-02 | 8.5953e+00\n",
      "   41600 | 1.66e-03 | 7.52e-02 | 8.6123e+00\n",
      "   41700 | 1.66e-03 | 7.52e-02 | 8.6294e+00\n",
      "   41800 | 1.66e-03 | 7.51e-02 | 8.6470e+00\n",
      "   41900 | 1.65e-03 | 7.51e-02 | 8.6656e+00\n",
      "   42000 | 1.65e-03 | 7.49e-02 | 8.6852e+00\n",
      "   42100 | 1.65e-03 | 7.47e-02 | 8.7105e+00\n",
      "   42200 | 1.65e-03 | 7.47e-02 | 8.7357e+00\n",
      "   42300 | 1.65e-03 | 7.47e-02 | 8.7562e+00\n",
      "   42400 | 1.65e-03 | 7.47e-02 | 8.7735e+00\n",
      "   42500 | 1.64e-03 | 7.45e-02 | 8.7902e+00\n",
      "   42600 | 1.64e-03 | 7.45e-02 | 8.8069e+00\n",
      "   42700 | 1.64e-03 | 7.45e-02 | 8.8236e+00\n",
      "   42800 | 1.64e-03 | 7.45e-02 | 8.8403e+00\n",
      "   42900 | 1.64e-03 | 7.43e-02 | 8.8570e+00\n",
      "   43000 | 1.63e-03 | 7.42e-02 | 8.8737e+00\n",
      "   43100 | 1.63e-03 | 7.41e-02 | 8.8915e+00\n",
      "   43200 | 1.63e-03 | 7.41e-02 | 8.9085e+00\n",
      "   43300 | 1.63e-03 | 7.41e-02 | 8.9252e+00\n",
      "   43400 | 1.63e-03 | 7.41e-02 | 8.9419e+00\n",
      "   43500 | 1.63e-03 | 7.41e-02 | 8.9586e+00\n",
      "   43600 | 1.62e-03 | 7.39e-02 | 8.9754e+00\n",
      "   43700 | 1.62e-03 | 7.39e-02 | 8.9921e+00\n",
      "   43800 | 1.62e-03 | 7.39e-02 | 9.0089e+00\n",
      "   43900 | 1.62e-03 | 7.38e-02 | 9.0275e+00\n",
      "   44000 | 1.62e-03 | 7.38e-02 | 9.0470e+00\n",
      "   44100 | 1.62e-03 | 7.38e-02 | 9.0643e+00\n",
      "   44200 | 1.62e-03 | 7.38e-02 | 9.0815e+00\n",
      "   44300 | 1.62e-03 | 7.38e-02 | 9.1000e+00\n",
      "   44400 | 1.62e-03 | 7.38e-02 | 9.1170e+00\n",
      "   44500 | 1.61e-03 | 7.36e-02 | 9.1338e+00\n",
      "   44600 | 1.61e-03 | 7.36e-02 | 9.1506e+00\n",
      "   44700 | 1.60e-03 | 7.33e-02 | 9.1674e+00\n",
      "   44800 | 1.60e-03 | 7.33e-02 | 9.1844e+00\n",
      "   44900 | 1.60e-03 | 7.33e-02 | 9.2015e+00\n",
      "   45000 | 1.60e-03 | 7.34e-02 | 9.2187e+00\n",
      "   45100 | 1.60e-03 | 7.34e-02 | 9.2359e+00\n",
      "   45200 | 1.60e-03 | 7.33e-02 | 9.2541e+00\n",
      "   45300 | 1.60e-03 | 7.33e-02 | 9.2715e+00\n",
      "   45400 | 1.60e-03 | 7.33e-02 | 9.2886e+00\n",
      "   45500 | 1.60e-03 | 7.32e-02 | 9.3066e+00\n",
      "   45600 | 1.59e-03 | 7.30e-02 | 9.3255e+00\n",
      "   45700 | 1.59e-03 | 7.30e-02 | 9.3454e+00\n",
      "   45800 | 1.59e-03 | 7.30e-02 | 9.3730e+00\n",
      "   45900 | 1.59e-03 | 7.28e-02 | 9.3987e+00\n",
      "   46000 | 1.58e-03 | 7.28e-02 | 9.4178e+00\n",
      "   46100 | 1.58e-03 | 7.27e-02 | 9.4382e+00\n",
      "   46200 | 1.58e-03 | 7.27e-02 | 9.4580e+00\n",
      "   46300 | 1.58e-03 | 7.26e-02 | 9.4770e+00\n",
      "   46400 | 1.58e-03 | 7.26e-02 | 9.4976e+00\n",
      "   46500 | 1.58e-03 | 7.26e-02 | 9.5194e+00\n",
      "   46600 | 1.58e-03 | 7.26e-02 | 9.5394e+00\n",
      "   46700 | 1.58e-03 | 7.26e-02 | 9.5595e+00\n",
      "   46800 | 1.58e-03 | 7.26e-02 | 9.5805e+00\n",
      "   46900 | 1.57e-03 | 7.25e-02 | 9.5998e+00\n",
      "   47000 | 1.57e-03 | 7.24e-02 | 9.6260e+00\n",
      "   47100 | 1.57e-03 | 7.24e-02 | 9.6472e+00\n",
      "   47200 | 1.57e-03 | 7.24e-02 | 9.6670e+00\n",
      "   47300 | 1.57e-03 | 7.23e-02 | 9.6877e+00\n",
      "   47400 | 1.57e-03 | 7.23e-02 | 9.7089e+00\n",
      "   47500 | 1.57e-03 | 7.21e-02 | 9.7337e+00\n",
      "   47600 | 1.56e-03 | 7.20e-02 | 9.7626e+00\n",
      "   47700 | 1.56e-03 | 7.19e-02 | 9.7908e+00\n",
      "   47800 | 1.56e-03 | 7.19e-02 | 9.8173e+00\n",
      "   47900 | 1.56e-03 | 7.18e-02 | 9.8451e+00\n",
      "   48000 | 1.56e-03 | 7.19e-02 | 9.8672e+00\n",
      "   48100 | 1.55e-03 | 7.17e-02 | 9.8877e+00\n",
      "   48200 | 1.55e-03 | 7.15e-02 | 9.9065e+00\n",
      "   48300 | 1.55e-03 | 7.15e-02 | 9.9264e+00\n",
      "   48400 | 1.54e-03 | 7.13e-02 | 9.9506e+00\n",
      "   48500 | 1.54e-03 | 7.12e-02 | 9.9793e+00\n",
      "   48600 | 1.54e-03 | 7.11e-02 | 1.0006e+01\n",
      "   48700 | 1.54e-03 | 7.11e-02 | 1.0027e+01\n",
      "   48800 | 1.54e-03 | 7.11e-02 | 1.0046e+01\n",
      "   48900 | 1.54e-03 | 7.10e-02 | 1.0065e+01\n",
      "   49000 | 1.54e-03 | 7.10e-02 | 1.0084e+01\n",
      "   49100 | 1.54e-03 | 7.10e-02 | 1.0103e+01\n",
      "   49200 | 1.53e-03 | 7.10e-02 | 1.0126e+01\n",
      "   49300 | 1.53e-03 | 7.09e-02 | 1.0145e+01\n",
      "   49400 | 1.53e-03 | 7.08e-02 | 1.0165e+01\n",
      "   49500 | 1.53e-03 | 7.08e-02 | 1.0184e+01\n",
      "   49600 | 1.52e-03 | 7.04e-02 | 1.0208e+01\n",
      "   49700 | 1.52e-03 | 7.04e-02 | 1.0227e+01\n",
      "   49800 | 1.52e-03 | 7.04e-02 | 1.0245e+01\n",
      "   49900 | 1.52e-03 | 7.04e-02 | 1.0270e+01\n",
      "   50000 | 1.51e-03 | 7.01e-02 | 1.0299e+01\n",
      "   50100 | 1.51e-03 | 6.99e-02 | 1.0324e+01\n",
      "   50200 | 1.50e-03 | 6.98e-02 | 1.0347e+01\n",
      "   50300 | 1.50e-03 | 6.95e-02 | 1.0364e+01\n",
      "   50400 | 1.50e-03 | 6.95e-02 | 1.0383e+01\n",
      "   50500 | 1.50e-03 | 6.94e-02 | 1.0400e+01\n",
      "   50600 | 1.49e-03 | 6.92e-02 | 1.0422e+01\n",
      "   50700 | 1.49e-03 | 6.91e-02 | 1.0442e+01\n",
      "   50800 | 1.48e-03 | 6.90e-02 | 1.0462e+01\n",
      "   50900 | 1.48e-03 | 6.90e-02 | 1.0481e+01\n",
      "   51000 | 1.48e-03 | 6.90e-02 | 1.0500e+01\n",
      "   51100 | 1.48e-03 | 6.90e-02 | 1.0521e+01\n",
      "   51200 | 1.48e-03 | 6.90e-02 | 1.0541e+01\n",
      "   51300 | 1.47e-03 | 6.88e-02 | 1.0561e+01\n",
      "   51400 | 1.47e-03 | 6.88e-02 | 1.0581e+01\n",
      "   51500 | 1.47e-03 | 6.88e-02 | 1.0601e+01\n",
      "   51600 | 1.47e-03 | 6.88e-02 | 1.0629e+01\n",
      "   51700 | 1.47e-03 | 6.86e-02 | 1.0649e+01\n",
      "   51800 | 1.47e-03 | 6.86e-02 | 1.0667e+01\n",
      "   51900 | 1.47e-03 | 6.86e-02 | 1.0685e+01\n",
      "   52000 | 1.46e-03 | 6.84e-02 | 1.0703e+01\n",
      "   52100 | 1.46e-03 | 6.83e-02 | 1.0720e+01\n",
      "   52200 | 1.46e-03 | 6.82e-02 | 1.0737e+01\n",
      "   52300 | 1.46e-03 | 6.82e-02 | 1.0754e+01\n",
      "   52400 | 1.45e-03 | 6.82e-02 | 1.0771e+01\n",
      "   52500 | 1.45e-03 | 6.82e-02 | 1.0789e+01\n",
      "   52600 | 1.45e-03 | 6.82e-02 | 1.0808e+01\n",
      "   52700 | 1.44e-03 | 6.80e-02 | 1.0825e+01\n",
      "   52800 | 1.44e-03 | 6.80e-02 | 1.0844e+01\n",
      "   52900 | 1.44e-03 | 6.80e-02 | 1.0862e+01\n",
      "   53000 | 1.44e-03 | 6.79e-02 | 1.0880e+01\n",
      "   53100 | 1.44e-03 | 6.77e-02 | 1.0898e+01\n",
      "   53200 | 1.44e-03 | 6.77e-02 | 1.0915e+01\n",
      "   53300 | 1.44e-03 | 6.77e-02 | 1.0933e+01\n",
      "   53400 | 1.43e-03 | 6.77e-02 | 1.0950e+01\n",
      "   53500 | 1.43e-03 | 6.75e-02 | 1.0969e+01\n",
      "   53600 | 1.43e-03 | 6.75e-02 | 1.0989e+01\n",
      "   53700 | 1.43e-03 | 6.75e-02 | 1.1006e+01\n",
      "   53800 | 1.43e-03 | 6.74e-02 | 1.1024e+01\n",
      "   53900 | 1.43e-03 | 6.75e-02 | 1.1042e+01\n",
      "   54000 | 1.42e-03 | 6.71e-02 | 1.1061e+01\n",
      "   54100 | 1.41e-03 | 6.69e-02 | 1.1078e+01\n",
      "   54200 | 1.41e-03 | 6.69e-02 | 1.1096e+01\n",
      "   54300 | 1.41e-03 | 6.69e-02 | 1.1114e+01\n",
      "   54400 | 1.41e-03 | 6.69e-02 | 1.1131e+01\n",
      "   54500 | 1.41e-03 | 6.69e-02 | 1.1148e+01\n",
      "   54600 | 1.41e-03 | 6.67e-02 | 1.1165e+01\n",
      "   54700 | 1.41e-03 | 6.67e-02 | 1.1182e+01\n",
      "   54800 | 1.40e-03 | 6.66e-02 | 1.1199e+01\n",
      "   54900 | 1.40e-03 | 6.66e-02 | 1.1217e+01\n",
      "   55000 | 1.40e-03 | 6.64e-02 | 1.1235e+01\n",
      "   55100 | 1.40e-03 | 6.64e-02 | 1.1254e+01\n",
      "   55200 | 1.40e-03 | 6.64e-02 | 1.1271e+01\n",
      "   55300 | 1.40e-03 | 6.62e-02 | 1.1288e+01\n",
      "   55400 | 1.39e-03 | 6.61e-02 | 1.1314e+01\n",
      "   55500 | 1.39e-03 | 6.59e-02 | 1.1341e+01\n",
      "   55600 | 1.38e-03 | 6.56e-02 | 1.1364e+01\n",
      "   55700 | 1.38e-03 | 6.56e-02 | 1.1381e+01\n",
      "   55800 | 1.38e-03 | 6.56e-02 | 1.1398e+01\n",
      "   55900 | 1.38e-03 | 6.54e-02 | 1.1414e+01\n",
      "   56000 | 1.38e-03 | 6.54e-02 | 1.1432e+01\n",
      "   56100 | 1.37e-03 | 6.54e-02 | 1.1451e+01\n",
      "   56200 | 1.37e-03 | 6.54e-02 | 1.1470e+01\n",
      "   56300 | 1.37e-03 | 6.53e-02 | 1.1488e+01\n",
      "   56400 | 1.37e-03 | 6.53e-02 | 1.1505e+01\n",
      "   56500 | 1.37e-03 | 6.53e-02 | 1.1522e+01\n",
      "   56600 | 1.37e-03 | 6.53e-02 | 1.1539e+01\n",
      "   56700 | 1.36e-03 | 6.53e-02 | 1.1556e+01\n",
      "   56800 | 1.36e-03 | 6.51e-02 | 1.1572e+01\n",
      "   56900 | 1.36e-03 | 6.51e-02 | 1.1589e+01\n",
      "   57000 | 1.35e-03 | 6.49e-02 | 1.1606e+01\n",
      "   57100 | 1.35e-03 | 6.49e-02 | 1.1622e+01\n",
      "   57200 | 1.35e-03 | 6.46e-02 | 1.1639e+01\n"
     ]
    },
    {
     "name": "stdout",
     "output_type": "stream",
     "text": [
      "   57300 | 1.34e-03 | 6.43e-02 | 1.1659e+01\n",
      "   57400 | 1.34e-03 | 6.43e-02 | 1.1685e+01\n",
      "   57500 | 1.33e-03 | 6.41e-02 | 1.1706e+01\n",
      "   57600 | 1.33e-03 | 6.41e-02 | 1.1723e+01\n",
      "   57700 | 1.33e-03 | 6.41e-02 | 1.1740e+01\n",
      "   57800 | 1.33e-03 | 6.41e-02 | 1.1757e+01\n",
      "   57900 | 1.33e-03 | 6.41e-02 | 1.1774e+01\n",
      "   58000 | 1.33e-03 | 6.41e-02 | 1.1791e+01\n",
      "   58100 | 1.33e-03 | 6.41e-02 | 1.1810e+01\n",
      "   58200 | 1.33e-03 | 6.40e-02 | 1.1827e+01\n",
      "   58300 | 1.32e-03 | 6.35e-02 | 1.1848e+01\n",
      "   58400 | 1.32e-03 | 6.35e-02 | 1.1866e+01\n",
      "   58500 | 1.32e-03 | 6.35e-02 | 1.1884e+01\n",
      "   58600 | 1.32e-03 | 6.35e-02 | 1.1903e+01\n",
      "   58700 | 1.32e-03 | 6.35e-02 | 1.1919e+01\n",
      "   58800 | 1.31e-03 | 6.34e-02 | 1.1936e+01\n",
      "   58900 | 1.31e-03 | 6.33e-02 | 1.1954e+01\n",
      "   59000 | 1.31e-03 | 6.33e-02 | 1.1970e+01\n",
      "   59100 | 1.31e-03 | 6.33e-02 | 1.1987e+01\n",
      "   59200 | 1.30e-03 | 6.32e-02 | 1.2004e+01\n",
      "   59300 | 1.30e-03 | 6.32e-02 | 1.2021e+01\n",
      "   59400 | 1.30e-03 | 6.32e-02 | 1.2037e+01\n",
      "   59500 | 1.30e-03 | 6.29e-02 | 1.2054e+01\n",
      "   59600 | 1.30e-03 | 6.29e-02 | 1.2072e+01\n",
      "   59700 | 1.29e-03 | 6.28e-02 | 1.2091e+01\n",
      "   59800 | 1.29e-03 | 6.28e-02 | 1.2108e+01\n",
      "   59900 | 1.29e-03 | 6.29e-02 | 1.2125e+01\n",
      "   60000 | 1.29e-03 | 6.27e-02 | 1.2141e+01\n",
      "   60100 | 1.29e-03 | 6.27e-02 | 1.2159e+01\n",
      "   60200 | 1.28e-03 | 6.27e-02 | 1.2175e+01\n",
      "   60300 | 1.28e-03 | 6.24e-02 | 1.2192e+01\n",
      "   60400 | 1.27e-03 | 6.23e-02 | 1.2209e+01\n",
      "   60500 | 1.27e-03 | 6.20e-02 | 1.2226e+01\n",
      "   60600 | 1.26e-03 | 6.19e-02 | 1.2242e+01\n",
      "   60700 | 1.26e-03 | 6.18e-02 | 1.2260e+01\n",
      "   60800 | 1.26e-03 | 6.18e-02 | 1.2287e+01\n",
      "   60900 | 1.25e-03 | 6.16e-02 | 1.2313e+01\n",
      "   61000 | 1.25e-03 | 6.14e-02 | 1.2331e+01\n",
      "   61100 | 1.25e-03 | 6.14e-02 | 1.2348e+01\n",
      "   61200 | 1.24e-03 | 6.12e-02 | 1.2366e+01\n",
      "   61300 | 1.24e-03 | 6.12e-02 | 1.2385e+01\n",
      "   61400 | 1.24e-03 | 6.11e-02 | 1.2407e+01\n",
      "   61500 | 1.24e-03 | 6.11e-02 | 1.2426e+01\n",
      "   61600 | 1.24e-03 | 6.11e-02 | 1.2444e+01\n",
      "   61700 | 1.24e-03 | 6.10e-02 | 1.2461e+01\n",
      "   61800 | 1.23e-03 | 6.10e-02 | 1.2479e+01\n",
      "   61900 | 1.23e-03 | 6.10e-02 | 1.2497e+01\n",
      "   62000 | 1.23e-03 | 6.10e-02 | 1.2515e+01\n",
      "   62100 | 1.23e-03 | 6.10e-02 | 1.2532e+01\n",
      "   62200 | 1.23e-03 | 6.11e-02 | 1.2549e+01\n",
      "   62300 | 1.23e-03 | 6.09e-02 | 1.2567e+01\n",
      "   62400 | 1.23e-03 | 6.09e-02 | 1.2584e+01\n",
      "   62500 | 1.22e-03 | 6.07e-02 | 1.2600e+01\n",
      "   62600 | 1.22e-03 | 6.07e-02 | 1.2618e+01\n",
      "   62700 | 1.22e-03 | 6.04e-02 | 1.2635e+01\n",
      "   62800 | 1.22e-03 | 6.04e-02 | 1.2651e+01\n",
      "   62900 | 1.22e-03 | 6.04e-02 | 1.2674e+01\n",
      "   63000 | 1.22e-03 | 6.04e-02 | 1.2692e+01\n",
      "   63100 | 1.22e-03 | 6.04e-02 | 1.2711e+01\n",
      "   63200 | 1.21e-03 | 6.02e-02 | 1.2732e+01\n",
      "   63300 | 1.21e-03 | 6.00e-02 | 1.2750e+01\n",
      "   63400 | 1.21e-03 | 6.00e-02 | 1.2767e+01\n",
      "   63500 | 1.21e-03 | 6.00e-02 | 1.2784e+01\n",
      "   63600 | 1.21e-03 | 6.00e-02 | 1.2801e+01\n",
      "   63700 | 1.21e-03 | 6.00e-02 | 1.2819e+01\n",
      "   63800 | 1.20e-03 | 6.00e-02 | 1.2836e+01\n",
      "   63900 | 1.20e-03 | 6.00e-02 | 1.2853e+01\n",
      "   64000 | 1.20e-03 | 5.99e-02 | 1.2870e+01\n",
      "   64100 | 1.19e-03 | 5.98e-02 | 1.2888e+01\n",
      "   64200 | 1.19e-03 | 5.98e-02 | 1.2905e+01\n",
      "   64300 | 1.19e-03 | 5.98e-02 | 1.2924e+01\n",
      "   64400 | 1.18e-03 | 5.94e-02 | 1.2944e+01\n",
      "   64500 | 1.18e-03 | 5.93e-02 | 1.2962e+01\n",
      "   64600 | 1.18e-03 | 5.92e-02 | 1.2979e+01\n",
      "   64700 | 1.18e-03 | 5.93e-02 | 1.2996e+01\n",
      "   64800 | 1.17e-03 | 5.91e-02 | 1.3014e+01\n",
      "   64900 | 1.17e-03 | 5.91e-02 | 1.3031e+01\n",
      "   65000 | 1.17e-03 | 5.91e-02 | 1.3048e+01\n",
      "   65100 | 1.17e-03 | 5.91e-02 | 1.3065e+01\n",
      "   65200 | 1.17e-03 | 5.91e-02 | 1.3082e+01\n",
      "   65300 | 1.17e-03 | 5.89e-02 | 1.3099e+01\n",
      "   65400 | 1.17e-03 | 5.89e-02 | 1.3116e+01\n",
      "   65500 | 1.17e-03 | 5.89e-02 | 1.3134e+01\n",
      "   65600 | 1.17e-03 | 5.89e-02 | 1.3152e+01\n",
      "   65700 | 1.16e-03 | 5.88e-02 | 1.3172e+01\n",
      "   65800 | 1.16e-03 | 5.89e-02 | 1.3190e+01\n",
      "   65900 | 1.16e-03 | 5.89e-02 | 1.3208e+01\n",
      "   66000 | 1.16e-03 | 5.88e-02 | 1.3225e+01\n",
      "   66100 | 1.16e-03 | 5.86e-02 | 1.3243e+01\n",
      "   66200 | 1.16e-03 | 5.86e-02 | 1.3261e+01\n",
      "   66300 | 1.15e-03 | 5.84e-02 | 1.3281e+01\n",
      "   66400 | 1.14e-03 | 5.79e-02 | 1.3301e+01\n",
      "   66500 | 1.14e-03 | 5.80e-02 | 1.3319e+01\n",
      "   66600 | 1.14e-03 | 5.80e-02 | 1.3339e+01\n",
      "   66700 | 1.14e-03 | 5.79e-02 | 1.3360e+01\n",
      "   66800 | 1.14e-03 | 5.80e-02 | 1.3379e+01\n",
      "   66900 | 1.14e-03 | 5.79e-02 | 1.3398e+01\n",
      "   67000 | 1.14e-03 | 5.79e-02 | 1.3417e+01\n",
      "   67100 | 1.14e-03 | 5.79e-02 | 1.3437e+01\n",
      "   67200 | 1.14e-03 | 5.79e-02 | 1.3458e+01\n",
      "   67300 | 1.13e-03 | 5.80e-02 | 1.3477e+01\n",
      "   67400 | 1.13e-03 | 5.78e-02 | 1.3495e+01\n",
      "   67500 | 1.13e-03 | 5.78e-02 | 1.3520e+01\n",
      "   67600 | 1.13e-03 | 5.77e-02 | 1.3539e+01\n",
      "   67700 | 1.13e-03 | 5.77e-02 | 1.3557e+01\n",
      "   67800 | 1.12e-03 | 5.77e-02 | 1.3578e+01\n",
      "   67900 | 1.12e-03 | 5.77e-02 | 1.3597e+01\n",
      "   68000 | 1.12e-03 | 5.77e-02 | 1.3615e+01\n",
      "   68100 | 1.12e-03 | 5.75e-02 | 1.3632e+01\n",
      "   68200 | 1.12e-03 | 5.75e-02 | 1.3649e+01\n",
      "   68300 | 1.12e-03 | 5.75e-02 | 1.3667e+01\n",
      "   68400 | 1.12e-03 | 5.75e-02 | 1.3684e+01\n",
      "   68500 | 1.12e-03 | 5.75e-02 | 1.3700e+01\n",
      "   68600 | 1.11e-03 | 5.74e-02 | 1.3721e+01\n",
      "   68700 | 1.11e-03 | 5.72e-02 | 1.3740e+01\n",
      "   68800 | 1.11e-03 | 5.72e-02 | 1.3760e+01\n",
      "   68900 | 1.10e-03 | 5.71e-02 | 1.3780e+01\n",
      "   69000 | 1.10e-03 | 5.71e-02 | 1.3800e+01\n",
      "   69100 | 1.10e-03 | 5.69e-02 | 1.3820e+01\n",
      "   69200 | 1.10e-03 | 5.69e-02 | 1.3841e+01\n",
      "   69300 | 1.10e-03 | 5.67e-02 | 1.3861e+01\n",
      "   69400 | 1.09e-03 | 5.65e-02 | 1.3880e+01\n",
      "   69500 | 1.09e-03 | 5.65e-02 | 1.3899e+01\n",
      "   69600 | 1.09e-03 | 5.65e-02 | 1.3919e+01\n",
      "   69700 | 1.08e-03 | 5.65e-02 | 1.3939e+01\n",
      "   69800 | 1.08e-03 | 5.64e-02 | 1.3959e+01\n",
      "   69900 | 1.07e-03 | 5.63e-02 | 1.3980e+01\n",
      "   70000 | 1.07e-03 | 5.63e-02 | 1.3999e+01\n",
      "   70100 | 1.07e-03 | 5.61e-02 | 1.4016e+01\n",
      "   70200 | 1.07e-03 | 5.61e-02 | 1.4034e+01\n",
      "   70300 | 1.07e-03 | 5.61e-02 | 1.4051e+01\n",
      "   70400 | 1.06e-03 | 5.59e-02 | 1.4068e+01\n",
      "   70500 | 1.06e-03 | 5.59e-02 | 1.4085e+01\n",
      "   70600 | 1.06e-03 | 5.59e-02 | 1.4103e+01\n",
      "   70700 | 1.06e-03 | 5.59e-02 | 1.4121e+01\n",
      "   70800 | 1.06e-03 | 5.58e-02 | 1.4139e+01\n",
      "   70900 | 1.05e-03 | 5.57e-02 | 1.4164e+01\n",
      "   71000 | 1.05e-03 | 5.55e-02 | 1.4184e+01\n",
      "   71100 | 1.05e-03 | 5.53e-02 | 1.4203e+01\n",
      "   71200 | 1.04e-03 | 5.53e-02 | 1.4220e+01\n",
      "   71300 | 1.03e-03 | 5.50e-02 | 1.4237e+01\n",
      "   71400 | 1.03e-03 | 5.49e-02 | 1.4254e+01\n",
      "   71500 | 1.03e-03 | 5.46e-02 | 1.4271e+01\n",
      "   71600 | 1.02e-03 | 5.45e-02 | 1.4288e+01\n",
      "   71700 | 1.02e-03 | 5.45e-02 | 1.4305e+01\n",
      "   71800 | 1.02e-03 | 5.45e-02 | 1.4321e+01\n",
      "   71900 | 1.02e-03 | 5.45e-02 | 1.4338e+01\n",
      "   72000 | 1.02e-03 | 5.43e-02 | 1.4355e+01\n",
      "   72100 | 1.01e-03 | 5.43e-02 | 1.4372e+01\n",
      "   72200 | 1.01e-03 | 5.40e-02 | 1.4391e+01\n",
      "   72300 | 1.01e-03 | 5.38e-02 | 1.4416e+01\n",
      "   72400 | 1.00e-03 | 5.38e-02 | 1.4439e+01\n",
      "   72500 | 9.99e-04 | 5.38e-02 | 1.4457e+01\n",
      "   72600 | 9.97e-04 | 5.38e-02 | 1.4475e+01\n",
      "   72700 | 9.93e-04 | 5.36e-02 | 1.4492e+01\n",
      "   72800 | 9.87e-04 | 5.33e-02 | 1.4509e+01\n",
      "   72900 | 9.86e-04 | 5.33e-02 | 1.4526e+01\n",
      "   73000 | 9.86e-04 | 5.33e-02 | 1.4543e+01\n",
      "   73100 | 9.84e-04 | 5.33e-02 | 1.4560e+01\n",
      "   73200 | 9.83e-04 | 5.33e-02 | 1.4580e+01\n",
      "   73300 | 9.83e-04 | 5.33e-02 | 1.4598e+01\n",
      "   73400 | 9.80e-04 | 5.32e-02 | 1.4615e+01\n",
      "   73500 | 9.80e-04 | 5.32e-02 | 1.4636e+01\n",
      "   73600 | 9.80e-04 | 5.33e-02 | 1.4653e+01\n",
      "   73700 | 9.77e-04 | 5.32e-02 | 1.4670e+01\n",
      "   73800 | 9.71e-04 | 5.31e-02 | 1.4688e+01\n",
      "   73900 | 9.71e-04 | 5.31e-02 | 1.4705e+01\n",
      "   74000 | 9.70e-04 | 5.31e-02 | 1.4722e+01\n",
      "   74100 | 9.70e-04 | 5.31e-02 | 1.4739e+01\n",
      "   74200 | 9.70e-04 | 5.31e-02 | 1.4764e+01\n",
      "   74300 | 9.70e-04 | 5.31e-02 | 1.4783e+01\n",
      "   74400 | 9.69e-04 | 5.30e-02 | 1.4801e+01\n",
      "   74500 | 9.69e-04 | 5.31e-02 | 1.4827e+01\n",
      "   74600 | 9.69e-04 | 5.30e-02 | 1.4846e+01\n",
      "   74700 | 9.66e-04 | 5.30e-02 | 1.4864e+01\n",
      "   74800 | 9.66e-04 | 5.31e-02 | 1.4882e+01\n",
      "   74900 | 9.66e-04 | 5.31e-02 | 1.4899e+01\n",
      "   75000 | 9.65e-04 | 5.31e-02 | 1.4916e+01\n",
      "   75100 | 9.64e-04 | 5.31e-02 | 1.4933e+01\n",
      "   75200 | 9.60e-04 | 5.30e-02 | 1.4950e+01\n",
      "   75300 | 9.59e-04 | 5.31e-02 | 1.4968e+01\n",
      "   75400 | 9.59e-04 | 5.31e-02 | 1.4986e+01\n",
      "   75500 | 9.54e-04 | 5.29e-02 | 1.5003e+01\n",
      "   75600 | 9.54e-04 | 5.29e-02 | 1.5021e+01\n",
      "   75700 | 9.54e-04 | 5.29e-02 | 1.5040e+01\n",
      "   75800 | 9.54e-04 | 5.29e-02 | 1.5065e+01\n",
      "   75900 | 9.54e-04 | 5.29e-02 | 1.5089e+01\n",
      "   76000 | 9.45e-04 | 5.25e-02 | 1.5107e+01\n",
      "   76100 | 9.41e-04 | 5.24e-02 | 1.5124e+01\n",
      "   76200 | 9.37e-04 | 5.23e-02 | 1.5141e+01\n",
      "   76300 | 9.37e-04 | 5.23e-02 | 1.5161e+01\n",
      "   76400 | 9.37e-04 | 5.23e-02 | 1.5178e+01\n",
      "   76500 | 9.35e-04 | 5.23e-02 | 1.5194e+01\n"
     ]
    },
    {
     "name": "stdout",
     "output_type": "stream",
     "text": [
      "   76600 | 9.34e-04 | 5.23e-02 | 1.5212e+01\n",
      "   76700 | 9.33e-04 | 5.23e-02 | 1.5229e+01\n",
      "   76800 | 9.33e-04 | 5.23e-02 | 1.5245e+01\n",
      "   76900 | 9.27e-04 | 5.21e-02 | 1.5265e+01\n",
      "   77000 | 9.27e-04 | 5.21e-02 | 1.5284e+01\n",
      "   77100 | 9.27e-04 | 5.21e-02 | 1.5301e+01\n",
      "   77200 | 9.26e-04 | 5.21e-02 | 1.5319e+01\n",
      "   77300 | 9.25e-04 | 5.21e-02 | 1.5336e+01\n",
      "   77400 | 9.18e-04 | 5.20e-02 | 1.5355e+01\n",
      "   77500 | 9.08e-04 | 5.16e-02 | 1.5375e+01\n",
      "   77600 | 9.06e-04 | 5.16e-02 | 1.5393e+01\n",
      "   77700 | 9.06e-04 | 5.16e-02 | 1.5411e+01\n",
      "   77800 | 9.06e-04 | 5.16e-02 | 1.5429e+01\n",
      "   77900 | 9.06e-04 | 5.16e-02 | 1.5448e+01\n",
      "   78000 | 9.06e-04 | 5.16e-02 | 1.5466e+01\n",
      "   78100 | 8.99e-04 | 5.15e-02 | 1.5486e+01\n",
      "   78200 | 8.97e-04 | 5.14e-02 | 1.5508e+01\n",
      "   78300 | 8.96e-04 | 5.15e-02 | 1.5529e+01\n",
      "   78400 | 8.89e-04 | 5.13e-02 | 1.5554e+01\n",
      "   78500 | 8.89e-04 | 5.13e-02 | 1.5579e+01\n",
      "   78600 | 8.89e-04 | 5.13e-02 | 1.5604e+01\n",
      "   78700 | 8.87e-04 | 5.13e-02 | 1.5621e+01\n",
      "   78800 | 8.85e-04 | 5.13e-02 | 1.5639e+01\n",
      "   78900 | 8.84e-04 | 5.14e-02 | 1.5656e+01\n",
      "   79000 | 8.79e-04 | 5.12e-02 | 1.5673e+01\n",
      "   79100 | 8.78e-04 | 5.12e-02 | 1.5690e+01\n",
      "   79200 | 8.78e-04 | 5.12e-02 | 1.5707e+01\n",
      "   79300 | 8.75e-04 | 5.12e-02 | 1.5726e+01\n",
      "   79400 | 8.75e-04 | 5.12e-02 | 1.5743e+01\n",
      "   79500 | 8.75e-04 | 5.12e-02 | 1.5761e+01\n",
      "   79600 | 8.66e-04 | 5.08e-02 | 1.5778e+01\n",
      "   79700 | 8.62e-04 | 5.07e-02 | 1.5795e+01\n",
      "   79800 | 8.58e-04 | 5.05e-02 | 1.5812e+01\n",
      "   79900 | 8.55e-04 | 5.04e-02 | 1.5829e+01\n",
      "   80000 | 8.51e-04 | 5.02e-02 | 1.5847e+01\n",
      "   80100 | 8.49e-04 | 5.02e-02 | 1.5864e+01\n",
      "   80200 | 8.49e-04 | 5.02e-02 | 1.5880e+01\n",
      "   80300 | 8.49e-04 | 5.02e-02 | 1.5899e+01\n",
      "   80400 | 8.46e-04 | 5.02e-02 | 1.5916e+01\n",
      "   80500 | 8.41e-04 | 5.01e-02 | 1.5933e+01\n",
      "   80600 | 8.39e-04 | 5.01e-02 | 1.5950e+01\n",
      "   80700 | 8.39e-04 | 5.01e-02 | 1.5969e+01\n",
      "   80800 | 8.32e-04 | 4.99e-02 | 1.5986e+01\n",
      "   80900 | 8.25e-04 | 4.96e-02 | 1.6003e+01\n",
      "   81000 | 8.25e-04 | 4.96e-02 | 1.6020e+01\n",
      "   81100 | 8.25e-04 | 4.96e-02 | 1.6037e+01\n",
      "   81200 | 8.21e-04 | 4.95e-02 | 1.6055e+01\n",
      "   81300 | 8.21e-04 | 4.95e-02 | 1.6072e+01\n",
      "   81400 | 8.12e-04 | 4.92e-02 | 1.6089e+01\n",
      "   81500 | 8.07e-04 | 4.90e-02 | 1.6107e+01\n",
      "   81600 | 8.05e-04 | 4.90e-02 | 1.6123e+01\n",
      "   81700 | 8.05e-04 | 4.90e-02 | 1.6140e+01\n",
      "   81800 | 7.98e-04 | 4.88e-02 | 1.6157e+01\n",
      "   81900 | 7.97e-04 | 4.88e-02 | 1.6173e+01\n",
      "   82000 | 7.96e-04 | 4.88e-02 | 1.6190e+01\n",
      "   82100 | 7.92e-04 | 4.87e-02 | 1.6207e+01\n",
      "   82200 | 7.88e-04 | 4.87e-02 | 1.6224e+01\n",
      "   82300 | 7.85e-04 | 4.85e-02 | 1.6240e+01\n",
      "   82400 | 7.84e-04 | 4.85e-02 | 1.6260e+01\n",
      "   82500 | 7.80e-04 | 4.85e-02 | 1.6277e+01\n",
      "   82600 | 7.80e-04 | 4.85e-02 | 1.6295e+01\n",
      "   82700 | 7.80e-04 | 4.85e-02 | 1.6312e+01\n",
      "   82800 | 7.80e-04 | 4.85e-02 | 1.6330e+01\n",
      "   82900 | 7.80e-04 | 4.85e-02 | 1.6348e+01\n",
      "   83000 | 7.78e-04 | 4.85e-02 | 1.6365e+01\n",
      "   83100 | 7.77e-04 | 4.85e-02 | 1.6390e+01\n",
      "   83200 | 7.76e-04 | 4.85e-02 | 1.6414e+01\n",
      "   83300 | 7.74e-04 | 4.85e-02 | 1.6432e+01\n",
      "   83400 | 7.67e-04 | 4.84e-02 | 1.6451e+01\n",
      "   83500 | 7.67e-04 | 4.84e-02 | 1.6477e+01\n",
      "   83600 | 7.67e-04 | 4.84e-02 | 1.6503e+01\n",
      "   83700 | 7.62e-04 | 4.82e-02 | 1.6528e+01\n",
      "   83800 | 7.61e-04 | 4.82e-02 | 1.6554e+01\n",
      "   83900 | 7.59e-04 | 4.82e-02 | 1.6582e+01\n",
      "   84000 | 7.55e-04 | 4.80e-02 | 1.6613e+01\n",
      "   84100 | 7.54e-04 | 4.80e-02 | 1.6634e+01\n",
      "   84200 | 7.53e-04 | 4.80e-02 | 1.6658e+01\n",
      "   84300 | 7.46e-04 | 4.79e-02 | 1.6691e+01\n",
      "   84400 | 7.46e-04 | 4.79e-02 | 1.6724e+01\n",
      "   84500 | 7.46e-04 | 4.79e-02 | 1.6743e+01\n",
      "   84600 | 7.42e-04 | 4.78e-02 | 1.6765e+01\n",
      "   84700 | 7.39e-04 | 4.77e-02 | 1.6786e+01\n",
      "   84800 | 7.34e-04 | 4.76e-02 | 1.6805e+01\n",
      "   84900 | 7.33e-04 | 4.76e-02 | 1.6823e+01\n",
      "   85000 | 7.29e-04 | 4.75e-02 | 1.6840e+01\n",
      "   85100 | 7.29e-04 | 4.75e-02 | 1.6857e+01\n",
      "   85200 | 7.29e-04 | 4.75e-02 | 1.6875e+01\n",
      "   85300 | 7.29e-04 | 4.75e-02 | 1.6902e+01\n",
      "   85400 | 7.28e-04 | 4.75e-02 | 1.6919e+01\n",
      "   85500 | 7.27e-04 | 4.75e-02 | 1.6944e+01\n",
      "   85600 | 7.27e-04 | 4.75e-02 | 1.6970e+01\n",
      "   85700 | 7.27e-04 | 4.75e-02 | 1.6996e+01\n",
      "   85800 | 7.27e-04 | 4.75e-02 | 1.7014e+01\n",
      "   85900 | 7.23e-04 | 4.73e-02 | 1.7031e+01\n",
      "   86000 | 7.20e-04 | 4.72e-02 | 1.7048e+01\n",
      "   86100 | 7.19e-04 | 4.72e-02 | 1.7065e+01\n",
      "   86200 | 7.19e-04 | 4.72e-02 | 1.7083e+01\n",
      "   86300 | 7.12e-04 | 4.69e-02 | 1.7102e+01\n",
      "   86400 | 7.12e-04 | 4.69e-02 | 1.7119e+01\n",
      "   86500 | 7.12e-04 | 4.69e-02 | 1.7138e+01\n",
      "   86600 | 7.12e-04 | 4.69e-02 | 1.7155e+01\n",
      "   86700 | 7.12e-04 | 4.69e-02 | 1.7173e+01\n",
      "   86800 | 7.11e-04 | 4.69e-02 | 1.7191e+01\n",
      "   86900 | 7.11e-04 | 4.69e-02 | 1.7208e+01\n",
      "   87000 | 7.10e-04 | 4.69e-02 | 1.7225e+01\n",
      "   87100 | 7.10e-04 | 4.69e-02 | 1.7242e+01\n",
      "   87200 | 7.10e-04 | 4.69e-02 | 1.7259e+01\n",
      "   87300 | 7.10e-04 | 4.69e-02 | 1.7276e+01\n",
      "   87400 | 7.05e-04 | 4.66e-02 | 1.7294e+01\n",
      "   87500 | 7.02e-04 | 4.65e-02 | 1.7319e+01\n",
      "   87600 | 6.96e-04 | 4.62e-02 | 1.7339e+01\n",
      "   87700 | 6.91e-04 | 4.60e-02 | 1.7366e+01\n",
      "   87800 | 6.91e-04 | 4.60e-02 | 1.7384e+01\n",
      "   87900 | 6.91e-04 | 4.60e-02 | 1.7403e+01\n",
      "   88000 | 6.88e-04 | 4.58e-02 | 1.7422e+01\n",
      "   88100 | 6.88e-04 | 4.58e-02 | 1.7447e+01\n",
      "   88200 | 6.88e-04 | 4.58e-02 | 1.7467e+01\n",
      "   88300 | 6.85e-04 | 4.57e-02 | 1.7486e+01\n",
      "   88400 | 6.83e-04 | 4.56e-02 | 1.7506e+01\n",
      "   88500 | 6.80e-04 | 4.55e-02 | 1.7526e+01\n",
      "   88600 | 6.80e-04 | 4.55e-02 | 1.7548e+01\n",
      "   88700 | 6.79e-04 | 4.54e-02 | 1.7567e+01\n",
      "   88800 | 6.77e-04 | 4.53e-02 | 1.7595e+01\n",
      "   88900 | 6.77e-04 | 4.53e-02 | 1.7621e+01\n",
      "   89000 | 6.77e-04 | 4.53e-02 | 1.7641e+01\n",
      "   89100 | 6.74e-04 | 4.51e-02 | 1.7661e+01\n",
      "   89200 | 6.71e-04 | 4.50e-02 | 1.7681e+01\n",
      "   89300 | 6.69e-04 | 4.50e-02 | 1.7708e+01\n",
      "   89400 | 6.69e-04 | 4.50e-02 | 1.7735e+01\n",
      "   89500 | 6.68e-04 | 4.49e-02 | 1.7763e+01\n",
      "   89600 | 6.68e-04 | 4.49e-02 | 1.7789e+01\n",
      "   89700 | 6.66e-04 | 4.48e-02 | 1.7817e+01\n",
      "   89800 | 6.66e-04 | 4.48e-02 | 1.7844e+01\n",
      "   89900 | 6.64e-04 | 4.48e-02 | 1.7869e+01\n",
      "   90000 | 6.64e-04 | 4.48e-02 | 1.7895e+01\n",
      "   90100 | 6.64e-04 | 4.48e-02 | 1.7922e+01\n",
      "   90200 | 6.64e-04 | 4.48e-02 | 1.7947e+01\n",
      "   90300 | 6.62e-04 | 4.47e-02 | 1.7966e+01\n",
      "   90400 | 6.61e-04 | 4.47e-02 | 1.7984e+01\n",
      "   90500 | 6.59e-04 | 4.46e-02 | 1.8002e+01\n",
      "   90600 | 6.57e-04 | 4.45e-02 | 1.8019e+01\n",
      "   90700 | 6.56e-04 | 4.44e-02 | 1.8037e+01\n",
      "   90800 | 6.56e-04 | 4.44e-02 | 1.8056e+01\n",
      "   90900 | 6.51e-04 | 4.42e-02 | 1.8075e+01\n",
      "   91000 | 6.50e-04 | 4.42e-02 | 1.8095e+01\n",
      "   91100 | 6.47e-04 | 4.40e-02 | 1.8117e+01\n",
      "   91200 | 6.47e-04 | 4.40e-02 | 1.8137e+01\n",
      "   91300 | 6.47e-04 | 4.40e-02 | 1.8156e+01\n",
      "   91400 | 6.45e-04 | 4.39e-02 | 1.8177e+01\n",
      "   91500 | 6.45e-04 | 4.39e-02 | 1.8199e+01\n",
      "   91600 | 6.44e-04 | 4.38e-02 | 1.8219e+01\n",
      "   91700 | 6.42e-04 | 4.38e-02 | 1.8239e+01\n",
      "   91800 | 6.41e-04 | 4.37e-02 | 1.8258e+01\n",
      "   91900 | 6.39e-04 | 4.36e-02 | 1.8282e+01\n",
      "   92000 | 6.38e-04 | 4.35e-02 | 1.8300e+01\n",
      "   92100 | 6.37e-04 | 4.35e-02 | 1.8318e+01\n",
      "   92200 | 6.37e-04 | 4.35e-02 | 1.8335e+01\n",
      "   92300 | 6.35e-04 | 4.34e-02 | 1.8353e+01\n",
      "   92400 | 6.33e-04 | 4.34e-02 | 1.8370e+01\n",
      "   92500 | 6.29e-04 | 4.31e-02 | 1.8388e+01\n",
      "   92600 | 6.24e-04 | 4.29e-02 | 1.8406e+01\n",
      "   92700 | 6.24e-04 | 4.29e-02 | 1.8426e+01\n",
      "   92800 | 6.24e-04 | 4.29e-02 | 1.8447e+01\n",
      "   92900 | 6.21e-04 | 4.27e-02 | 1.8472e+01\n",
      "   93000 | 6.21e-04 | 4.27e-02 | 1.8498e+01\n",
      "   93100 | 6.21e-04 | 4.27e-02 | 1.8516e+01\n",
      "   93200 | 6.21e-04 | 4.27e-02 | 1.8534e+01\n",
      "   93300 | 6.21e-04 | 4.27e-02 | 1.8551e+01\n",
      "   93400 | 6.21e-04 | 4.27e-02 | 1.8568e+01\n",
      "   93500 | 6.20e-04 | 4.26e-02 | 1.8585e+01\n",
      "   93600 | 6.17e-04 | 4.25e-02 | 1.8603e+01\n",
      "   93700 | 6.14e-04 | 4.24e-02 | 1.8622e+01\n",
      "   93800 | 6.14e-04 | 4.24e-02 | 1.8639e+01\n",
      "   93900 | 6.11e-04 | 4.23e-02 | 1.8656e+01\n",
      "   94000 | 6.10e-04 | 4.22e-02 | 1.8673e+01\n",
      "   94100 | 6.08e-04 | 4.21e-02 | 1.8691e+01\n",
      "   94200 | 6.07e-04 | 4.21e-02 | 1.8709e+01\n",
      "   94300 | 6.07e-04 | 4.21e-02 | 1.8727e+01\n",
      "   94400 | 6.05e-04 | 4.20e-02 | 1.8751e+01\n",
      "   94500 | 6.05e-04 | 4.20e-02 | 1.8770e+01\n",
      "   94600 | 6.04e-04 | 4.20e-02 | 1.8797e+01\n",
      "   94700 | 6.04e-04 | 4.20e-02 | 1.8817e+01\n",
      "   94800 | 6.04e-04 | 4.20e-02 | 1.8836e+01\n",
      "   94900 | 6.03e-04 | 4.20e-02 | 1.8854e+01\n",
      "   95000 | 6.03e-04 | 4.20e-02 | 1.8871e+01\n",
      "   95100 | 6.03e-04 | 4.20e-02 | 1.8888e+01\n",
      "   95200 | 6.02e-04 | 4.19e-02 | 1.8905e+01\n",
      "   95300 | 6.02e-04 | 4.19e-02 | 1.8922e+01\n",
      "   95400 | 6.02e-04 | 4.19e-02 | 1.8939e+01\n",
      "   95500 | 6.01e-04 | 4.18e-02 | 1.8956e+01\n",
      "   95600 | 5.99e-04 | 4.18e-02 | 1.8973e+01\n",
      "   95700 | 5.98e-04 | 4.17e-02 | 1.8990e+01\n",
      "   95800 | 5.96e-04 | 4.16e-02 | 1.9007e+01\n"
     ]
    },
    {
     "name": "stdout",
     "output_type": "stream",
     "text": [
      "   95900 | 5.96e-04 | 4.16e-02 | 1.9025e+01\n",
      "   96000 | 5.95e-04 | 4.15e-02 | 1.9043e+01\n",
      "   96100 | 5.93e-04 | 4.15e-02 | 1.9062e+01\n",
      "   96200 | 5.93e-04 | 4.15e-02 | 1.9079e+01\n",
      "   96300 | 5.92e-04 | 4.14e-02 | 1.9096e+01\n",
      "   96400 | 5.92e-04 | 4.14e-02 | 1.9113e+01\n",
      "   96500 | 5.92e-04 | 4.14e-02 | 1.9130e+01\n",
      "   96600 | 5.90e-04 | 4.14e-02 | 1.9146e+01\n",
      "   96700 | 5.90e-04 | 4.14e-02 | 1.9163e+01\n",
      "   96800 | 5.90e-04 | 4.14e-02 | 1.9181e+01\n",
      "   96900 | 5.89e-04 | 4.12e-02 | 1.9199e+01\n",
      "   97000 | 5.89e-04 | 4.12e-02 | 1.9216e+01\n",
      "   97100 | 5.88e-04 | 4.12e-02 | 1.9234e+01\n",
      "   97200 | 5.86e-04 | 4.11e-02 | 1.9254e+01\n",
      "   97300 | 5.84e-04 | 4.11e-02 | 1.9271e+01\n",
      "   97400 | 5.84e-04 | 4.11e-02 | 1.9289e+01\n",
      "   97500 | 5.84e-04 | 4.10e-02 | 1.9307e+01\n",
      "   97600 | 5.81e-04 | 4.10e-02 | 1.9324e+01\n",
      "   97700 | 5.81e-04 | 4.10e-02 | 1.9341e+01\n",
      "   97800 | 5.81e-04 | 4.10e-02 | 1.9358e+01\n",
      "   97900 | 5.80e-04 | 4.09e-02 | 1.9375e+01\n",
      "   98000 | 5.78e-04 | 4.09e-02 | 1.9392e+01\n",
      "   98100 | 5.78e-04 | 4.08e-02 | 1.9409e+01\n",
      "   98200 | 5.78e-04 | 4.08e-02 | 1.9425e+01\n",
      "   98300 | 5.75e-04 | 4.07e-02 | 1.9445e+01\n",
      "   98400 | 5.75e-04 | 4.06e-02 | 1.9465e+01\n",
      "   98500 | 5.74e-04 | 4.06e-02 | 1.9482e+01\n",
      "   98600 | 5.74e-04 | 4.06e-02 | 1.9499e+01\n",
      "   98700 | 5.74e-04 | 4.06e-02 | 1.9516e+01\n",
      "   98800 | 5.72e-04 | 4.06e-02 | 1.9533e+01\n",
      "   98900 | 5.71e-04 | 4.06e-02 | 1.9551e+01\n",
      "   99000 | 5.70e-04 | 4.05e-02 | 1.9574e+01\n",
      "   99100 | 5.70e-04 | 4.05e-02 | 1.9610e+01\n",
      "   99200 | 5.69e-04 | 4.05e-02 | 1.9638e+01\n",
      "   99300 | 5.69e-04 | 4.05e-02 | 1.9670e+01\n",
      "   99400 | 5.68e-04 | 4.05e-02 | 1.9695e+01\n",
      "   99500 | 5.67e-04 | 4.05e-02 | 1.9714e+01\n",
      "   99600 | 5.65e-04 | 4.04e-02 | 1.9734e+01\n",
      "   99700 | 5.63e-04 | 4.02e-02 | 1.9757e+01\n",
      "   99800 | 5.62e-04 | 4.02e-02 | 1.9782e+01\n",
      "   99900 | 5.62e-04 | 4.02e-02 | 1.9801e+01\n",
      "  100000 | 5.62e-04 | 4.02e-02 | 1.9823e+01\n",
      "  100100 | 5.60e-04 | 4.01e-02 | 1.9841e+01\n",
      "  100200 | 5.60e-04 | 4.01e-02 | 1.9858e+01\n",
      "  100300 | 5.58e-04 | 4.00e-02 | 1.9876e+01\n",
      "  100400 | 5.56e-04 | 3.99e-02 | 1.9900e+01\n",
      "  100500 | 5.53e-04 | 3.98e-02 | 1.9926e+01\n",
      "  100600 | 5.52e-04 | 3.96e-02 | 1.9952e+01\n",
      "  100700 | 5.52e-04 | 3.96e-02 | 1.9969e+01\n",
      "  100800 | 5.51e-04 | 3.96e-02 | 1.9987e+01\n",
      "  100900 | 5.50e-04 | 3.96e-02 | 2.0004e+01\n",
      "  101000 | 5.50e-04 | 3.96e-02 | 2.0021e+01\n",
      "  101100 | 5.50e-04 | 3.96e-02 | 2.0037e+01\n",
      "  101200 | 5.49e-04 | 3.95e-02 | 2.0054e+01\n",
      "  101300 | 5.46e-04 | 3.93e-02 | 2.0073e+01\n",
      "  101400 | 5.45e-04 | 3.92e-02 | 2.0091e+01\n",
      "  101500 | 5.45e-04 | 3.92e-02 | 2.0109e+01\n",
      "  101600 | 5.45e-04 | 3.92e-02 | 2.0128e+01\n",
      "  101700 | 5.44e-04 | 3.92e-02 | 2.0147e+01\n",
      "  101800 | 5.43e-04 | 3.91e-02 | 2.0164e+01\n",
      "  101900 | 5.43e-04 | 3.91e-02 | 2.0183e+01\n",
      "  102000 | 5.43e-04 | 3.91e-02 | 2.0224e+01\n",
      "  102100 | 5.42e-04 | 3.91e-02 | 2.0256e+01\n",
      "  102200 | 5.38e-04 | 3.89e-02 | 2.0287e+01\n",
      "  102300 | 5.35e-04 | 3.88e-02 | 2.0317e+01\n",
      "  102400 | 5.35e-04 | 3.88e-02 | 2.0349e+01\n",
      "  102500 | 5.35e-04 | 3.88e-02 | 2.0376e+01\n",
      "  102600 | 5.35e-04 | 3.88e-02 | 2.0403e+01\n",
      "  102700 | 5.30e-04 | 3.86e-02 | 2.0430e+01\n",
      "  102800 | 5.29e-04 | 3.85e-02 | 2.0448e+01\n",
      "  102900 | 5.28e-04 | 3.84e-02 | 2.0466e+01\n",
      "  103000 | 5.28e-04 | 3.84e-02 | 2.0483e+01\n",
      "  103100 | 5.25e-04 | 3.84e-02 | 2.0501e+01\n",
      "  103200 | 5.23e-04 | 3.83e-02 | 2.0519e+01\n",
      "  103300 | 5.18e-04 | 3.81e-02 | 2.0543e+01\n",
      "  103400 | 5.15e-04 | 3.80e-02 | 2.0569e+01\n",
      "  103500 | 5.15e-04 | 3.80e-02 | 2.0595e+01\n",
      "  103600 | 5.15e-04 | 3.80e-02 | 2.0620e+01\n",
      "  103700 | 5.15e-04 | 3.80e-02 | 2.0638e+01\n",
      "  103800 | 5.15e-04 | 3.80e-02 | 2.0655e+01\n",
      "  103900 | 5.13e-04 | 3.79e-02 | 2.0673e+01\n",
      "  104000 | 5.13e-04 | 3.79e-02 | 2.0691e+01\n",
      "  104100 | 5.11e-04 | 3.78e-02 | 2.0712e+01\n",
      "  104200 | 5.11e-04 | 3.78e-02 | 2.0730e+01\n",
      "  104300 | 5.11e-04 | 3.78e-02 | 2.0750e+01\n",
      "  104400 | 5.11e-04 | 3.78e-02 | 2.0768e+01\n",
      "  104500 | 5.10e-04 | 3.78e-02 | 2.0787e+01\n",
      "  104600 | 5.09e-04 | 3.77e-02 | 2.0805e+01\n",
      "  104700 | 5.08e-04 | 3.77e-02 | 2.0822e+01\n",
      "  104800 | 5.07e-04 | 3.76e-02 | 2.0839e+01\n",
      "  104900 | 5.04e-04 | 3.75e-02 | 2.0856e+01\n",
      "  105000 | 5.04e-04 | 3.75e-02 | 2.0873e+01\n",
      "  105100 | 5.04e-04 | 3.75e-02 | 2.0890e+01\n",
      "  105200 | 5.04e-04 | 3.75e-02 | 2.0912e+01\n",
      "  105300 | 5.02e-04 | 3.74e-02 | 2.0932e+01\n",
      "  105400 | 5.01e-04 | 3.74e-02 | 2.0951e+01\n",
      "  105500 | 5.01e-04 | 3.74e-02 | 2.0971e+01\n",
      "  105600 | 5.00e-04 | 3.73e-02 | 2.0988e+01\n",
      "  105700 | 5.00e-04 | 3.73e-02 | 2.1005e+01\n",
      "  105800 | 5.00e-04 | 3.73e-02 | 2.1022e+01\n",
      "  105900 | 5.00e-04 | 3.73e-02 | 2.1040e+01\n",
      "  106000 | 4.98e-04 | 3.72e-02 | 2.1058e+01\n",
      "  106100 | 4.97e-04 | 3.72e-02 | 2.1075e+01\n",
      "  106200 | 4.95e-04 | 3.71e-02 | 2.1092e+01\n",
      "  106300 | 4.94e-04 | 3.71e-02 | 2.1110e+01\n",
      "  106400 | 4.92e-04 | 3.70e-02 | 2.1127e+01\n",
      "  106500 | 4.92e-04 | 3.70e-02 | 2.1145e+01\n",
      "  106600 | 4.91e-04 | 3.70e-02 | 2.1165e+01\n",
      "  106700 | 4.89e-04 | 3.70e-02 | 2.1186e+01\n",
      "  106800 | 4.88e-04 | 3.70e-02 | 2.1205e+01\n",
      "  106900 | 4.88e-04 | 3.70e-02 | 2.1224e+01\n",
      "  107000 | 4.84e-04 | 3.67e-02 | 2.1244e+01\n",
      "  107100 | 4.81e-04 | 3.65e-02 | 2.1263e+01\n",
      "  107200 | 4.81e-04 | 3.65e-02 | 2.1282e+01\n",
      "  107300 | 4.81e-04 | 3.65e-02 | 2.1309e+01\n",
      "  107400 | 4.79e-04 | 3.65e-02 | 2.1332e+01\n",
      "  107500 | 4.77e-04 | 3.63e-02 | 2.1351e+01\n",
      "  107600 | 4.76e-04 | 3.62e-02 | 2.1370e+01\n",
      "  107700 | 4.74e-04 | 3.62e-02 | 2.1390e+01\n",
      "  107800 | 4.72e-04 | 3.61e-02 | 2.1409e+01\n",
      "  107900 | 4.72e-04 | 3.61e-02 | 2.1428e+01\n",
      "  108000 | 4.70e-04 | 3.60e-02 | 2.1460e+01\n",
      "  108100 | 4.69e-04 | 3.59e-02 | 2.1492e+01\n",
      "  108200 | 4.68e-04 | 3.59e-02 | 2.1519e+01\n",
      "  108300 | 4.65e-04 | 3.58e-02 | 2.1545e+01\n",
      "  108400 | 4.63e-04 | 3.58e-02 | 2.1564e+01\n",
      "  108500 | 4.61e-04 | 3.57e-02 | 2.1581e+01\n",
      "  108600 | 4.60e-04 | 3.57e-02 | 2.1599e+01\n",
      "  108700 | 4.58e-04 | 3.56e-02 | 2.1616e+01\n",
      "  108800 | 4.58e-04 | 3.56e-02 | 2.1632e+01\n",
      "  108900 | 4.56e-04 | 3.56e-02 | 2.1649e+01\n",
      "  109000 | 4.55e-04 | 3.55e-02 | 2.1666e+01\n",
      "  109100 | 4.53e-04 | 3.55e-02 | 2.1683e+01\n",
      "  109200 | 4.50e-04 | 3.54e-02 | 2.1700e+01\n",
      "  109300 | 4.50e-04 | 3.54e-02 | 2.1717e+01\n",
      "  109400 | 4.50e-04 | 3.54e-02 | 2.1734e+01\n",
      "  109500 | 4.50e-04 | 3.54e-02 | 2.1753e+01\n",
      "  109600 | 4.50e-04 | 3.54e-02 | 2.1772e+01\n",
      "  109700 | 4.50e-04 | 3.53e-02 | 2.1792e+01\n",
      "  109800 | 4.49e-04 | 3.53e-02 | 2.1811e+01\n",
      "  109900 | 4.49e-04 | 3.53e-02 | 2.1831e+01\n",
      "  110000 | 4.49e-04 | 3.53e-02 | 2.1852e+01\n",
      "  110100 | 4.49e-04 | 3.53e-02 | 2.1872e+01\n",
      "  110200 | 4.47e-04 | 3.53e-02 | 2.1891e+01\n",
      "  110300 | 4.44e-04 | 3.52e-02 | 2.1910e+01\n",
      "  110400 | 4.43e-04 | 3.52e-02 | 2.1930e+01\n",
      "  110500 | 4.42e-04 | 3.51e-02 | 2.1952e+01\n",
      "  110600 | 4.40e-04 | 3.50e-02 | 2.1974e+01\n",
      "  110700 | 4.37e-04 | 3.49e-02 | 2.1993e+01\n",
      "  110800 | 4.36e-04 | 3.49e-02 | 2.2013e+01\n",
      "  110900 | 4.36e-04 | 3.49e-02 | 2.2030e+01\n",
      "  111000 | 4.33e-04 | 3.48e-02 | 2.2052e+01\n",
      "  111100 | 4.33e-04 | 3.48e-02 | 2.2069e+01\n",
      "  111200 | 4.33e-04 | 3.48e-02 | 2.2086e+01\n",
      "  111300 | 4.33e-04 | 3.48e-02 | 2.2104e+01\n",
      "  111400 | 4.31e-04 | 3.47e-02 | 2.2121e+01\n",
      "  111500 | 4.31e-04 | 3.47e-02 | 2.2138e+01\n",
      "  111600 | 4.31e-04 | 3.47e-02 | 2.2156e+01\n",
      "  111700 | 4.31e-04 | 3.47e-02 | 2.2174e+01\n",
      "  111800 | 4.31e-04 | 3.46e-02 | 2.2191e+01\n",
      "  111900 | 4.29e-04 | 3.45e-02 | 2.2208e+01\n",
      "  112000 | 4.28e-04 | 3.44e-02 | 2.2226e+01\n",
      "  112100 | 4.26e-04 | 3.43e-02 | 2.2243e+01\n",
      "  112200 | 4.25e-04 | 3.43e-02 | 2.2260e+01\n",
      "  112300 | 4.25e-04 | 3.43e-02 | 2.2277e+01\n",
      "  112400 | 4.24e-04 | 3.43e-02 | 2.2294e+01\n",
      "  112500 | 4.24e-04 | 3.43e-02 | 2.2311e+01\n",
      "  112600 | 4.24e-04 | 3.43e-02 | 2.2328e+01\n",
      "  112700 | 4.22e-04 | 3.43e-02 | 2.2345e+01\n",
      "  112800 | 4.22e-04 | 3.43e-02 | 2.2363e+01\n",
      "  112900 | 4.20e-04 | 3.42e-02 | 2.2380e+01\n",
      "  113000 | 4.19e-04 | 3.41e-02 | 2.2397e+01\n",
      "  113100 | 4.17e-04 | 3.40e-02 | 2.2416e+01\n",
      "  113200 | 4.17e-04 | 3.40e-02 | 2.2436e+01\n",
      "  113300 | 4.17e-04 | 3.40e-02 | 2.2455e+01\n",
      "  113400 | 4.16e-04 | 3.39e-02 | 2.2472e+01\n",
      "  113500 | 4.16e-04 | 3.39e-02 | 2.2489e+01\n",
      "  113600 | 4.16e-04 | 3.39e-02 | 2.2507e+01\n",
      "  113700 | 4.16e-04 | 3.39e-02 | 2.2525e+01\n",
      "  113800 | 4.14e-04 | 3.39e-02 | 2.2544e+01\n",
      "  113900 | 4.13e-04 | 3.38e-02 | 2.2563e+01\n",
      "  114000 | 4.13e-04 | 3.37e-02 | 2.2584e+01\n",
      "  114100 | 4.13e-04 | 3.37e-02 | 2.2605e+01\n",
      "  114200 | 4.11e-04 | 3.36e-02 | 2.2622e+01\n",
      "  114300 | 4.11e-04 | 3.36e-02 | 2.2640e+01\n",
      "  114400 | 4.10e-04 | 3.36e-02 | 2.2657e+01\n",
      "  114500 | 4.08e-04 | 3.36e-02 | 2.2674e+01\n",
      "  114600 | 4.06e-04 | 3.35e-02 | 2.2691e+01\n",
      "  114700 | 4.04e-04 | 3.34e-02 | 2.2708e+01\n",
      "  114800 | 4.03e-04 | 3.33e-02 | 2.2725e+01\n",
      "  114900 | 4.02e-04 | 3.32e-02 | 2.2742e+01\n",
      "  115000 | 4.02e-04 | 3.32e-02 | 2.2759e+01\n",
      "  115100 | 4.02e-04 | 3.32e-02 | 2.2777e+01\n",
      "  115200 | 4.01e-04 | 3.31e-02 | 2.2794e+01\n",
      "  115300 | 4.00e-04 | 3.31e-02 | 2.2811e+01\n",
      "  115400 | 3.99e-04 | 3.30e-02 | 2.2828e+01\n"
     ]
    },
    {
     "name": "stdout",
     "output_type": "stream",
     "text": [
      "  115500 | 3.97e-04 | 3.30e-02 | 2.2850e+01\n",
      "  115600 | 3.97e-04 | 3.30e-02 | 2.2876e+01\n",
      "  115700 | 3.95e-04 | 3.29e-02 | 2.2903e+01\n",
      "  115800 | 3.94e-04 | 3.29e-02 | 2.2928e+01\n",
      "  115900 | 3.94e-04 | 3.29e-02 | 2.2954e+01\n",
      "  116000 | 3.94e-04 | 3.29e-02 | 2.2979e+01\n",
      "  116100 | 3.92e-04 | 3.28e-02 | 2.3006e+01\n",
      "  116200 | 3.92e-04 | 3.28e-02 | 2.3032e+01\n",
      "  116300 | 3.92e-04 | 3.28e-02 | 2.3059e+01\n",
      "  116400 | 3.92e-04 | 3.28e-02 | 2.3085e+01\n",
      "  116500 | 3.90e-04 | 3.26e-02 | 2.3106e+01\n",
      "  116600 | 3.88e-04 | 3.26e-02 | 2.3123e+01\n",
      "  116700 | 3.88e-04 | 3.26e-02 | 2.3140e+01\n",
      "  116800 | 3.88e-04 | 3.26e-02 | 2.3156e+01\n",
      "  116900 | 3.88e-04 | 3.26e-02 | 2.3174e+01\n",
      "  117000 | 3.86e-04 | 3.26e-02 | 2.3190e+01\n",
      "  117100 | 3.86e-04 | 3.26e-02 | 2.3207e+01\n",
      "  117200 | 3.86e-04 | 3.26e-02 | 2.3224e+01\n",
      "  117300 | 3.86e-04 | 3.25e-02 | 2.3241e+01\n",
      "  117400 | 3.86e-04 | 3.25e-02 | 2.3259e+01\n",
      "  117500 | 3.84e-04 | 3.24e-02 | 2.3284e+01\n",
      "  117600 | 3.80e-04 | 3.23e-02 | 2.3301e+01\n",
      "  117700 | 3.79e-04 | 3.23e-02 | 2.3318e+01\n",
      "  117800 | 3.79e-04 | 3.23e-02 | 2.3335e+01\n",
      "  117900 | 3.79e-04 | 3.23e-02 | 2.3356e+01\n",
      "  118000 | 3.79e-04 | 3.23e-02 | 2.3375e+01\n",
      "  118100 | 3.79e-04 | 3.23e-02 | 2.3393e+01\n",
      "  118200 | 3.78e-04 | 3.23e-02 | 2.3410e+01\n",
      "  118300 | 3.78e-04 | 3.23e-02 | 2.3427e+01\n",
      "  118400 | 3.76e-04 | 3.23e-02 | 2.3445e+01\n",
      "  118500 | 3.76e-04 | 3.23e-02 | 2.3462e+01\n",
      "  118600 | 3.75e-04 | 3.23e-02 | 2.3479e+01\n",
      "  118700 | 3.75e-04 | 3.23e-02 | 2.3497e+01\n",
      "  118800 | 3.72e-04 | 3.23e-02 | 2.3514e+01\n",
      "  118900 | 3.72e-04 | 3.23e-02 | 2.3531e+01\n",
      "  119000 | 3.70e-04 | 3.22e-02 | 2.3551e+01\n",
      "  119100 | 3.70e-04 | 3.22e-02 | 2.3570e+01\n",
      "  119200 | 3.68e-04 | 3.21e-02 | 2.3588e+01\n",
      "  119300 | 3.68e-04 | 3.21e-02 | 2.3605e+01\n",
      "  119400 | 3.66e-04 | 3.20e-02 | 2.3624e+01\n",
      "  119500 | 3.66e-04 | 3.20e-02 | 2.3644e+01\n",
      "  119600 | 3.66e-04 | 3.20e-02 | 2.3664e+01\n",
      "  119700 | 3.66e-04 | 3.20e-02 | 2.3681e+01\n",
      "  119800 | 3.66e-04 | 3.20e-02 | 2.3698e+01\n",
      "  119900 | 3.66e-04 | 3.20e-02 | 2.3715e+01\n",
      "  120000 | 3.66e-04 | 3.20e-02 | 2.3733e+01\n",
      "  120100 | 3.66e-04 | 3.20e-02 | 2.3750e+01\n",
      "  120200 | 3.66e-04 | 3.20e-02 | 2.3768e+01\n",
      "  120300 | 3.66e-04 | 3.19e-02 | 2.3789e+01\n",
      "  120400 | 3.64e-04 | 3.19e-02 | 2.3809e+01\n",
      "  120500 | 3.63e-04 | 3.18e-02 | 2.3828e+01\n",
      "  120600 | 3.61e-04 | 3.17e-02 | 2.3845e+01\n",
      "  120700 | 3.61e-04 | 3.17e-02 | 2.3862e+01\n",
      "  120800 | 3.60e-04 | 3.16e-02 | 2.3879e+01\n",
      "  120900 | 3.60e-04 | 3.16e-02 | 2.3895e+01\n",
      "  121000 | 3.60e-04 | 3.16e-02 | 2.3913e+01\n",
      "  121100 | 3.60e-04 | 3.16e-02 | 2.3930e+01\n",
      "  121200 | 3.60e-04 | 3.16e-02 | 2.3948e+01\n",
      "  121300 | 3.59e-04 | 3.15e-02 | 2.3965e+01\n",
      "  121400 | 3.58e-04 | 3.14e-02 | 2.3983e+01\n",
      "  121500 | 3.58e-04 | 3.14e-02 | 2.4009e+01\n",
      "  121600 | 3.57e-04 | 3.13e-02 | 2.4034e+01\n",
      "  121700 | 3.56e-04 | 3.13e-02 | 2.4059e+01\n",
      "  121800 | 3.56e-04 | 3.13e-02 | 2.4079e+01\n",
      "  121900 | 3.55e-04 | 3.12e-02 | 2.4096e+01\n",
      "  122000 | 3.54e-04 | 3.11e-02 | 2.4113e+01\n",
      "  122100 | 3.54e-04 | 3.11e-02 | 2.4131e+01\n",
      "  122200 | 3.53e-04 | 3.10e-02 | 2.4148e+01\n",
      "  122300 | 3.53e-04 | 3.10e-02 | 2.4165e+01\n",
      "  122400 | 3.53e-04 | 3.10e-02 | 2.4187e+01\n",
      "  122500 | 3.53e-04 | 3.10e-02 | 2.4206e+01\n",
      "  122600 | 3.53e-04 | 3.10e-02 | 2.4223e+01\n",
      "  122700 | 3.53e-04 | 3.10e-02 | 2.4240e+01\n",
      "  122800 | 3.53e-04 | 3.10e-02 | 2.4257e+01\n",
      "  122900 | 3.53e-04 | 3.10e-02 | 2.4275e+01\n",
      "  123000 | 3.52e-04 | 3.09e-02 | 2.4292e+01\n",
      "  123100 | 3.50e-04 | 3.08e-02 | 2.4310e+01\n",
      "  123200 | 3.50e-04 | 3.08e-02 | 2.4327e+01\n",
      "  123300 | 3.50e-04 | 3.08e-02 | 2.4345e+01\n",
      "  123400 | 3.50e-04 | 3.08e-02 | 2.4363e+01\n",
      "  123500 | 3.49e-04 | 3.07e-02 | 2.4391e+01\n",
      "  123600 | 3.49e-04 | 3.07e-02 | 2.4412e+01\n",
      "  123700 | 3.49e-04 | 3.07e-02 | 2.4429e+01\n",
      "  123800 | 3.49e-04 | 3.07e-02 | 2.4447e+01\n",
      "  123900 | 3.49e-04 | 3.07e-02 | 2.4464e+01\n",
      "  124000 | 3.49e-04 | 3.07e-02 | 2.4481e+01\n",
      "  124100 | 3.49e-04 | 3.07e-02 | 2.4499e+01\n",
      "  124200 | 3.49e-04 | 3.07e-02 | 2.4516e+01\n",
      "  124300 | 3.49e-04 | 3.07e-02 | 2.4534e+01\n",
      "  124400 | 3.49e-04 | 3.07e-02 | 2.4553e+01\n",
      "  124500 | 3.47e-04 | 3.05e-02 | 2.4573e+01\n",
      "  124600 | 3.47e-04 | 3.05e-02 | 2.4590e+01\n",
      "  124700 | 3.46e-04 | 3.04e-02 | 2.4607e+01\n",
      "  124800 | 3.46e-04 | 3.04e-02 | 2.4624e+01\n",
      "  124900 | 3.45e-04 | 3.04e-02 | 2.4641e+01\n",
      "  125000 | 3.45e-04 | 3.04e-02 | 2.4658e+01\n",
      "  125100 | 3.45e-04 | 3.03e-02 | 2.4675e+01\n",
      "  125200 | 3.45e-04 | 3.03e-02 | 2.4692e+01\n",
      "  125300 | 3.45e-04 | 3.03e-02 | 2.4709e+01\n",
      "  125400 | 3.45e-04 | 3.03e-02 | 2.4725e+01\n",
      "  125500 | 3.45e-04 | 3.03e-02 | 2.4744e+01\n",
      "  125600 | 3.45e-04 | 3.03e-02 | 2.4762e+01\n",
      "  125700 | 3.45e-04 | 3.03e-02 | 2.4779e+01\n",
      "  125800 | 3.44e-04 | 3.03e-02 | 2.4796e+01\n",
      "  125900 | 3.43e-04 | 3.02e-02 | 2.4813e+01\n",
      "  126000 | 3.42e-04 | 3.01e-02 | 2.4830e+01\n",
      "  126100 | 3.41e-04 | 3.00e-02 | 2.4846e+01\n",
      "  126200 | 3.41e-04 | 3.00e-02 | 2.4863e+01\n",
      "  126300 | 3.41e-04 | 3.00e-02 | 2.4882e+01\n",
      "  126400 | 3.41e-04 | 3.00e-02 | 2.4901e+01\n",
      "  126500 | 3.41e-04 | 3.00e-02 | 2.4917e+01\n",
      "  126600 | 3.41e-04 | 3.00e-02 | 2.4934e+01\n",
      "  126700 | 3.41e-04 | 3.00e-02 | 2.4951e+01\n",
      "  126800 | 3.40e-04 | 2.99e-02 | 2.4969e+01\n",
      "  126900 | 3.40e-04 | 2.99e-02 | 2.4986e+01\n",
      "  127000 | 3.40e-04 | 2.99e-02 | 2.5004e+01\n",
      "  127100 | 3.39e-04 | 2.98e-02 | 2.5021e+01\n",
      "  127200 | 3.39e-04 | 2.98e-02 | 2.5038e+01\n",
      "  127300 | 3.39e-04 | 2.98e-02 | 2.5056e+01\n",
      "  127400 | 3.39e-04 | 2.98e-02 | 2.5082e+01\n",
      "  127500 | 3.39e-04 | 2.98e-02 | 2.5114e+01\n",
      "  127600 | 3.39e-04 | 2.98e-02 | 2.5144e+01\n",
      "  127700 | 3.39e-04 | 2.98e-02 | 2.5161e+01\n",
      "  127800 | 3.38e-04 | 2.98e-02 | 2.5179e+01\n",
      "  127900 | 3.38e-04 | 2.98e-02 | 2.5198e+01\n",
      "  128000 | 3.38e-04 | 2.98e-02 | 2.5216e+01\n",
      "  128100 | 3.38e-04 | 2.98e-02 | 2.5237e+01\n",
      "  128200 | 3.38e-04 | 2.98e-02 | 2.5255e+01\n",
      "  128300 | 3.38e-04 | 2.98e-02 | 2.5273e+01\n",
      "  128400 | 3.38e-04 | 2.97e-02 | 2.5298e+01\n",
      "  128500 | 3.38e-04 | 2.97e-02 | 2.5321e+01\n",
      "  128600 | 3.38e-04 | 2.97e-02 | 2.5338e+01\n",
      "  128700 | 3.38e-04 | 2.97e-02 | 2.5355e+01\n",
      "  128800 | 3.38e-04 | 2.97e-02 | 2.5373e+01\n",
      "  128900 | 3.38e-04 | 2.97e-02 | 2.5392e+01\n",
      "  129000 | 3.37e-04 | 2.97e-02 | 2.5410e+01\n",
      "  129100 | 3.37e-04 | 2.97e-02 | 2.5427e+01\n",
      "  129200 | 3.37e-04 | 2.97e-02 | 2.5447e+01\n",
      "  129300 | 3.37e-04 | 2.97e-02 | 2.5465e+01\n",
      "  129400 | 3.37e-04 | 2.97e-02 | 2.5483e+01\n",
      "  129500 | 3.37e-04 | 2.96e-02 | 2.5499e+01\n",
      "  129600 | 3.37e-04 | 2.96e-02 | 2.5516e+01\n",
      "  129700 | 3.35e-04 | 2.95e-02 | 2.5533e+01\n",
      "  129800 | 3.34e-04 | 2.94e-02 | 2.5550e+01\n",
      "  129900 | 3.34e-04 | 2.94e-02 | 2.5567e+01\n",
      "  130000 | 3.34e-04 | 2.94e-02 | 2.5584e+01\n",
      "  130100 | 3.34e-04 | 2.94e-02 | 2.5602e+01\n",
      "  130200 | 3.33e-04 | 2.93e-02 | 2.5619e+01\n",
      "  130300 | 3.32e-04 | 2.93e-02 | 2.5636e+01\n",
      "  130400 | 3.32e-04 | 2.93e-02 | 2.5653e+01\n",
      "  130500 | 3.32e-04 | 2.92e-02 | 2.5672e+01\n",
      "  130600 | 3.31e-04 | 2.92e-02 | 2.5689e+01\n",
      "  130700 | 3.29e-04 | 2.90e-02 | 2.5705e+01\n",
      "  130800 | 3.29e-04 | 2.90e-02 | 2.5723e+01\n",
      "  130900 | 3.28e-04 | 2.89e-02 | 2.5740e+01\n",
      "  131000 | 3.28e-04 | 2.89e-02 | 2.5757e+01\n",
      "  131100 | 3.28e-04 | 2.89e-02 | 2.5774e+01\n",
      "  131200 | 3.27e-04 | 2.88e-02 | 2.5792e+01\n",
      "  131300 | 3.27e-04 | 2.88e-02 | 2.5811e+01\n",
      "  131400 | 3.26e-04 | 2.87e-02 | 2.5828e+01\n",
      "  131500 | 3.25e-04 | 2.87e-02 | 2.5845e+01\n",
      "  131600 | 3.25e-04 | 2.87e-02 | 2.5862e+01\n",
      "  131700 | 3.25e-04 | 2.86e-02 | 2.5879e+01\n",
      "  131800 | 3.24e-04 | 2.85e-02 | 2.5896e+01\n",
      "  131900 | 3.23e-04 | 2.85e-02 | 2.5912e+01\n",
      "  132000 | 3.22e-04 | 2.84e-02 | 2.5929e+01\n",
      "  132100 | 3.22e-04 | 2.84e-02 | 2.5946e+01\n",
      "  132200 | 3.22e-04 | 2.84e-02 | 2.5964e+01\n",
      "  132300 | 3.22e-04 | 2.84e-02 | 2.5981e+01\n",
      "  132400 | 3.21e-04 | 2.83e-02 | 2.5997e+01\n",
      "  132500 | 3.20e-04 | 2.82e-02 | 2.6015e+01\n",
      "  132600 | 3.20e-04 | 2.82e-02 | 2.6032e+01\n",
      "  132700 | 3.20e-04 | 2.82e-02 | 2.6049e+01\n",
      "  132800 | 3.20e-04 | 2.82e-02 | 2.6066e+01\n",
      "  132900 | 3.20e-04 | 2.82e-02 | 2.6083e+01\n",
      "  133000 | 3.20e-04 | 2.82e-02 | 2.6100e+01\n",
      "  133100 | 3.20e-04 | 2.82e-02 | 2.6116e+01\n",
      "  133200 | 3.20e-04 | 2.82e-02 | 2.6134e+01\n",
      "  133300 | 3.19e-04 | 2.81e-02 | 2.6152e+01\n",
      "  133400 | 3.19e-04 | 2.81e-02 | 2.6169e+01\n",
      "  133500 | 3.18e-04 | 2.80e-02 | 2.6185e+01\n",
      "  133600 | 3.18e-04 | 2.80e-02 | 2.6208e+01\n",
      "  133700 | 3.17e-04 | 2.80e-02 | 2.6228e+01\n",
      "  133800 | 3.17e-04 | 2.80e-02 | 2.6245e+01\n",
      "  133900 | 3.17e-04 | 2.80e-02 | 2.6263e+01\n",
      "  134000 | 3.17e-04 | 2.80e-02 | 2.6279e+01\n",
      "  134100 | 3.17e-04 | 2.79e-02 | 2.6296e+01\n",
      "  134200 | 3.17e-04 | 2.79e-02 | 2.6313e+01\n",
      "  134300 | 3.17e-04 | 2.79e-02 | 2.6330e+01\n",
      "  134400 | 3.17e-04 | 2.79e-02 | 2.6347e+01\n",
      "  134500 | 3.17e-04 | 2.79e-02 | 2.6365e+01\n",
      "  134600 | 3.17e-04 | 2.79e-02 | 2.6382e+01\n",
      "  134700 | 3.16e-04 | 2.79e-02 | 2.6399e+01\n",
      "  134800 | 3.16e-04 | 2.79e-02 | 2.6417e+01\n"
     ]
    },
    {
     "name": "stdout",
     "output_type": "stream",
     "text": [
      "  134900 | 3.15e-04 | 2.78e-02 | 2.6438e+01\n",
      "  135000 | 3.15e-04 | 2.78e-02 | 2.6456e+01\n",
      "  135100 | 3.15e-04 | 2.78e-02 | 2.6473e+01\n",
      "  135200 | 3.14e-04 | 2.77e-02 | 2.6490e+01\n",
      "  135300 | 3.13e-04 | 2.77e-02 | 2.6507e+01\n",
      "  135400 | 3.12e-04 | 2.75e-02 | 2.6524e+01\n",
      "  135500 | 3.12e-04 | 2.75e-02 | 2.6541e+01\n",
      "  135600 | 3.12e-04 | 2.75e-02 | 2.6558e+01\n",
      "  135700 | 3.11e-04 | 2.74e-02 | 2.6575e+01\n",
      "  135800 | 3.10e-04 | 2.74e-02 | 2.6594e+01\n",
      "  135900 | 3.10e-04 | 2.74e-02 | 2.6611e+01\n",
      "  136000 | 3.10e-04 | 2.74e-02 | 2.6628e+01\n",
      "  136100 | 3.09e-04 | 2.72e-02 | 2.6646e+01\n",
      "  136200 | 3.07e-04 | 2.71e-02 | 2.6663e+01\n",
      "  136300 | 3.07e-04 | 2.71e-02 | 2.6680e+01\n",
      "  136400 | 3.07e-04 | 2.71e-02 | 2.6697e+01\n",
      "  136500 | 3.07e-04 | 2.71e-02 | 2.6713e+01\n",
      "  136600 | 3.07e-04 | 2.71e-02 | 2.6730e+01\n",
      "  136700 | 3.07e-04 | 2.71e-02 | 2.6747e+01\n",
      "  136800 | 3.07e-04 | 2.71e-02 | 2.6764e+01\n",
      "  136900 | 3.06e-04 | 2.70e-02 | 2.6781e+01\n",
      "  137000 | 3.06e-04 | 2.70e-02 | 2.6798e+01\n",
      "  137100 | 3.06e-04 | 2.70e-02 | 2.6814e+01\n",
      "  137200 | 3.06e-04 | 2.70e-02 | 2.6831e+01\n",
      "  137300 | 3.06e-04 | 2.70e-02 | 2.6848e+01\n",
      "  137400 | 3.05e-04 | 2.69e-02 | 2.6866e+01\n",
      "  137500 | 3.04e-04 | 2.68e-02 | 2.6883e+01\n",
      "  137600 | 3.04e-04 | 2.68e-02 | 2.6901e+01\n",
      "  137700 | 3.04e-04 | 2.68e-02 | 2.6919e+01\n",
      "  137800 | 3.03e-04 | 2.67e-02 | 2.6935e+01\n",
      "  137900 | 3.03e-04 | 2.67e-02 | 2.6952e+01\n",
      "  138000 | 3.02e-04 | 2.67e-02 | 2.6969e+01\n",
      "  138100 | 3.02e-04 | 2.67e-02 | 2.6986e+01\n",
      "  138200 | 3.02e-04 | 2.66e-02 | 2.7005e+01\n",
      "  138300 | 3.01e-04 | 2.66e-02 | 2.7023e+01\n",
      "  138400 | 3.01e-04 | 2.66e-02 | 2.7041e+01\n",
      "  138500 | 3.01e-04 | 2.66e-02 | 2.7064e+01\n",
      "  138600 | 3.01e-04 | 2.66e-02 | 2.7082e+01\n",
      "  138700 | 3.01e-04 | 2.65e-02 | 2.7100e+01\n",
      "  138800 | 3.00e-04 | 2.65e-02 | 2.7117e+01\n",
      "  138900 | 3.00e-04 | 2.65e-02 | 2.7139e+01\n",
      "  139000 | 3.00e-04 | 2.65e-02 | 2.7157e+01\n",
      "  139100 | 3.00e-04 | 2.65e-02 | 2.7174e+01\n",
      "  139200 | 2.99e-04 | 2.64e-02 | 2.7191e+01\n",
      "  139300 | 2.99e-04 | 2.64e-02 | 2.7208e+01\n",
      "  139400 | 2.97e-04 | 2.63e-02 | 2.7225e+01\n",
      "  139500 | 2.97e-04 | 2.63e-02 | 2.7241e+01\n",
      "  139600 | 2.97e-04 | 2.62e-02 | 2.7258e+01\n",
      "  139700 | 2.96e-04 | 2.61e-02 | 2.7276e+01\n",
      "  139800 | 2.96e-04 | 2.61e-02 | 2.7293e+01\n",
      "  139900 | 2.96e-04 | 2.61e-02 | 2.7310e+01\n",
      "  140000 | 2.95e-04 | 2.60e-02 | 2.7327e+01\n",
      "  140100 | 2.95e-04 | 2.60e-02 | 2.7344e+01\n",
      "  140200 | 2.94e-04 | 2.60e-02 | 2.7361e+01\n",
      "  140300 | 2.94e-04 | 2.59e-02 | 2.7378e+01\n",
      "  140400 | 2.93e-04 | 2.59e-02 | 2.7395e+01\n",
      "  140500 | 2.92e-04 | 2.58e-02 | 2.7412e+01\n",
      "  140600 | 2.92e-04 | 2.58e-02 | 2.7429e+01\n",
      "  140700 | 2.92e-04 | 2.58e-02 | 2.7448e+01\n",
      "  140800 | 2.92e-04 | 2.58e-02 | 2.7466e+01\n",
      "  140900 | 2.91e-04 | 2.57e-02 | 2.7485e+01\n",
      "  141000 | 2.91e-04 | 2.57e-02 | 2.7503e+01\n",
      "  141100 | 2.91e-04 | 2.57e-02 | 2.7522e+01\n",
      "  141200 | 2.91e-04 | 2.57e-02 | 2.7539e+01\n",
      "  141300 | 2.91e-04 | 2.57e-02 | 2.7564e+01\n",
      "  141400 | 2.91e-04 | 2.57e-02 | 2.7582e+01\n",
      "  141500 | 2.89e-04 | 2.56e-02 | 2.7599e+01\n",
      "  141600 | 2.89e-04 | 2.56e-02 | 2.7616e+01\n",
      "  141700 | 2.89e-04 | 2.55e-02 | 2.7634e+01\n",
      "  141800 | 2.88e-04 | 2.54e-02 | 2.7651e+01\n",
      "  141900 | 2.88e-04 | 2.54e-02 | 2.7669e+01\n",
      "  142000 | 2.88e-04 | 2.54e-02 | 2.7686e+01\n",
      "  142100 | 2.88e-04 | 2.54e-02 | 2.7703e+01\n",
      "  142200 | 2.87e-04 | 2.53e-02 | 2.7720e+01\n",
      "  142300 | 2.86e-04 | 2.52e-02 | 2.7737e+01\n",
      "  142400 | 2.85e-04 | 2.52e-02 | 2.7755e+01\n",
      "  142500 | 2.85e-04 | 2.52e-02 | 2.7772e+01\n",
      "  142600 | 2.85e-04 | 2.52e-02 | 2.7789e+01\n",
      "  142700 | 2.84e-04 | 2.50e-02 | 2.7808e+01\n",
      "  142800 | 2.83e-04 | 2.50e-02 | 2.7827e+01\n",
      "  142900 | 2.83e-04 | 2.50e-02 | 2.7845e+01\n",
      "  143000 | 2.83e-04 | 2.50e-02 | 2.7864e+01\n",
      "  143100 | 2.83e-04 | 2.50e-02 | 2.7883e+01\n",
      "  143200 | 2.83e-04 | 2.50e-02 | 2.7904e+01\n",
      "  143300 | 2.82e-04 | 2.49e-02 | 2.7923e+01\n",
      "  143400 | 2.82e-04 | 2.49e-02 | 2.7949e+01\n",
      "  143500 | 2.82e-04 | 2.49e-02 | 2.7977e+01\n",
      "  143600 | 2.82e-04 | 2.49e-02 | 2.7996e+01\n",
      "  143700 | 2.81e-04 | 2.48e-02 | 2.8015e+01\n",
      "  143800 | 2.81e-04 | 2.48e-02 | 2.8035e+01\n",
      "  143900 | 2.81e-04 | 2.48e-02 | 2.8053e+01\n",
      "  144000 | 2.81e-04 | 2.48e-02 | 2.8076e+01\n",
      "  144100 | 2.81e-04 | 2.48e-02 | 2.8103e+01\n",
      "  144200 | 2.81e-04 | 2.48e-02 | 2.8131e+01\n",
      "  144300 | 2.81e-04 | 2.48e-02 | 2.8158e+01\n",
      "  144400 | 2.81e-04 | 2.48e-02 | 2.8180e+01\n",
      "  144500 | 2.79e-04 | 2.47e-02 | 2.8197e+01\n",
      "  144600 | 2.79e-04 | 2.47e-02 | 2.8214e+01\n",
      "  144700 | 2.79e-04 | 2.47e-02 | 2.8231e+01\n",
      "  144800 | 2.78e-04 | 2.46e-02 | 2.8248e+01\n",
      "  144900 | 2.78e-04 | 2.46e-02 | 2.8264e+01\n",
      "  145000 | 2.78e-04 | 2.46e-02 | 2.8282e+01\n",
      "  145100 | 2.78e-04 | 2.46e-02 | 2.8301e+01\n",
      "  145200 | 2.78e-04 | 2.46e-02 | 2.8320e+01\n",
      "  145300 | 2.78e-04 | 2.46e-02 | 2.8341e+01\n",
      "  145400 | 2.78e-04 | 2.46e-02 | 2.8363e+01\n",
      "  145500 | 2.77e-04 | 2.45e-02 | 2.8390e+01\n",
      "  145600 | 2.77e-04 | 2.45e-02 | 2.8417e+01\n",
      "  145700 | 2.76e-04 | 2.44e-02 | 2.8446e+01\n",
      "  145800 | 2.75e-04 | 2.43e-02 | 2.8469e+01\n",
      "  145900 | 2.75e-04 | 2.43e-02 | 2.8489e+01\n",
      "  146000 | 2.75e-04 | 2.43e-02 | 2.8509e+01\n",
      "  146100 | 2.75e-04 | 2.43e-02 | 2.8528e+01\n",
      "  146200 | 2.75e-04 | 2.43e-02 | 2.8546e+01\n",
      "  146300 | 2.75e-04 | 2.43e-02 | 2.8563e+01\n",
      "  146400 | 2.75e-04 | 2.43e-02 | 2.8583e+01\n",
      "  146500 | 2.75e-04 | 2.43e-02 | 2.8600e+01\n",
      "  146600 | 2.74e-04 | 2.42e-02 | 2.8617e+01\n",
      "  146700 | 2.74e-04 | 2.42e-02 | 2.8634e+01\n",
      "  146800 | 2.72e-04 | 2.40e-02 | 2.8652e+01\n",
      "  146900 | 2.72e-04 | 2.40e-02 | 2.8670e+01\n",
      "  147000 | 2.72e-04 | 2.40e-02 | 2.8689e+01\n",
      "  147100 | 2.72e-04 | 2.40e-02 | 2.8713e+01\n",
      "  147200 | 2.71e-04 | 2.40e-02 | 2.8734e+01\n",
      "  147300 | 2.70e-04 | 2.39e-02 | 2.8755e+01\n",
      "  147400 | 2.70e-04 | 2.39e-02 | 2.8780e+01\n",
      "  147500 | 2.70e-04 | 2.39e-02 | 2.8798e+01\n",
      "  147600 | 2.70e-04 | 2.39e-02 | 2.8816e+01\n",
      "  147700 | 2.69e-04 | 2.38e-02 | 2.8834e+01\n",
      "  147800 | 2.68e-04 | 2.37e-02 | 2.8851e+01\n",
      "  147900 | 2.68e-04 | 2.37e-02 | 2.8869e+01\n",
      "  148000 | 2.67e-04 | 2.36e-02 | 2.8886e+01\n",
      "  148100 | 2.67e-04 | 2.36e-02 | 2.8905e+01\n",
      "  148200 | 2.67e-04 | 2.36e-02 | 2.8923e+01\n",
      "  148300 | 2.66e-04 | 2.36e-02 | 2.8940e+01\n",
      "  148400 | 2.66e-04 | 2.35e-02 | 2.8958e+01\n",
      "  148500 | 2.66e-04 | 2.35e-02 | 2.8976e+01\n",
      "  148600 | 2.65e-04 | 2.35e-02 | 2.8996e+01\n",
      "  148700 | 2.65e-04 | 2.35e-02 | 2.9013e+01\n",
      "  148800 | 2.65e-04 | 2.34e-02 | 2.9030e+01\n",
      "  148900 | 2.65e-04 | 2.34e-02 | 2.9048e+01\n",
      "  149000 | 2.64e-04 | 2.33e-02 | 2.9065e+01\n",
      "  149100 | 2.62e-04 | 2.32e-02 | 2.9082e+01\n",
      "  149200 | 2.60e-04 | 2.31e-02 | 2.9100e+01\n",
      "  149300 | 2.60e-04 | 2.30e-02 | 2.9117e+01\n",
      "  149400 | 2.60e-04 | 2.30e-02 | 2.9135e+01\n",
      "  149500 | 2.60e-04 | 2.30e-02 | 2.9155e+01\n",
      "  149600 | 2.60e-04 | 2.30e-02 | 2.9178e+01\n",
      "  149700 | 2.60e-04 | 2.30e-02 | 2.9202e+01\n",
      "  149800 | 2.59e-04 | 2.30e-02 | 2.9220e+01\n",
      "  149900 | 2.59e-04 | 2.29e-02 | 2.9238e+01\n",
      "  150000 | 2.59e-04 | 2.29e-02 | 2.9256e+01\n"
     ]
    }
   ],
   "source": [
    "time0 = time.time()\n",
    "n_iter_cd = n * n_iter\n",
    "mu_init = np.zeros(d)\n",
    "cd_inspector = inspector(model.loss, mu_min, verbose=True)\n",
    "mu_cd = Coordinate_descent(mu_init, model.K, cd_prox_g, C, n_iter_cd, callback = cd_inspector)\n",
    "time_cd = time.time() - time0"
   ]
  },
  {
   "cell_type": "code",
   "execution_count": 41,
   "metadata": {},
   "outputs": [
    {
     "name": "stdout",
     "output_type": "stream",
     "text": [
      "Total time needed: 29.255981922149658\n",
      "f_min cd: -0.21524639238831395\n"
     ]
    }
   ],
   "source": [
    "print(\"Total time needed: \" + str(time_cd))\n",
    "min_cd = cd_inspector.obj[-1] + f_min\n",
    "print(\"f_min cd: \" + str(min_cd))"
   ]
  },
  {
   "cell_type": "code",
   "execution_count": 42,
   "metadata": {},
   "outputs": [
    {
     "data": {
      "image/png": "[encoded data removed]",
      "text/plain": [
       "<Figure size 432x288 with 1 Axes>"
      ]
     },
     "metadata": {
      "needs_background": "light"
     },
     "output_type": "display_data"
    }
   ],
   "source": [
    "idx_support_cd = np.where(np.abs(mu_cd) > 1e-5)[0]\n",
    "mu_support_cd = mu_ista[idx_support_cd]\n",
    "plot_ocsvm(X, mu_support_cd, idx_support_cd, rho=1, kernel=kernel_choice)"
   ]
  },
  {
   "cell_type": "markdown",
   "metadata": {},
   "source": [
    "### 4. L-BFGS-B solver using scipy.optimize.fmin_l_bfgs_b"
   ]
  },
  {
   "cell_type": "code",
   "execution_count": 44,
   "metadata": {},
   "outputs": [
    {
     "name": "stdout",
     "output_type": "stream",
     "text": [
      "   it    |   obj    |   err    |   time  \n",
      "       0 | 1.54e-01 | 1.99e-01 | 1.2031e-02\n"
     ]
    }
   ],
   "source": [
    "# Conjugate gradient descent\n",
    "from scipy.optimize import fmin_l_bfgs_b\n",
    "\n",
    "time0 = time.time()\n",
    "mu_init = np.zeros(d)\n",
    "bfgs_inspector = inspector(model.loss, mu_min, verbose=True)\n",
    "mu_bfgs, _, _ = fmin_l_bfgs_b(model.loss, mu_init, model.grad_f, maxiter=n_iter, callback=bfgs_inspector,\n",
    "                              bounds=[(0, C/n) for i in range(n)])\n",
    "time_lbfgs = time.time() - time0"
   ]
  },
  {
   "cell_type": "code",
   "execution_count": 45,
   "metadata": {},
   "outputs": [
    {
     "name": "stdout",
     "output_type": "stream",
     "text": [
      "Total time needed: 0.13048195838928223\n",
      "f_min lbfgs: -0.21514278430761116\n"
     ]
    }
   ],
   "source": [
    "print(\"Total time needed: \" + str(time_lbfgs))\n",
    "min_lbfgs = bfgs_inspector.obj[-1] + f_min\n",
    "print(\"f_min lbfgs: \" + str(min_lbfgs))"
   ]
  },
  {
   "cell_type": "code",
   "execution_count": 46,
   "metadata": {},
   "outputs": [
    {
     "data": {
      "image/png": "[encoded data removed]",
      "text/plain": [
       "<Figure size 432x288 with 1 Axes>"
      ]
     },
     "metadata": {
      "needs_background": "light"
     },
     "output_type": "display_data"
    }
   ],
   "source": [
    "idx_support_lbfgs= np.where(np.abs(mu_bfgs) > 1e-05)[0]\n",
    "mu_support_lbfgs = mu_ista[idx_support_lbfgs]\n",
    "plot_ocsvm(X, mu_support_lbfgs, idx_support_lbfgs, rho=1, kernel=kernel_choice)"
   ]
  },
  {
   "cell_type": "markdown",
   "metadata": {},
   "source": [
    "# III. Comparison\n",
    "\n",
    "We can see that, with 500 iterations, all solvers converge approximatly towards the same minimum:\n"
   ]
  },
  {
   "cell_type": "code",
   "execution_count": 47,
   "metadata": {},
   "outputs": [
    {
     "name": "stdout",
     "output_type": "stream",
     "text": [
      "f_min ista = -0.20730593269845315\n",
      "f_min fista = -0.21549399727736485\n",
      "f_min cd = -0.21524639238831395\n",
      "f_min lbfgs = -0.21514278430761116\n"
     ]
    }
   ],
   "source": [
    "\n",
    "print(\"f_min ista = \" + str(min_ista))\n",
    "print(\"f_min fista = \" + str(min_fista))\n",
    "print(\"f_min cd = \" + str(min_cd))\n",
    "print(\"f_min lbfgs = \" + str(min_lbfgs))"
   ]
  },
  {
   "cell_type": "markdown",
   "metadata": {},
   "source": [
    "### A first numerical comparison of the solvers"
   ]
  },
  {
   "cell_type": "code",
   "execution_count": 48,
   "metadata": {},
   "outputs": [
    {
     "data": {
      "image/png": "[encoded data removed]",
      "text/plain": [
       "<Figure size 1080x360 with 2 Axes>"
      ]
     },
     "metadata": {
      "needs_background": "light"
     },
     "output_type": "display_data"
    }
   ],
   "source": [
    "plt.figure(figsize=(15, 5))\n",
    "plt.subplot(1, 2, 1)\n",
    "\n",
    "inspectors = [ista_inspector, fista_inspector, cd_inspector, bfgs_inspector]\n",
    "solvers = [\"ISTA\", \"FISTA\", \"Coordinate_descent\", \"BFGS\"]\n",
    "\n",
    "scale_cd = [n * i for i in range (n_iter)]\n",
    "\n",
    "for insp in inspectors:\n",
    "    if insp == cd_inspector:\n",
    "        objective = [insp.obj[i] for i in scale_cd]\n",
    "        plt.semilogy(objective, lw=2)\n",
    "    else:\n",
    "        plt.semilogy(insp.obj, lw=2)\n",
    "    \n",
    "    #plt.semilogy(insp.obj, lw=2)\n",
    "    plt.title(\"Loss\", fontsize=18)\n",
    "    plt.xlabel(\"Epoch\", fontsize=14)\n",
    "    plt.ylabel(\"objective\", fontsize=14)\n",
    "plt.legend(solvers)\n",
    "\n",
    "plt.subplot(1, 2, 2)\n",
    "\n",
    "for insp in inspectors:\n",
    "    if insp == cd_inspector:\n",
    "        error=[insp.err[i] for i in scale_cd]\n",
    "        plt.semilogy(error, lw=2)\n",
    "    else:\n",
    "        plt.semilogy(insp.err, lw=2)\n",
    "       \n",
    "    #plt.semilogy(insp.err, lw=2)\n",
    "    plt.title(\"Distance to optimum\", fontsize=18)\n",
    "    plt.xlabel(\"Epoch\", fontsize=14)\n",
    "    plt.ylabel(\"$\\|x_k - x^*\\|_2$\", fontsize=14)\n",
    "plt.legend(solvers);"
   ]
  },
  {
   "cell_type": "markdown",
   "metadata": {},
   "source": [
    "\n",
    "\n",
    "- **Cost per iteration:**\n",
    "\n",
    "\n",
    "The cost of the computation of $\\nabla f$ is n times the cost of the computation of $\\nabla f_i$. In order to compare the two algorithms based on the same complexity, we have changed the scale of the coordinate descent in order to plot one iteration for each n computation of $\\nabla f_i$.\n",
    "\n",
    "\n",
    "- **Rate of convergence (in terms of number of epochs):**\n",
    "\n",
    "With such a conditioning of the problem, we can clearly see that the rate of convergence of the Coordinate descent algorithm is particularly large at the beginning. After a few iterations, the rate of convergence of the L-BFGS algorithm becomes faster. Furthermore, ISTA converges slowly and does not vary much from the inital value after 500 iterations: this algorithm is the less precise. \n",
    "\n"
   ]
  },
  {
   "cell_type": "code",
   "execution_count": 49,
   "metadata": {},
   "outputs": [
    {
     "data": {
      "image/png": "[encoded data removed]",
      "text/plain": [
       "<Figure size 1080x360 with 2 Axes>"
      ]
     },
     "metadata": {
      "needs_background": "light"
     },
     "output_type": "display_data"
    }
   ],
   "source": [
    "plt.figure(figsize=(15, 5))\n",
    "\n",
    "plt.subplot(1, 2, 1)\n",
    "\n",
    "inspectors = [ista_inspector, fista_inspector, bfgs_inspector]\n",
    "\n",
    "solvers = [\"ISTA\", \"FISTA\", \"BFGS\"]\n",
    "\n",
    "for insp in inspectors:\n",
    "    plt.plot(insp.timing, insp.obj)\n",
    "    plt.title(\"Loss\", fontsize=18)\n",
    "    plt.xlabel(\"Computation time\", fontsize=14)\n",
    "    plt.ylabel(\"objective\", fontsize=14)\n",
    "\n",
    "plt.legend(solvers)\n",
    "\n",
    "plt.subplot(1, 2, 2)\n",
    "for insp in inspectors:\n",
    "    plt.plot(insp.timing, insp.err)\n",
    "    plt.title(\"Distance to optimum\", fontsize=18)\n",
    "    plt.xlabel(\"Computation time\", fontsize=14)\n",
    "    plt.ylabel(\"$\\|x_k - x^*\\|_2$\", fontsize=14)\n",
    "\n",
    "plt.legend(solvers);"
   ]
  },
  {
   "cell_type": "code",
   "execution_count": 51,
   "metadata": {},
   "outputs": [
    {
     "name": "stdout",
     "output_type": "stream",
     "text": [
      "Total time needed for Ista (500 iterations): 0.3324158191680908\n",
      "Total time needed for Fista (500 iterations): 0.35991883277893066\n",
      "Total time needed for CD (500*300 iterations): 29.255981922149658\n",
      "Total time needed for CD (normalized for 500 iterations): 0.09751993974049886\n",
      "Total time needed for L-BFGS (500 iterations): 0.13048195838928223\n"
     ]
    }
   ],
   "source": [
    "print(\"Total time needed for Ista (500 iterations): \" + str(time_ista))\n",
    "print(\"Total time needed for Fista (500 iterations): \" + str(time_fista))\n",
    "print(\"Total time needed for CD (500*300 iterations): \" + str(time_cd))\n",
    "print(\"Total time needed for CD (normalized for 500 iterations): \" + str(time_cd/300))\n",
    "print(\"Total time needed for L-BFGS (500 iterations): \" + str(time_lbfgs))\n"
   ]
  },
  {
   "cell_type": "markdown",
   "metadata": {},
   "source": [
    "- **Running time:**\n",
    "\n",
    "We cannot directly compare the total computational time of the CD algorithm with the running time of the other algorithms since the CD algorithm is implemented with much more iterations than the other algorithms.\n",
    "\n",
    "We observe that the L-BFGS algorithm is the best algorithm in terms of computation time. ISTA has a similar running time as FISTA, whereas CD (normalized for 500 iterations) has a lower running time. \n",
    "\n",
    "\n",
    "\n",
    "\n",
    "\n",
    "To conclude, within the context used in question 12 (conditioning of the problem, linear kernel, smoothness constant, etc.), the L-BFGS algorithm outperforms the other algorithms (CD, ISTA and FISTA) in terms of both running time and number of iterations. Also, ISTA is the less efficient algorithm (largest error, running time). \n"
   ]
  },
  {
   "cell_type": "markdown",
   "metadata": {},
   "source": [
    "## IV. Conditioning of the problem\n",
    "\n",
    "We now change the conditioning of our problem in order to see if the previous conclusions are impacted.\n",
    "\n",
    "\n",
    "### 1. Value of C\n",
    "\n",
    "C is the regularization parameter. For large values of C, the optimization will choose a smaller number of support vectors and thus a smaller margion hyperplane. There is a risk of overfitting. We should have tuned the value of C (with a k-fold cross validation) to obtain the best results.\n",
    "\n",
    "However, we tested differents values of C (0,1, 1, 10, 40, 100, 500, 1000) and taking C=40 seemed to be the best compromise. However, the previous conclusion (see above) is not impacted when varying the value of C.\n",
    "\n",
    "\n",
    "### 2. Using Gaussian kernel\n",
    "\n",
    "\n"
   ]
  },
  {
   "cell_type": "code",
   "execution_count": 52,
   "metadata": {},
   "outputs": [
    {
     "data": {
      "image/png": "[encoded data removed]",
      "text/plain": [
       "<Figure size 432x288 with 1 Axes>"
      ]
     },
     "metadata": {
      "needs_background": "light"
     },
     "output_type": "display_data"
    }
   ],
   "source": [
    "d = 300\n",
    "X = make_blob_dataset(d)\n",
    "plt.scatter(X[:, 0], X[:, 1], color='b');\n",
    "n = len(X)"
   ]
  },
  {
   "cell_type": "code",
   "execution_count": 53,
   "metadata": {},
   "outputs": [
    {
     "name": "stdout",
     "output_type": "stream",
     "text": [
      "Step = 0.0038237595859740856\n",
      "Check_grad = 1.3196584918690659e-05\n",
      "We use : <function rbf_kernel at 0x7fb76ea14488>\n",
      "f_min = -1.6183043431840618\n"
     ]
    }
   ],
   "source": [
    "C = 40\n",
    "model = svm(X, C, linear_kernel=False, gaussian_kernel=True)\n",
    "step = 1. / model.lipschitz_constant()\n",
    "print(\"Step = %s\" % step)\n",
    "\n",
    "# Check that the gradient and the loss numerically match\n",
    "check = check_grad(model.f, model.grad_f, np.random.randn(d))\n",
    "print(\"Check_grad = %s\" % check)\n",
    "\n",
    "kernel_choice = model.kernel_choice\n",
    "print(\"We use : %s\" % kernel_choice)\n",
    "\n",
    "mu_init = np.zeros(d)\n",
    "mu_min, f_min, _ = fmin_l_bfgs_b(model.loss, mu_init, model.grad_f, pgtol=1e-30, factr=1e-30, bounds=[(0, C/n) for i in range(n)])\n",
    "print(\"f_min = %s\" % f_min)"
   ]
  },
  {
   "cell_type": "code",
   "execution_count": 54,
   "metadata": {},
   "outputs": [
    {
     "name": "stdout",
     "output_type": "stream",
     "text": [
      "Number of support vectors: 21\n"
     ]
    },
    {
     "data": {
      "image/png": "[encoded data removed]",
      "text/plain": [
       "<Figure size 432x288 with 1 Axes>"
      ]
     },
     "metadata": {
      "needs_background": "light"
     },
     "output_type": "display_data"
    }
   ],
   "source": [
    "# Kernel used (there is an option for linear or gaussian kernel in the class \"svm\" - see above):\n",
    "K = kernel_choice(X,X)\n",
    "# Uncomment the following lines when your ocsvm_solver is completed:\n",
    "mu_support, idx_support = ocsvm_solver_v2(K, C)\n",
    "print(\"Number of support vectors: %s\" % idx_support.size)\n",
    "plot_ocsvm(X, mu_support, idx_support, rho=1, kernel=kernel_choice)"
   ]
  },
  {
   "cell_type": "code",
   "execution_count": 55,
   "metadata": {},
   "outputs": [],
   "source": [
    "# ISTA\n",
    "time0 = time.time()\n",
    "ista_inspector = inspector(model.loss, mu_min, verbose=False)\n",
    "mu_ista = ista(mu_init, model.grad_f, model.prox_g, n_iter, step, callback = ista_inspector)\n",
    "time_ista = time.time() - time0\n",
    "idx_support_ista = np.where(np.abs(mu_ista) > 1e-5)[0]\n",
    "mu_support_ista = mu_ista[idx_support_ista]\n",
    "# FISTA\n",
    "time0 = time.time()\n",
    "mu_init = np.zeros(d)\n",
    "fista_inspector = inspector(model.loss, mu_min, verbose=False)\n",
    "mu_fista = fista(mu_init, model.grad_f, model.prox_g, n_iter, step, callback = fista_inspector)\n",
    "time_fista = time.time() - time0\n",
    "idx_support_fista = np.where(np.abs(mu_fista) > 1e-5)[0]\n",
    "mu_support_fista = mu_fista[idx_support_fista]\n",
    "# CG\n",
    "time0 = time.time()\n",
    "n_iter_cd = n * n_iter\n",
    "mu_init = np.zeros(d)\n",
    "cd_inspector = inspector(model.loss, mu_min, verbose=False)\n",
    "mu_cd = Coordinate_descent(mu_init, model.K, cd_prox_g, C, n_iter_cd, callback = cd_inspector)\n",
    "time_cd = time.time() - time0\n",
    "idx_support_cd = np.where(np.abs(mu_cd) > 1e-5)[0]\n",
    "mu_support_cd = mu_cd[idx_support_cd]\n",
    "# LBFGS\n",
    "time0 = time.time()\n",
    "mu_init = np.zeros(d)\n",
    "bfgs_inspector = inspector(model.loss, mu_min, verbose=False)\n",
    "mu_bfgs, _, _ = fmin_l_bfgs_b(model.loss, mu_init, model.grad_f, maxiter=n_iter, callback=bfgs_inspector,\n",
    "                              bounds=[(0, C/n) for i in range(n)])\n",
    "time_lbfgs = time.time() - time0\n",
    "idx_support_lbfgs = np.where(np.abs(mu_bfgs) > 1e-5)[0]\n",
    "mu_support_lbfgs = mu_bfgs[idx_support_lbfgs]"
   ]
  },
  {
   "cell_type": "code",
   "execution_count": 56,
   "metadata": {},
   "outputs": [
    {
     "data": {
      "image/png": "[encoded data removed]",
      "text/plain": [
       "<Figure size 1080x360 with 2 Axes>"
      ]
     },
     "metadata": {
      "needs_background": "light"
     },
     "output_type": "display_data"
    }
   ],
   "source": [
    "plt.figure(figsize=(15, 5))\n",
    "plt.subplot(1, 2, 1)\n",
    "plt.title(\"ISTA\", fontsize=18)\n",
    "plot_ocsvm(X, mu_support_ista, idx_support_ista, rho=1, kernel=kernel_choice)\n",
    "plt.subplot(1, 2, 2)\n",
    "plt.title(\"FISTA\", fontsize=18)\n",
    "plot_ocsvm(X, mu_support_fista, idx_support_fista, rho=1, kernel=kernel_choice)"
   ]
  },
  {
   "cell_type": "code",
   "execution_count": 57,
   "metadata": {},
   "outputs": [
    {
     "data": {
      "image/png": "[encoded data removed]",
      "text/plain": [
       "<Figure size 1080x360 with 2 Axes>"
      ]
     },
     "metadata": {
      "needs_background": "light"
     },
     "output_type": "display_data"
    }
   ],
   "source": [
    "plt.figure(figsize=(15, 5))\n",
    "plt.subplot(1, 2, 1)\n",
    "plt.title(\"CD\", fontsize=18)\n",
    "plot_ocsvm(X, mu_support_cd, idx_support_cd, rho=1, kernel=kernel_choice)\n",
    "plt.subplot(1, 2, 2)\n",
    "plt.title(\"L-BFGS\", fontsize=18)\n",
    "plot_ocsvm(X, mu_support_lbfgs, idx_support_lbfgs, rho=1, kernel=kernel_choice)"
   ]
  },
  {
   "cell_type": "code",
   "execution_count": 58,
   "metadata": {},
   "outputs": [
    {
     "name": "stdout",
     "output_type": "stream",
     "text": [
      "f_min ista = -0.20730593269845315\n",
      "f_min fista = -0.21549399727736485\n",
      "f_min cd = -0.21524639238831395\n",
      "f_min lbfgs = -0.21514278430761116\n"
     ]
    }
   ],
   "source": [
    "print(\"f_min ista = \" + str(min_ista))\n",
    "print(\"f_min fista = \" + str(min_fista))\n",
    "print(\"f_min cd = \" + str(min_cd))\n",
    "print(\"f_min lbfgs = \" + str(min_lbfgs))"
   ]
  },
  {
   "cell_type": "code",
   "execution_count": 59,
   "metadata": {},
   "outputs": [
    {
     "data": {
      "image/png": "[encoded data removed]",
      "text/plain": [
       "<Figure size 1080x360 with 2 Axes>"
      ]
     },
     "metadata": {
      "needs_background": "light"
     },
     "output_type": "display_data"
    }
   ],
   "source": [
    "plt.figure(figsize=(15, 5))\n",
    "plt.subplot(1, 2, 1)\n",
    "\n",
    "inspectors = [ista_inspector, fista_inspector, cd_inspector, bfgs_inspector]\n",
    "solvers = [\"ISTA\", \"FISTA\", \"Coordinate_descent\", \"BFGS\"]\n",
    "\n",
    "scale_cd = [n * i for i in range (n_iter)]\n",
    "\n",
    "for insp in inspectors:\n",
    "    if insp == cd_inspector:\n",
    "        objective = [insp.obj[i] for i in scale_cd]\n",
    "        plt.semilogy(objective, lw=2)\n",
    "    else:\n",
    "        plt.semilogy(insp.obj, lw=2)\n",
    "    \n",
    "    #plt.semilogy(insp.obj, lw=2)\n",
    "    plt.title(\"Loss\", fontsize=18)\n",
    "    plt.xlabel(\"Epoch\", fontsize=14)\n",
    "    plt.ylabel(\"objective\", fontsize=14)\n",
    "plt.legend(solvers)\n",
    "\n",
    "plt.subplot(1, 2, 2)\n",
    "\n",
    "for insp in inspectors:\n",
    "    if insp == cd_inspector:\n",
    "        error=[insp.err[i] for i in scale_cd]\n",
    "        plt.semilogy(error, lw=2)\n",
    "    else:\n",
    "        plt.semilogy(insp.err, lw=2)\n",
    "       \n",
    "    #plt.semilogy(insp.err, lw=2)\n",
    "    plt.title(\"Distance to optimum\", fontsize=18)\n",
    "    plt.xlabel(\"Epoch\", fontsize=14)\n",
    "    plt.ylabel(\"$\\|x_k - x^*\\|_2$\", fontsize=14)\n",
    "plt.legend(solvers);"
   ]
  },
  {
   "cell_type": "code",
   "execution_count": 60,
   "metadata": {},
   "outputs": [
    {
     "name": "stdout",
     "output_type": "stream",
     "text": [
      "Total time needed for Ista (500 iterations): 0.18134188652038574\n",
      "Total time needed for Fista (500 iterations): 0.10933232307434082\n",
      "Total time needed for CD (500*300 iterations): 27.06827139854431\n",
      "Total time needed for CD (normalized for 500 iterations): 0.09022757132848104\n",
      "Total time needed for L-BFGS (500 iterations): 0.013845205307006836\n"
     ]
    }
   ],
   "source": [
    "print(\"Total time needed for Ista (500 iterations): \" + str(time_ista))\n",
    "print(\"Total time needed for Fista (500 iterations): \" + str(time_fista))\n",
    "print(\"Total time needed for CD (500*300 iterations): \" + str(time_cd))\n",
    "print(\"Total time needed for CD (normalized for 500 iterations): \" + str(time_cd/300))\n",
    "print(\"Total time needed for L-BFGS (500 iterations): \" + str(time_lbfgs))"
   ]
  },
  {
   "cell_type": "markdown",
   "metadata": {},
   "source": [
    "- We obtain similar results as before (with a linear kernel) in terms of speed of convergence: L-BFGS outperforms the other algorithms. However, the classification graphs give better results (the dense region is better separated from the outliers). The boundary between normal samples and outliers may be non linear.\n",
    "\n",
    "- The graphs obtained show that the algorithms do converge to the minimum, and the separation between the data and the outliers is as precise as the one returned by the ocsvm solver, which is quite good. \n",
    "\n",
    "- The classification graphs obtained are quite similar no matter what algorithm we are using. Let's try to make it a little bit harder and to increase the contamination rate."
   ]
  },
  {
   "cell_type": "markdown",
   "metadata": {},
   "source": [
    "### 3. Increasing the contamination rate "
   ]
  },
  {
   "cell_type": "code",
   "execution_count": 62,
   "metadata": {},
   "outputs": [
    {
     "data": {
      "image/png": "[encoded data removed]",
      "text/plain": [
       "<Figure size 432x288 with 1 Axes>"
      ]
     },
     "metadata": {
      "needs_background": "light"
     },
     "output_type": "display_data"
    }
   ],
   "source": [
    "d = 300\n",
    "X = make_blob_dataset(d, contamination= 0.2)\n",
    "plt.scatter(X[:, 0], X[:, 1], color='b');\n",
    "n = len(X)"
   ]
  },
  {
   "cell_type": "code",
   "execution_count": 64,
   "metadata": {},
   "outputs": [
    {
     "name": "stdout",
     "output_type": "stream",
     "text": [
      "Step = 0.004397329698429121\n",
      "Check_grad = 0.0001742893994649606\n",
      "We use : <function rbf_kernel at 0x7fb76ea14488>\n",
      "f_min = -1.665328694321615\n"
     ]
    }
   ],
   "source": [
    "C = 10 # explanation in the next comments\n",
    "model = svm(X, C, linear_kernel=False, gaussian_kernel=True)\n",
    "step = 1. / model.lipschitz_constant()\n",
    "print(\"Step = %s\" % step)\n",
    "\n",
    "# Check that the gradient and the loss numerically match\n",
    "check = check_grad(model.f, model.grad_f, np.random.randn(d))\n",
    "print(\"Check_grad = %s\" % check)\n",
    "\n",
    "kernel_choice = model.kernel_choice\n",
    "print(\"We use : %s\" % kernel_choice)\n",
    "\n",
    "mu_init = np.zeros(d)\n",
    "mu_min, f_min, _ = fmin_l_bfgs_b(model.loss, mu_init, model.grad_f, pgtol=1e-30, factr=1e-30, bounds=[(0, C/n) for i in range(n)])\n",
    "print(\"f_min = %s\" % f_min)\n"
   ]
  },
  {
   "cell_type": "code",
   "execution_count": 65,
   "metadata": {},
   "outputs": [
    {
     "name": "stdout",
     "output_type": "stream",
     "text": [
      "Number of support vectors: 78\n"
     ]
    },
    {
     "data": {
      "image/png": "[encoded data removed]",
      "text/plain": [
       "<Figure size 432x288 with 1 Axes>"
      ]
     },
     "metadata": {
      "needs_background": "light"
     },
     "output_type": "display_data"
    }
   ],
   "source": [
    "# Kernel used (there is an option for linear or gaussian kernel in the class \"svm\" - see above):\n",
    "K = kernel_choice(X,X)\n",
    "# Uncomment the following lines when your ocsvm_solver is completed:\n",
    "mu_support, idx_support = ocsvm_solver_v2(K, C)\n",
    "print(\"Number of support vectors: %s\" % idx_support.size)\n",
    "plot_ocsvm(X, mu_support, idx_support, rho=1, kernel=kernel_choice)"
   ]
  },
  {
   "cell_type": "code",
   "execution_count": 66,
   "metadata": {},
   "outputs": [],
   "source": [
    "# ISTA\n",
    "time0 = time.time()\n",
    "ista_inspector = inspector(model.loss, mu_min, verbose=False)\n",
    "mu_ista = ista(mu_init, model.grad_f, model.prox_g, n_iter, step, callback = ista_inspector)\n",
    "time_ista = time.time() - time0\n",
    "idx_support_ista = np.where(np.abs(mu_ista) > 1e-5)[0]\n",
    "mu_support_ista = mu_ista[idx_support_ista]\n",
    "# FISTA\n",
    "time0 = time.time()\n",
    "mu_init = np.zeros(d)\n",
    "fista_inspector = inspector(model.loss, mu_min, verbose=False)\n",
    "mu_fista = fista(mu_init, model.grad_f, model.prox_g, n_iter, step, callback = fista_inspector)\n",
    "time_fista = time.time() - time0\n",
    "idx_support_fista = np.where(np.abs(mu_fista) > 1e-5)[0]\n",
    "mu_support_fista = mu_fista[idx_support_fista]\n",
    "# CG\n",
    "time0 = time.time()\n",
    "n_iter_cd = n * n_iter\n",
    "mu_init = np.zeros(d)\n",
    "cd_inspector = inspector(model.loss, mu_min, verbose=False)\n",
    "mu_cd = Coordinate_descent(mu_init, model.K, cd_prox_g, C, n_iter_cd, callback = cd_inspector)\n",
    "time_cd = time.time() - time0\n",
    "idx_support_cd = np.where(np.abs(mu_cd) > 1e-5)[0]\n",
    "mu_support_cd = mu_cd[idx_support_cd]\n",
    "# LBFGS\n",
    "time0 = time.time()\n",
    "mu_init = np.zeros(d)\n",
    "bfgs_inspector = inspector(model.loss, mu_min, verbose=False)\n",
    "mu_bfgs, _, _ = fmin_l_bfgs_b(model.loss, mu_init, model.grad_f, maxiter=n_iter, callback=bfgs_inspector,\n",
    "                              bounds=[(0, C/n) for i in range(n)])\n",
    "time_lbfgs = time.time() - time0\n",
    "idx_support_lbfgs = np.where(np.abs(mu_bfgs) > 1e-5)[0]\n",
    "mu_support_lbfgs = mu_bfgs[idx_support_lbfgs]"
   ]
  },
  {
   "cell_type": "code",
   "execution_count": 67,
   "metadata": {},
   "outputs": [
    {
     "data": {
      "image/png": "[encoded data removed]",
      "text/plain": [
       "<Figure size 1080x360 with 2 Axes>"
      ]
     },
     "metadata": {
      "needs_background": "light"
     },
     "output_type": "display_data"
    }
   ],
   "source": [
    "plt.figure(figsize=(15, 5))\n",
    "plt.subplot(1, 2, 1)\n",
    "plt.title(\"ISTA\", fontsize=18)\n",
    "plot_ocsvm(X, mu_support_ista, idx_support_ista, rho=1, kernel=kernel_choice)\n",
    "plt.subplot(1, 2, 2)\n",
    "plt.title(\"FISTA\", fontsize=18)\n",
    "plot_ocsvm(X, mu_support_fista, idx_support_fista, rho=1, kernel=kernel_choice)"
   ]
  },
  {
   "cell_type": "code",
   "execution_count": 68,
   "metadata": {},
   "outputs": [
    {
     "data": {
      "image/png": "[encoded data removed]",
      "text/plain": [
       "<Figure size 1080x360 with 2 Axes>"
      ]
     },
     "metadata": {
      "needs_background": "light"
     },
     "output_type": "display_data"
    }
   ],
   "source": [
    "plt.figure(figsize=(15, 5))\n",
    "plt.subplot(1, 2, 1)\n",
    "plt.title(\"CD\", fontsize=18)\n",
    "plot_ocsvm(X, mu_support_cd, idx_support_cd, rho=1, kernel=kernel_choice)\n",
    "plt.subplot(1, 2, 2)\n",
    "plt.title(\"L-BFGS\", fontsize=18)\n",
    "plot_ocsvm(X, mu_support_lbfgs, idx_support_lbfgs, rho=1, kernel=kernel_choice)"
   ]
  },
  {
   "cell_type": "code",
   "execution_count": 69,
   "metadata": {},
   "outputs": [
    {
     "name": "stdout",
     "output_type": "stream",
     "text": [
      "f_min ista = -0.20730593269845315\n",
      "f_min fista = -0.21549399727736485\n",
      "f_min cd = -0.21524639238831395\n",
      "f_min lbfgs = -0.21514278430761116\n"
     ]
    }
   ],
   "source": [
    "print(\"f_min ista = \" + str(min_ista))\n",
    "print(\"f_min fista = \" + str(min_fista))\n",
    "print(\"f_min cd = \" + str(min_cd))\n",
    "print(\"f_min lbfgs = \" + str(min_lbfgs))"
   ]
  },
  {
   "cell_type": "code",
   "execution_count": 70,
   "metadata": {},
   "outputs": [
    {
     "data": {
      "image/png": "[encoded data removed]",
      "text/plain": [
       "<Figure size 1080x360 with 2 Axes>"
      ]
     },
     "metadata": {
      "needs_background": "light"
     },
     "output_type": "display_data"
    }
   ],
   "source": [
    "plt.figure(figsize=(15, 5))\n",
    "plt.subplot(1, 2, 1)\n",
    "\n",
    "inspectors = [ista_inspector, fista_inspector, cd_inspector, bfgs_inspector]\n",
    "solvers = [\"ISTA\", \"FISTA\", \"Coordinate_descent\", \"BFGS\"]\n",
    "\n",
    "scale_cd = [n * i for i in range (n_iter)]\n",
    "\n",
    "for insp in inspectors:\n",
    "    if insp == cd_inspector:\n",
    "        objective = [insp.obj[i] for i in scale_cd]\n",
    "        plt.semilogy(objective, lw=2)\n",
    "    else:\n",
    "        plt.semilogy(insp.obj, lw=2)\n",
    "    \n",
    "    #plt.semilogy(insp.obj, lw=2)\n",
    "    plt.title(\"Loss\", fontsize=18)\n",
    "    plt.xlabel(\"Epoch\", fontsize=14)\n",
    "    plt.ylabel(\"objective\", fontsize=14)\n",
    "plt.legend(solvers)\n",
    "\n",
    "plt.subplot(1, 2, 2)\n",
    "\n",
    "for insp in inspectors:\n",
    "    if insp == cd_inspector:\n",
    "        error=[insp.err[i] for i in scale_cd]\n",
    "        plt.semilogy(error, lw=2)\n",
    "    else:\n",
    "        plt.semilogy(insp.err, lw=2)\n",
    "       \n",
    "    #plt.semilogy(insp.err, lw=2)\n",
    "    plt.title(\"Distance to optimum\", fontsize=18)\n",
    "    plt.xlabel(\"Epoch\", fontsize=14)\n",
    "    plt.ylabel(\"$\\|x_k - x^*\\|_2$\", fontsize=14)\n",
    "plt.legend(solvers);"
   ]
  },
  {
   "cell_type": "code",
   "execution_count": 71,
   "metadata": {},
   "outputs": [
    {
     "name": "stdout",
     "output_type": "stream",
     "text": [
      "Total time needed for Ista (500 iterations): 0.26968836784362793\n",
      "Total time needed for Fista (500 iterations): 0.09299683570861816\n",
      "Total time needed for CD (500*300 iterations): 27.694990873336792\n",
      "Total time needed for CD (normalized for 500 iterations): 0.09231663624445598\n",
      "Total time needed for L-BFGS (500 iterations): 0.01442265510559082\n"
     ]
    }
   ],
   "source": [
    "print(\"Total time needed for Ista (500 iterations): \" + str(time_ista))\n",
    "print(\"Total time needed for Fista (500 iterations): \" + str(time_fista))\n",
    "print(\"Total time needed for CD (500*300 iterations): \" + str(time_cd))\n",
    "print(\"Total time needed for CD (normalized for 500 iterations): \" + str(time_cd/300))\n",
    "print(\"Total time needed for L-BFGS (500 iterations): \" + str(time_lbfgs))"
   ]
  },
  {
   "cell_type": "markdown",
   "metadata": {},
   "source": [
    "#### Using C = 40 (not depicted here) : \n",
    "When keeping the same value of C as before, we get the following results:\n",
    "- Increasing the contamination of the dataset makes it harder for the algorithms to find the right separation between the data and the outliers. However, we still do not see any improvements nor changes in the graphs of the algorithms, this means that even though the algorithms are different and does not converge with the same speed, the minimum reached is approximatively the same for all of them.\n",
    "\n",
    "- The algorithms perform poorly. Indeed, when increasing the contamination of the data set, the separation between the outliers and the rest of the data gets blurred. We can see here that the limit drawn is too unrestrictive.\n",
    "\n",
    "\n",
    "#### Using C = 10 (depicted above) : \n",
    "\n",
    "Since those results are quite bad, we decided to restrict more our problem and shrink C to 10. Using this value, we get the following results:\n",
    "\n",
    "- The algorithms converge to the right minimum, the limit separating both the outliers and the rest of the data is restrictive taking into acounting data regardless of all the outliers. \n",
    "\n",
    "- When decreasing the value of C, coordinate descent decreases in less epochs than FISTA and ISTA. It is the one getting the closest to the minimum.\n",
    "\n",
    "$\\Rightarrow$ When the data is noisy we have to modify the constraints of the problem such that $\\mu$ is more constrained, as it happens setting C to a smaller value."
   ]
  },
  {
   "cell_type": "markdown",
   "metadata": {},
   "source": [
    "## V. Test on medium scale datasets\n",
    "\n",
    "The previous results are for a small dataset (n=300). We now increase the size of the dataset in order to have a medium scale dataset.\n",
    "\n",
    "We use C=40 and Gaussian Kernel.\n",
    "\n"
   ]
  },
  {
   "cell_type": "code",
   "execution_count": 72,
   "metadata": {},
   "outputs": [
    {
     "data": {
      "image/png": "[encoded data removed]",
      "text/plain": [
       "<Figure size 432x288 with 1 Axes>"
      ]
     },
     "metadata": {
      "needs_background": "light"
     },
     "output_type": "display_data"
    }
   ],
   "source": [
    "d = 1000\n",
    "X = make_blob_dataset(d)\n",
    "plt.scatter(X[:, 0], X[:, 1], color='b');\n",
    "n = len(X)"
   ]
  },
  {
   "cell_type": "code",
   "execution_count": 73,
   "metadata": {},
   "outputs": [
    {
     "name": "stdout",
     "output_type": "stream",
     "text": [
      "Step = 0.0011476055758871569\n",
      "Check_grad = 0.0004999645426494483\n",
      "We use : <function rbf_kernel at 0x7fb76ea14488>\n",
      "f_min = -1.7224113372110998\n"
     ]
    }
   ],
   "source": [
    "C = 40 \n",
    "model = svm(X, C, linear_kernel=False, gaussian_kernel=True)\n",
    "step = 1. / model.lipschitz_constant()\n",
    "print(\"Step = %s\" % step)\n",
    "\n",
    "# Check that the gradient and the loss numerically match\n",
    "check = check_grad(model.f, model.grad_f, np.random.randn(d))\n",
    "print(\"Check_grad = %s\" % check)\n",
    "kernel_choice = model.kernel_choice\n",
    "print(\"We use : %s\" % kernel_choice)\n",
    "\n",
    "mu_init = np.zeros(d)\n",
    "mu_min, f_min, _ = fmin_l_bfgs_b(model.loss, mu_init, model.grad_f, pgtol=1e-30, factr=1e-30, bounds=[(0, C/n) for i in range(n)])\n",
    "print(\"f_min = %s\" % f_min)"
   ]
  },
  {
   "cell_type": "code",
   "execution_count": 74,
   "metadata": {},
   "outputs": [],
   "source": [
    "K = kernel_choice(X,X)"
   ]
  },
  {
   "cell_type": "code",
   "execution_count": 75,
   "metadata": {},
   "outputs": [
    {
     "name": "stdout",
     "output_type": "stream",
     "text": [
      "Number of support vectors: 68\n"
     ]
    }
   ],
   "source": [
    "mu_support, idx_support = ocsvm_solver_v2(K, C)\n",
    "print(\"Number of support vectors: %s\" % idx_support.size)"
   ]
  },
  {
   "cell_type": "code",
   "execution_count": 76,
   "metadata": {},
   "outputs": [
    {
     "data": {
      "image/png": "[encoded data removed]",
      "text/plain": [
       "<Figure size 432x288 with 1 Axes>"
      ]
     },
     "metadata": {
      "needs_background": "light"
     },
     "output_type": "display_data"
    }
   ],
   "source": [
    "plot_ocsvm(X, mu_support, idx_support, rho=1, kernel=kernel_choice)"
   ]
  },
  {
   "cell_type": "code",
   "execution_count": 78,
   "metadata": {},
   "outputs": [],
   "source": [
    "# ISTA\n",
    "time0 = time.time()\n",
    "ista_inspector = inspector(model.loss, mu_min, verbose=False)\n",
    "mu_ista = ista(mu_init, model.grad_f, model.prox_g, n_iter, step, callback = ista_inspector)\n",
    "time_ista = time.time() - time0\n",
    "idx_support_ista = np.where(np.abs(mu_ista) > 1e-5)[0]\n",
    "mu_support_ista = mu_ista[idx_support_ista]\n",
    "# FISTA\n",
    "time0 = time.time()\n",
    "mu_init = np.zeros(d)\n",
    "fista_inspector = inspector(model.loss, mu_min, verbose=False)\n",
    "mu_fista = fista(mu_init, model.grad_f, model.prox_g, n_iter, step, callback = fista_inspector)\n",
    "time_fista = time.time() - time0\n",
    "idx_support_fista = np.where(np.abs(mu_fista) > 1e-5)[0]\n",
    "mu_support_fista = mu_fista[idx_support_fista]\n",
    "# CG\n",
    "time0 = time.time()\n",
    "n_iter_cd = n * n_iter\n",
    "mu_init = np.zeros(d)\n",
    "cd_inspector = inspector(model.loss, mu_min, verbose=False)\n",
    "mu_cd = Coordinate_descent(mu_init, model.K, cd_prox_g, C, n_iter_cd, callback = cd_inspector)\n",
    "time_cd = time.time() - time0\n",
    "idx_support_cd = np.where(np.abs(mu_cd) > 1e-5)[0]\n",
    "mu_support_cd = mu_cd[idx_support_cd]\n",
    "# LBFGS\n",
    "time0 = time.time()\n",
    "mu_init = np.zeros(d)\n",
    "bfgs_inspector = inspector(model.loss, mu_min, verbose=False)\n",
    "mu_bfgs, _, _ = fmin_l_bfgs_b(model.loss, mu_init, model.grad_f, maxiter=n_iter, callback=bfgs_inspector,\n",
    "                              bounds=[(0, C/n) for i in range(n)])\n",
    "time_lbfgs = time.time() - time0\n",
    "idx_support_lbfgs = np.where(np.abs(mu_bfgs) > 1e-5)[0]\n",
    "mu_support_lbfgs = mu_bfgs[idx_support_lbfgs]"
   ]
  },
  {
   "cell_type": "code",
   "execution_count": 79,
   "metadata": {},
   "outputs": [
    {
     "data": {
      "image/png": "[encoded data removed]",
      "text/plain": [
       "<Figure size 1080x360 with 2 Axes>"
      ]
     },
     "metadata": {
      "needs_background": "light"
     },
     "output_type": "display_data"
    }
   ],
   "source": [
    "plt.figure(figsize=(15, 5))\n",
    "plt.subplot(1, 2, 1)\n",
    "\n",
    "inspectors = [ista_inspector, fista_inspector, cd_inspector, bfgs_inspector]\n",
    "solvers = [\"ISTA\", \"FISTA\", \"Coordinate_descent\", \"BFGS\"]\n",
    "\n",
    "scale_cd = [n * i for i in range (n_iter)]\n",
    "\n",
    "for insp in inspectors:\n",
    "    if insp == cd_inspector:\n",
    "        objective = [insp.obj[i] for i in scale_cd]\n",
    "        plt.semilogy(objective, lw=2)\n",
    "    else:\n",
    "        plt.semilogy(insp.obj, lw=2)\n",
    "    \n",
    "    #plt.semilogy(insp.obj, lw=2)\n",
    "    plt.title(\"Loss\", fontsize=18)\n",
    "    plt.xlabel(\"Epoch\", fontsize=14)\n",
    "    plt.ylabel(\"objective\", fontsize=14)\n",
    "plt.legend(solvers)\n",
    "\n",
    "plt.subplot(1, 2, 2)\n",
    "\n",
    "for insp in inspectors:\n",
    "    if insp == cd_inspector:\n",
    "        error=[insp.err[i] for i in scale_cd]\n",
    "        plt.semilogy(error, lw=2)\n",
    "    else:\n",
    "        plt.semilogy(insp.err, lw=2)\n",
    "       \n",
    "    #plt.semilogy(insp.err, lw=2)\n",
    "    plt.title(\"Distance to optimum\", fontsize=18)\n",
    "    plt.xlabel(\"Epoch\", fontsize=14)\n",
    "    plt.ylabel(\"$\\|x_k - x^*\\|_2$\", fontsize=14)\n",
    "plt.legend(solvers);"
   ]
  },
  {
   "cell_type": "code",
   "execution_count": 80,
   "metadata": {},
   "outputs": [
    {
     "name": "stdout",
     "output_type": "stream",
     "text": [
      "f_min ista = -0.20730593269845315\n",
      "f_min fista = -0.21549399727736485\n",
      "f_min cd = -0.21524639238831395\n",
      "f_min lbfgs = -0.21514278430761116\n"
     ]
    }
   ],
   "source": [
    "print(\"f_min ista = \" + str(min_ista))\n",
    "print(\"f_min fista = \" + str(min_fista))\n",
    "print(\"f_min cd = \" + str(min_cd))\n",
    "print(\"f_min lbfgs = \" + str(min_lbfgs))"
   ]
  },
  {
   "cell_type": "code",
   "execution_count": 81,
   "metadata": {},
   "outputs": [
    {
     "name": "stdout",
     "output_type": "stream",
     "text": [
      "Total time needed for Ista (500 iterations): 0.6489989757537842\n",
      "Total time needed for Fista (500 iterations): 0.5265271663665771\n",
      "Total time needed for CD (500*300 iterations): 383.64732027053833\n",
      "Total time needed for CD (normalized for 500 iterations): 0.38364732027053833\n",
      "Total time needed for L-BFGS (500 iterations): 0.15617728233337402\n"
     ]
    }
   ],
   "source": [
    "print(\"Total time needed for Ista (500 iterations): \" + str(time_ista))\n",
    "print(\"Total time needed for Fista (500 iterations): \" + str(time_fista))\n",
    "print(\"Total time needed for CD (500*300 iterations): \" + str(time_cd))\n",
    "print(\"Total time needed for CD (normalized for 500 iterations): \" + str(time_cd/1000))\n",
    "print(\"Total time needed for L-BFGS (500 iterations): \" + str(time_lbfgs))"
   ]
  },
  {
   "cell_type": "markdown",
   "metadata": {},
   "source": [
    "The problem of the memory usage appears when we increase the size of the data.\n",
    "\n",
    "The L-BFGS and CD algorithms outperform ISTA and FISTA in terms of precision, number of iterations and running time.\n",
    "\n",
    "The CD algorithm has the advantage to process only a small part of the data at each iteration.\n",
    "The L-BFGS is also particularly useful in the context of medium dataset since it stores only a few vectors that are used to approximate the inverse of the hessian (the memory usage is linear in the dimension of problem).\n"
   ]
  },
  {
   "cell_type": "markdown",
   "metadata": {},
   "source": [
    "## BONUS (Hard): \n",
    "\n",
    "For the coordinate descent method there exist some smart updates provided you use a linear kernel.\n",
    "**Explain without implementing it how such smart updates could work for the coordinate descent solver.\n",
    "**"
   ]
  },
  {
   "cell_type": "markdown",
   "metadata": {},
   "source": [
    "For the coordinate descent, the updates are: \n",
    "```python\n",
    "    for k in range(n_iter + 1):\n",
    "\n",
    "        i = randint(0, n-1)\n",
    "        grad_f= A.dot(mu) - np.ones((n,))\n",
    "        step=1/L[i]\n",
    "        mu_new[i] = prox_g(mu[i]-step*grad_f, C, n)\n",
    "            \n",
    "        mu = mu_new.copy()\n",
    "```\n",
    "       \n",
    "Instead of computing the product\n",
    "```python       \n",
    "grad_f= A.dot(mu) - np.ones((n,))\n",
    "```\n",
    "whitch can be really costly when the size of the sample is big, we can compute a smart update where at each iteration i we only modify the ith line of grad_f :\n",
    "\n",
    "```python\n",
    "    Residual = A.dot(mu) - np.ones((n,))   \n",
    "    for k in range(n_iter + 1):\n",
    "\n",
    "        i = randint(0, n-1)\n",
    "        grad_f= Residual[i]\n",
    "        step=1/L[i]\n",
    "        mu_new[i] = prox_g(mu[i]-step*grad_f, C, n)\n",
    "            \n",
    "        Residual+=(mu_new[i]-mu[i])*A[i,:]\n",
    "        mu = mu_new.copy()\n",
    "```\n",
    "\n",
    "However, since the matrix $K$ is already computed and is not modified at all through the algorithm, this smart update works with all sorts of kernels, linear or not."
   ]
  },
  {
   "cell_type": "markdown",
   "metadata": {},
   "source": [
    "## Smart updates for SVM\n",
    "\n",
    "The following idea and proof was derived and mostly taken from the following article : https://www.csie.ntu.edu.tw/~cjlin/papers/cddual.pdf\n",
    "In each iteration of the coordinate descent, a single $\\mu_i $ is updated solving the following subproblem:\n",
    "\n",
    "$\n",
    "(\\mathcal{SP}): \n",
    " \\left\\{\n",
    " \\begin{array}{lll}\n",
    " min_{d} f(\\mu_i ^t + d e_i)\\\\\n",
    " \\\\\n",
    " 0 < \\mu_i ^t + d e_i <\\frac{C}{n}\n",
    " \\end{array}\n",
    " \\right .\n",
    "$\n",
    "\n",
    "where $e_i$ takes 1 in the $i^th$ coordinate and 0 everywhere else.\\\\\n",
    "\n",
    "We have then:\n",
    "\\begin{aligned}\n",
    "f(\\mu_i ^t + d e_i) &= \\frac{1}{2} (\\mu_i^t + de_i)^T\\ K\\ (\\mu_i^t + de_i) - (\\mu_i^t + de_i)^T \\mathbb(1)_n\\\\\n",
    "&= \\frac{d^2}{2}\\ e_i^T K e_i +\\ \\frac{1}{2} d e_i^T K \\mu_i^{t^T} +\\ \\frac{1}{2} \\mu_i^t Kde_i - d  + constante\\\\ \n",
    "&= \\frac{d^2}{2}\\ K_{ii} +\\ d e_i^T K \\mu_i ^{t^T} - d  + constante\\\\\n",
    "&= \\frac{d^2}{2}\\ K_{ii} +\\ \\nabla_i f(\\mu_i ^t)d  + constante\n",
    "\\end{aligned}\n",
    "\n",
    "the $\\mathcal(SP)$ problem has an optimum in d = 0. However, when d is equal to 0 there is no need to update $\\mu_i^t$ we move directly to $\\mu_{i+1}^t$.\\\\\n",
    "With the computation above, d = 0 is an optimum of the problem if and only if $\\nabla_i^d f(\\mu_i ^t)=0$, where: \\\\\n",
    "\n",
    "$\n",
    "(\\nabla_i^d f(x)): \n",
    " \\left\\{\n",
    " \\begin{aligned}\n",
    " \\begin{array}{lll}\n",
    " \\nabla_i f(x)\\ &if\\ 0 < x_i < \\frac{C}{n}\n",
    " \\\\\n",
    " min(0, \\nabla_i f(x))\\ &if\\ x_i = 0\n",
    " \\\\\n",
    " max(0, \\nabla_i f(x))\\ &if\\ x_i = \\frac{C}{n}\n",
    " \\end{array}\n",
    " \\end{aligned}\n",
    " \\right .\n",
    "$\n",
    "\n",
    "\n",
    "if $\\nabla_i^d f(\\mu_i ^t)\\neq0$ we have to find the optimal solution for $(\\mathcal{SP})$:\n",
    "\n",
    "\n",
    "if $K_{ii} > 0$, then $d_{Optimal} = \\frac{-\\nabla_i f(\\mu_i ^t)}{K_{ii}}$. we can update $\\mu_i^t$ as follows :\n",
    "$$\n",
    "\\mu_i^{t+1} = min(max(\\mu_i^{t} - \\frac{-\\nabla_i f(\\mu_i ^t)}{K_{ii}},0),\\frac{C}{n})\n",
    "$$\n",
    "\n",
    "In order to update $\\mu_i^t$ we need to compute $K_{ii}$ which can be stored easily since $K = X^T X$ and $\\nabla_i f(\\mu_i ^t)$. Therefore, we will be needing the first smart update we have introduced, so that the compute of $\\nabla_i f(\\mu_i ^t)$ does not cost much.\\\\\n",
    "\n",
    "if $K_{ii}=0$ then $x_i = 0$, we have then $\\nabla_i f(\\mu_i ^t) = -1$, thus $\\mu_i^{t+1} = \\frac{C}{n}$\n",
    "\n",
    "We obtain the following algorithm: \\\\\n",
    "\n",
    "- while $\\mu$ not optimal :\n",
    "\n",
    "$G = K\\mu - 1$\n",
    "\n",
    "For i = 1 .. n\n",
    "\n",
    "\n",
    "$\n",
    "PG: \n",
    " \\left\\{\n",
    " \\begin{aligned}\n",
    " \\begin{array}{lll}\n",
    " G\\ &if\\ 0 < x_i < \\frac{C}{n}\n",
    " \\\\\n",
    " min(0, G)\\ &if\\ x_i = 0\n",
    " \\\\\n",
    " max(0, G)\\ &if\\ x_i = \\frac{C}{n}\n",
    " \\end{array}\n",
    " \\end{aligned}\n",
    " \\right .\n",
    "$\n",
    "\n",
    "\n",
    "if |PG|$\\neq 0$:\n",
    "\n",
    "\n",
    "$\n",
    "\\mu_i^t = \\mu_{i,new}^t\\\\\n",
    "\\mu_{i,new}^t= min(max(\\mu_i^t - \\frac{G}{K_{ii}},0),\\frac{C}{n}) \\\\\n",
    "G = (mu_{i,new}^t-mu_{i})*K_{i,:}\n",
    "$\n",
    "\n",
    "\n",
    "If we ever want to get a more detailed proof taking into acount matters of memory and RAM, we can also look into this article : http://wan.poly.edu/KDD2012/docs/p177.pdf which goes deeper into the problem especially by using the dual problem property that can potentially reduce the size of optimization problem by carefully choosing a subset of the data."
   ]
  },
  {
   "cell_type": "code",
   "execution_count": null,
   "metadata": {},
   "outputs": [],
   "source": []
  }
 ],
 "metadata": {
  "kernelspec": {
   "display_name": "Python 3",
   "language": "python",
   "name": "python3"
  },
  "language_info": {
   "codemirror_mode": {
    "name": "ipython",
    "version": 3
   },
   "file_extension": ".py",
   "mimetype": "text/x-python",
   "name": "python",
   "nbconvert_exporter": "python",
   "pygments_lexer": "ipython3",
   "version": "3.7.1"
  }
 },
 "nbformat": 4,
 "nbformat_minor": 1
}
